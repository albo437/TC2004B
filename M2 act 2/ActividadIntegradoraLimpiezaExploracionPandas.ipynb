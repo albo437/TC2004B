{
 "cells": [
  {
   "cell_type": "markdown",
   "metadata": {
    "id": "9ve9qw-sRNPS"
   },
   "source": [
    "**Actividad Integradora**"
   ]
  },
  {
   "cell_type": "markdown",
   "metadata": {
    "id": "zs9NBgoeRGl5"
   },
   "source": [
    "# 1 Importar Librería"
   ]
  },
  {
   "cell_type": "code",
   "execution_count": 112,
   "metadata": {
    "executionInfo": {
     "elapsed": 41,
     "status": "ok",
     "timestamp": 1740004313080,
     "user": {
      "displayName": "María de los Ángeles Constantino González",
      "userId": "00856176624250093095"
     },
     "user_tz": 360
    },
    "id": "fTTbfe7dQ-NV"
   },
   "outputs": [],
   "source": [
    "import pandas as pd\n",
    "import numpy as np\n",
    "import matplotlib.pyplot as plt\n",
    "\n",
    "import datetime\n"
   ]
  },
  {
   "cell_type": "code",
   "execution_count": 113,
   "metadata": {
    "colab": {
     "base_uri": "https://localhost:8080/",
     "height": 634
    },
    "executionInfo": {
     "elapsed": 192,
     "status": "ok",
     "timestamp": 1740004326128,
     "user": {
      "displayName": "María de los Ángeles Constantino González",
      "userId": "00856176624250093095"
     },
     "user_tz": 360
    },
    "id": "_ksPh4q-RY22",
    "outputId": "507abe0c-6ea2-4f3c-d384-3cfb36a59cd1"
   },
   "outputs": [
    {
     "data": {
      "text/html": [
       "<div>\n",
       "<style scoped>\n",
       "    .dataframe tbody tr th:only-of-type {\n",
       "        vertical-align: middle;\n",
       "    }\n",
       "\n",
       "    .dataframe tbody tr th {\n",
       "        vertical-align: top;\n",
       "    }\n",
       "\n",
       "    .dataframe thead th {\n",
       "        text-align: right;\n",
       "    }\n",
       "</style>\n",
       "<table border=\"1\" class=\"dataframe\">\n",
       "  <thead>\n",
       "    <tr style=\"text-align: right;\">\n",
       "      <th></th>\n",
       "      <th>Referencia</th>\n",
       "      <th>Fecha Alta</th>\n",
       "      <th>Tipo</th>\n",
       "      <th>Operación</th>\n",
       "      <th>Provincia</th>\n",
       "      <th>Superficie</th>\n",
       "      <th>Precio Venta</th>\n",
       "      <th>Fecha Venta</th>\n",
       "      <th>Vendedor</th>\n",
       "      <th>Edad del vendedor</th>\n",
       "      <th>Numero cuartos</th>\n",
       "    </tr>\n",
       "  </thead>\n",
       "  <tbody>\n",
       "    <tr>\n",
       "      <th>0</th>\n",
       "      <td>16</td>\n",
       "      <td>2004-01-05</td>\n",
       "      <td>Casa</td>\n",
       "      <td>Alquiler</td>\n",
       "      <td>Girona</td>\n",
       "      <td>179</td>\n",
       "      <td>937960</td>\n",
       "      <td>2004-11-21</td>\n",
       "      <td>Carmen</td>\n",
       "      <td>43</td>\n",
       "      <td>1.0</td>\n",
       "    </tr>\n",
       "    <tr>\n",
       "      <th>1</th>\n",
       "      <td>17</td>\n",
       "      <td>2004-01-05</td>\n",
       "      <td>Casa</td>\n",
       "      <td>Alquiler</td>\n",
       "      <td>Tarragona</td>\n",
       "      <td>58</td>\n",
       "      <td>358846</td>\n",
       "      <td>2004-10-08</td>\n",
       "      <td>Luisa</td>\n",
       "      <td>22</td>\n",
       "      <td>2.0</td>\n",
       "    </tr>\n",
       "    <tr>\n",
       "      <th>2</th>\n",
       "      <td>23</td>\n",
       "      <td>2004-01-10</td>\n",
       "      <td>Casa</td>\n",
       "      <td>Alquiler</td>\n",
       "      <td>Girona</td>\n",
       "      <td>183</td>\n",
       "      <td>1438929</td>\n",
       "      <td>2004-04-21</td>\n",
       "      <td>Luisa</td>\n",
       "      <td>70</td>\n",
       "      <td>1.0</td>\n",
       "    </tr>\n",
       "    <tr>\n",
       "      <th>3</th>\n",
       "      <td>28</td>\n",
       "      <td>2004-01-12</td>\n",
       "      <td>Casa</td>\n",
       "      <td>Alquiler</td>\n",
       "      <td>Barcelona</td>\n",
       "      <td>187</td>\n",
       "      <td>1660560</td>\n",
       "      <td>2004-06-16</td>\n",
       "      <td>Joaquín</td>\n",
       "      <td>55</td>\n",
       "      <td>NaN</td>\n",
       "    </tr>\n",
       "    <tr>\n",
       "      <th>4</th>\n",
       "      <td>29</td>\n",
       "      <td>2004-01-12</td>\n",
       "      <td>Casa</td>\n",
       "      <td>Alquiler</td>\n",
       "      <td>Tarragona</td>\n",
       "      <td>91</td>\n",
       "      <td>753571</td>\n",
       "      <td>2004-07-07</td>\n",
       "      <td>Luisa</td>\n",
       "      <td>26</td>\n",
       "      <td>2.0</td>\n",
       "    </tr>\n",
       "    <tr>\n",
       "      <th>...</th>\n",
       "      <td>...</td>\n",
       "      <td>...</td>\n",
       "      <td>...</td>\n",
       "      <td>...</td>\n",
       "      <td>...</td>\n",
       "      <td>...</td>\n",
       "      <td>...</td>\n",
       "      <td>...</td>\n",
       "      <td>...</td>\n",
       "      <td>...</td>\n",
       "      <td>...</td>\n",
       "    </tr>\n",
       "    <tr>\n",
       "      <th>495</th>\n",
       "      <td>452</td>\n",
       "      <td>2004-06-19</td>\n",
       "      <td>Suelo</td>\n",
       "      <td>Venta</td>\n",
       "      <td>Lleida</td>\n",
       "      <td>215</td>\n",
       "      <td>2097970</td>\n",
       "      <td>2004-11-13</td>\n",
       "      <td>Pedro</td>\n",
       "      <td>45</td>\n",
       "      <td>NaN</td>\n",
       "    </tr>\n",
       "    <tr>\n",
       "      <th>496</th>\n",
       "      <td>453</td>\n",
       "      <td>2004-06-19</td>\n",
       "      <td>Suelo</td>\n",
       "      <td>Venta</td>\n",
       "      <td>Girona</td>\n",
       "      <td>185</td>\n",
       "      <td>1616900</td>\n",
       "      <td>2005-04-08</td>\n",
       "      <td>Jesús</td>\n",
       "      <td>35</td>\n",
       "      <td>NaN</td>\n",
       "    </tr>\n",
       "    <tr>\n",
       "      <th>497</th>\n",
       "      <td>472</td>\n",
       "      <td>2004-06-25</td>\n",
       "      <td>Suelo</td>\n",
       "      <td>Venta</td>\n",
       "      <td>Tarragona</td>\n",
       "      <td>297</td>\n",
       "      <td>1820016</td>\n",
       "      <td>2005-01-08</td>\n",
       "      <td>María</td>\n",
       "      <td>NaN</td>\n",
       "      <td>2.0</td>\n",
       "    </tr>\n",
       "    <tr>\n",
       "      <th>498</th>\n",
       "      <td>474</td>\n",
       "      <td>2004-06-25</td>\n",
       "      <td>Suelo</td>\n",
       "      <td>Venta</td>\n",
       "      <td>Girona</td>\n",
       "      <td>199</td>\n",
       "      <td>1622646</td>\n",
       "      <td>2005-06-23</td>\n",
       "      <td>Jesús</td>\n",
       "      <td>NaN</td>\n",
       "      <td>NaN</td>\n",
       "    </tr>\n",
       "    <tr>\n",
       "      <th>499</th>\n",
       "      <td>480</td>\n",
       "      <td>2004-06-28</td>\n",
       "      <td>Suelo</td>\n",
       "      <td>Venta</td>\n",
       "      <td>Lleida</td>\n",
       "      <td>58</td>\n",
       "      <td>530816</td>\n",
       "      <td>2004-10-07</td>\n",
       "      <td>Luisa</td>\n",
       "      <td>55</td>\n",
       "      <td>2.0</td>\n",
       "    </tr>\n",
       "  </tbody>\n",
       "</table>\n",
       "<p>500 rows × 11 columns</p>\n",
       "</div>"
      ],
      "text/plain": [
       "     Referencia Fecha Alta   Tipo Operación  Provincia Superficie  \\\n",
       "0            16 2004-01-05   Casa  Alquiler     Girona        179   \n",
       "1            17 2004-01-05   Casa  Alquiler  Tarragona         58   \n",
       "2            23 2004-01-10   Casa  Alquiler     Girona        183   \n",
       "3            28 2004-01-12   Casa  Alquiler  Barcelona        187   \n",
       "4            29 2004-01-12   Casa  Alquiler  Tarragona         91   \n",
       "..          ...        ...    ...       ...        ...        ...   \n",
       "495         452 2004-06-19  Suelo     Venta     Lleida        215   \n",
       "496         453 2004-06-19  Suelo     Venta     Girona        185   \n",
       "497         472 2004-06-25  Suelo     Venta  Tarragona        297   \n",
       "498         474 2004-06-25  Suelo     Venta     Girona        199   \n",
       "499         480 2004-06-28  Suelo     Venta     Lleida         58   \n",
       "\n",
       "    Precio Venta Fecha Venta Vendedor Edad del vendedor  Numero cuartos  \n",
       "0         937960  2004-11-21   Carmen                43             1.0  \n",
       "1         358846  2004-10-08    Luisa                22             2.0  \n",
       "2        1438929  2004-04-21    Luisa                70             1.0  \n",
       "3        1660560  2004-06-16  Joaquín                55             NaN  \n",
       "4         753571  2004-07-07    Luisa                26             2.0  \n",
       "..           ...         ...      ...               ...             ...  \n",
       "495      2097970  2004-11-13    Pedro                45             NaN  \n",
       "496      1616900  2005-04-08    Jesús                35             NaN  \n",
       "497      1820016  2005-01-08    María               NaN             2.0  \n",
       "498      1622646  2005-06-23    Jesús               NaN             NaN  \n",
       "499       530816  2004-10-07    Luisa                55             2.0  \n",
       "\n",
       "[500 rows x 11 columns]"
      ]
     },
     "execution_count": 113,
     "metadata": {},
     "output_type": "execute_result"
    }
   ],
   "source": [
    "df = pd.read_excel('BD_Inmuebles_Limpieza_SUCIAMAS.xlsx')\n",
    "df"
   ]
  },
  {
   "cell_type": "code",
   "execution_count": 114,
   "metadata": {
    "colab": {
     "base_uri": "https://localhost:8080/",
     "height": 634
    },
    "executionInfo": {
     "elapsed": 48,
     "status": "ok",
     "timestamp": 1740004332426,
     "user": {
      "displayName": "María de los Ángeles Constantino González",
      "userId": "00856176624250093095"
     },
     "user_tz": 360
    },
    "id": "fTVp0vy4RbwP",
    "outputId": "5ea3ea92-0853-4a1d-bd10-31468105565d"
   },
   "outputs": [
    {
     "data": {
      "text/html": [
       "<div>\n",
       "<style scoped>\n",
       "    .dataframe tbody tr th:only-of-type {\n",
       "        vertical-align: middle;\n",
       "    }\n",
       "\n",
       "    .dataframe tbody tr th {\n",
       "        vertical-align: top;\n",
       "    }\n",
       "\n",
       "    .dataframe thead th {\n",
       "        text-align: right;\n",
       "    }\n",
       "</style>\n",
       "<table border=\"1\" class=\"dataframe\">\n",
       "  <thead>\n",
       "    <tr style=\"text-align: right;\">\n",
       "      <th></th>\n",
       "      <th>index</th>\n",
       "      <th>Referencia</th>\n",
       "      <th>Fecha Alta</th>\n",
       "      <th>Tipo</th>\n",
       "      <th>Operación</th>\n",
       "      <th>Provincia</th>\n",
       "      <th>Superficie</th>\n",
       "      <th>Precio Venta</th>\n",
       "      <th>Fecha Venta</th>\n",
       "      <th>Vendedor</th>\n",
       "      <th>Edad del vendedor</th>\n",
       "      <th>Numero cuartos</th>\n",
       "    </tr>\n",
       "  </thead>\n",
       "  <tbody>\n",
       "    <tr>\n",
       "      <th>0</th>\n",
       "      <td>0</td>\n",
       "      <td>16</td>\n",
       "      <td>2004-01-05</td>\n",
       "      <td>Casa</td>\n",
       "      <td>Alquiler</td>\n",
       "      <td>Girona</td>\n",
       "      <td>179</td>\n",
       "      <td>937960</td>\n",
       "      <td>2004-11-21</td>\n",
       "      <td>Carmen</td>\n",
       "      <td>43</td>\n",
       "      <td>1.0</td>\n",
       "    </tr>\n",
       "    <tr>\n",
       "      <th>1</th>\n",
       "      <td>1</td>\n",
       "      <td>17</td>\n",
       "      <td>2004-01-05</td>\n",
       "      <td>Casa</td>\n",
       "      <td>Alquiler</td>\n",
       "      <td>Tarragona</td>\n",
       "      <td>58</td>\n",
       "      <td>358846</td>\n",
       "      <td>2004-10-08</td>\n",
       "      <td>Luisa</td>\n",
       "      <td>22</td>\n",
       "      <td>2.0</td>\n",
       "    </tr>\n",
       "    <tr>\n",
       "      <th>2</th>\n",
       "      <td>2</td>\n",
       "      <td>23</td>\n",
       "      <td>2004-01-10</td>\n",
       "      <td>Casa</td>\n",
       "      <td>Alquiler</td>\n",
       "      <td>Girona</td>\n",
       "      <td>183</td>\n",
       "      <td>1438929</td>\n",
       "      <td>2004-04-21</td>\n",
       "      <td>Luisa</td>\n",
       "      <td>70</td>\n",
       "      <td>1.0</td>\n",
       "    </tr>\n",
       "    <tr>\n",
       "      <th>3</th>\n",
       "      <td>3</td>\n",
       "      <td>28</td>\n",
       "      <td>2004-01-12</td>\n",
       "      <td>Casa</td>\n",
       "      <td>Alquiler</td>\n",
       "      <td>Barcelona</td>\n",
       "      <td>187</td>\n",
       "      <td>1660560</td>\n",
       "      <td>2004-06-16</td>\n",
       "      <td>Joaquín</td>\n",
       "      <td>55</td>\n",
       "      <td>NaN</td>\n",
       "    </tr>\n",
       "    <tr>\n",
       "      <th>4</th>\n",
       "      <td>4</td>\n",
       "      <td>29</td>\n",
       "      <td>2004-01-12</td>\n",
       "      <td>Casa</td>\n",
       "      <td>Alquiler</td>\n",
       "      <td>Tarragona</td>\n",
       "      <td>91</td>\n",
       "      <td>753571</td>\n",
       "      <td>2004-07-07</td>\n",
       "      <td>Luisa</td>\n",
       "      <td>26</td>\n",
       "      <td>2.0</td>\n",
       "    </tr>\n",
       "    <tr>\n",
       "      <th>...</th>\n",
       "      <td>...</td>\n",
       "      <td>...</td>\n",
       "      <td>...</td>\n",
       "      <td>...</td>\n",
       "      <td>...</td>\n",
       "      <td>...</td>\n",
       "      <td>...</td>\n",
       "      <td>...</td>\n",
       "      <td>...</td>\n",
       "      <td>...</td>\n",
       "      <td>...</td>\n",
       "      <td>...</td>\n",
       "    </tr>\n",
       "    <tr>\n",
       "      <th>495</th>\n",
       "      <td>495</td>\n",
       "      <td>452</td>\n",
       "      <td>2004-06-19</td>\n",
       "      <td>Suelo</td>\n",
       "      <td>Venta</td>\n",
       "      <td>Lleida</td>\n",
       "      <td>215</td>\n",
       "      <td>2097970</td>\n",
       "      <td>2004-11-13</td>\n",
       "      <td>Pedro</td>\n",
       "      <td>45</td>\n",
       "      <td>NaN</td>\n",
       "    </tr>\n",
       "    <tr>\n",
       "      <th>496</th>\n",
       "      <td>496</td>\n",
       "      <td>453</td>\n",
       "      <td>2004-06-19</td>\n",
       "      <td>Suelo</td>\n",
       "      <td>Venta</td>\n",
       "      <td>Girona</td>\n",
       "      <td>185</td>\n",
       "      <td>1616900</td>\n",
       "      <td>2005-04-08</td>\n",
       "      <td>Jesús</td>\n",
       "      <td>35</td>\n",
       "      <td>NaN</td>\n",
       "    </tr>\n",
       "    <tr>\n",
       "      <th>497</th>\n",
       "      <td>497</td>\n",
       "      <td>472</td>\n",
       "      <td>2004-06-25</td>\n",
       "      <td>Suelo</td>\n",
       "      <td>Venta</td>\n",
       "      <td>Tarragona</td>\n",
       "      <td>297</td>\n",
       "      <td>1820016</td>\n",
       "      <td>2005-01-08</td>\n",
       "      <td>María</td>\n",
       "      <td>NaN</td>\n",
       "      <td>2.0</td>\n",
       "    </tr>\n",
       "    <tr>\n",
       "      <th>498</th>\n",
       "      <td>498</td>\n",
       "      <td>474</td>\n",
       "      <td>2004-06-25</td>\n",
       "      <td>Suelo</td>\n",
       "      <td>Venta</td>\n",
       "      <td>Girona</td>\n",
       "      <td>199</td>\n",
       "      <td>1622646</td>\n",
       "      <td>2005-06-23</td>\n",
       "      <td>Jesús</td>\n",
       "      <td>NaN</td>\n",
       "      <td>NaN</td>\n",
       "    </tr>\n",
       "    <tr>\n",
       "      <th>499</th>\n",
       "      <td>499</td>\n",
       "      <td>480</td>\n",
       "      <td>2004-06-28</td>\n",
       "      <td>Suelo</td>\n",
       "      <td>Venta</td>\n",
       "      <td>Lleida</td>\n",
       "      <td>58</td>\n",
       "      <td>530816</td>\n",
       "      <td>2004-10-07</td>\n",
       "      <td>Luisa</td>\n",
       "      <td>55</td>\n",
       "      <td>2.0</td>\n",
       "    </tr>\n",
       "  </tbody>\n",
       "</table>\n",
       "<p>500 rows × 12 columns</p>\n",
       "</div>"
      ],
      "text/plain": [
       "     index  Referencia Fecha Alta   Tipo Operación  Provincia Superficie  \\\n",
       "0        0          16 2004-01-05   Casa  Alquiler     Girona        179   \n",
       "1        1          17 2004-01-05   Casa  Alquiler  Tarragona         58   \n",
       "2        2          23 2004-01-10   Casa  Alquiler     Girona        183   \n",
       "3        3          28 2004-01-12   Casa  Alquiler  Barcelona        187   \n",
       "4        4          29 2004-01-12   Casa  Alquiler  Tarragona         91   \n",
       "..     ...         ...        ...    ...       ...        ...        ...   \n",
       "495    495         452 2004-06-19  Suelo     Venta     Lleida        215   \n",
       "496    496         453 2004-06-19  Suelo     Venta     Girona        185   \n",
       "497    497         472 2004-06-25  Suelo     Venta  Tarragona        297   \n",
       "498    498         474 2004-06-25  Suelo     Venta     Girona        199   \n",
       "499    499         480 2004-06-28  Suelo     Venta     Lleida         58   \n",
       "\n",
       "    Precio Venta Fecha Venta Vendedor Edad del vendedor  Numero cuartos  \n",
       "0         937960  2004-11-21   Carmen                43             1.0  \n",
       "1         358846  2004-10-08    Luisa                22             2.0  \n",
       "2        1438929  2004-04-21    Luisa                70             1.0  \n",
       "3        1660560  2004-06-16  Joaquín                55             NaN  \n",
       "4         753571  2004-07-07    Luisa                26             2.0  \n",
       "..           ...         ...      ...               ...             ...  \n",
       "495      2097970  2004-11-13    Pedro                45             NaN  \n",
       "496      1616900  2005-04-08    Jesús                35             NaN  \n",
       "497      1820016  2005-01-08    María               NaN             2.0  \n",
       "498      1622646  2005-06-23    Jesús               NaN             NaN  \n",
       "499       530816  2004-10-07    Luisa                55             2.0  \n",
       "\n",
       "[500 rows x 12 columns]"
      ]
     },
     "execution_count": 114,
     "metadata": {},
     "output_type": "execute_result"
    }
   ],
   "source": [
    "#Reiniciamos el index\n",
    "df.reset_index()"
   ]
  },
  {
   "cell_type": "code",
   "execution_count": 115,
   "metadata": {
    "colab": {
     "base_uri": "https://localhost:8080/",
     "height": 605
    },
    "executionInfo": {
     "elapsed": 43,
     "status": "ok",
     "timestamp": 1740004336930,
     "user": {
      "displayName": "María de los Ángeles Constantino González",
      "userId": "00856176624250093095"
     },
     "user_tz": 360
    },
    "id": "bsSw2VhHRfLL",
    "outputId": "83fdf784-7ce5-4700-a4a6-e7ba39779fb1"
   },
   "outputs": [
    {
     "data": {
      "text/html": [
       "<div>\n",
       "<style scoped>\n",
       "    .dataframe tbody tr th:only-of-type {\n",
       "        vertical-align: middle;\n",
       "    }\n",
       "\n",
       "    .dataframe tbody tr th {\n",
       "        vertical-align: top;\n",
       "    }\n",
       "\n",
       "    .dataframe thead th {\n",
       "        text-align: right;\n",
       "    }\n",
       "</style>\n",
       "<table border=\"1\" class=\"dataframe\">\n",
       "  <thead>\n",
       "    <tr style=\"text-align: right;\">\n",
       "      <th></th>\n",
       "      <th>Referencia</th>\n",
       "      <th>Fecha Alta</th>\n",
       "      <th>Tipo</th>\n",
       "      <th>Operación</th>\n",
       "      <th>Provincia</th>\n",
       "      <th>Superficie</th>\n",
       "      <th>Precio Venta</th>\n",
       "      <th>Fecha Venta</th>\n",
       "      <th>Vendedor</th>\n",
       "      <th>Edad del vendedor</th>\n",
       "      <th>Numero cuartos</th>\n",
       "    </tr>\n",
       "    <tr>\n",
       "      <th>Id</th>\n",
       "      <th></th>\n",
       "      <th></th>\n",
       "      <th></th>\n",
       "      <th></th>\n",
       "      <th></th>\n",
       "      <th></th>\n",
       "      <th></th>\n",
       "      <th></th>\n",
       "      <th></th>\n",
       "      <th></th>\n",
       "      <th></th>\n",
       "    </tr>\n",
       "  </thead>\n",
       "  <tbody>\n",
       "    <tr>\n",
       "      <th>0</th>\n",
       "      <td>16</td>\n",
       "      <td>2004-01-05</td>\n",
       "      <td>Casa</td>\n",
       "      <td>Alquiler</td>\n",
       "      <td>Girona</td>\n",
       "      <td>179</td>\n",
       "      <td>937960</td>\n",
       "      <td>2004-11-21</td>\n",
       "      <td>Carmen</td>\n",
       "      <td>43</td>\n",
       "      <td>1.0</td>\n",
       "    </tr>\n",
       "    <tr>\n",
       "      <th>1</th>\n",
       "      <td>17</td>\n",
       "      <td>2004-01-05</td>\n",
       "      <td>Casa</td>\n",
       "      <td>Alquiler</td>\n",
       "      <td>Tarragona</td>\n",
       "      <td>58</td>\n",
       "      <td>358846</td>\n",
       "      <td>2004-10-08</td>\n",
       "      <td>Luisa</td>\n",
       "      <td>22</td>\n",
       "      <td>2.0</td>\n",
       "    </tr>\n",
       "    <tr>\n",
       "      <th>2</th>\n",
       "      <td>23</td>\n",
       "      <td>2004-01-10</td>\n",
       "      <td>Casa</td>\n",
       "      <td>Alquiler</td>\n",
       "      <td>Girona</td>\n",
       "      <td>183</td>\n",
       "      <td>1438929</td>\n",
       "      <td>2004-04-21</td>\n",
       "      <td>Luisa</td>\n",
       "      <td>70</td>\n",
       "      <td>1.0</td>\n",
       "    </tr>\n",
       "    <tr>\n",
       "      <th>3</th>\n",
       "      <td>28</td>\n",
       "      <td>2004-01-12</td>\n",
       "      <td>Casa</td>\n",
       "      <td>Alquiler</td>\n",
       "      <td>Barcelona</td>\n",
       "      <td>187</td>\n",
       "      <td>1660560</td>\n",
       "      <td>2004-06-16</td>\n",
       "      <td>Joaquín</td>\n",
       "      <td>55</td>\n",
       "      <td>NaN</td>\n",
       "    </tr>\n",
       "    <tr>\n",
       "      <th>4</th>\n",
       "      <td>29</td>\n",
       "      <td>2004-01-12</td>\n",
       "      <td>Casa</td>\n",
       "      <td>Alquiler</td>\n",
       "      <td>Tarragona</td>\n",
       "      <td>91</td>\n",
       "      <td>753571</td>\n",
       "      <td>2004-07-07</td>\n",
       "      <td>Luisa</td>\n",
       "      <td>26</td>\n",
       "      <td>2.0</td>\n",
       "    </tr>\n",
       "    <tr>\n",
       "      <th>5</th>\n",
       "      <td>32</td>\n",
       "      <td>2004-01-13</td>\n",
       "      <td>Casa</td>\n",
       "      <td>Alquiler</td>\n",
       "      <td>Girona</td>\n",
       "      <td>92</td>\n",
       "      <td>627348</td>\n",
       "      <td>2004-04-12</td>\n",
       "      <td>María</td>\n",
       "      <td>12</td>\n",
       "      <td>2.0</td>\n",
       "    </tr>\n",
       "    <tr>\n",
       "      <th>6</th>\n",
       "      <td>70</td>\n",
       "      <td>2004-01-28</td>\n",
       "      <td>Casa</td>\n",
       "      <td>Alquiler</td>\n",
       "      <td>NaN</td>\n",
       "      <td>179</td>\n",
       "      <td>1647695</td>\n",
       "      <td>2004-07-12</td>\n",
       "      <td>María</td>\n",
       "      <td>44</td>\n",
       "      <td>NaN</td>\n",
       "    </tr>\n",
       "    <tr>\n",
       "      <th>7</th>\n",
       "      <td>103</td>\n",
       "      <td>2004-02-08</td>\n",
       "      <td>Casa</td>\n",
       "      <td>Alquiler</td>\n",
       "      <td>Girona</td>\n",
       "      <td>258</td>\n",
       "      <td>1188090</td>\n",
       "      <td>2004-07-19</td>\n",
       "      <td>María</td>\n",
       "      <td>35</td>\n",
       "      <td>2.0</td>\n",
       "    </tr>\n",
       "    <tr>\n",
       "      <th>8</th>\n",
       "      <td>122</td>\n",
       "      <td>2004-02-17</td>\n",
       "      <td>Casa</td>\n",
       "      <td>Alquiler</td>\n",
       "      <td>Barcelona</td>\n",
       "      <td>270</td>\n",
       "      <td>1385910</td>\n",
       "      <td>2005-02-05</td>\n",
       "      <td>Pedro</td>\n",
       "      <td>34</td>\n",
       "      <td>2.0</td>\n",
       "    </tr>\n",
       "    <tr>\n",
       "      <th>9</th>\n",
       "      <td>150</td>\n",
       "      <td>2004-03-01</td>\n",
       "      <td>Casa</td>\n",
       "      <td>Alquiler</td>\n",
       "      <td>Lleida</td>\n",
       "      <td>212</td>\n",
       "      <td>1800516</td>\n",
       "      <td>2004-12-19</td>\n",
       "      <td>Jesús</td>\n",
       "      <td>22</td>\n",
       "      <td>2.0</td>\n",
       "    </tr>\n",
       "  </tbody>\n",
       "</table>\n",
       "</div>"
      ],
      "text/plain": [
       "    Referencia Fecha Alta  Tipo Operación  Provincia Superficie Precio Venta  \\\n",
       "Id                                                                             \n",
       "0           16 2004-01-05  Casa  Alquiler     Girona        179       937960   \n",
       "1           17 2004-01-05  Casa  Alquiler  Tarragona         58       358846   \n",
       "2           23 2004-01-10  Casa  Alquiler     Girona        183      1438929   \n",
       "3           28 2004-01-12  Casa  Alquiler  Barcelona        187      1660560   \n",
       "4           29 2004-01-12  Casa  Alquiler  Tarragona         91       753571   \n",
       "5           32 2004-01-13  Casa  Alquiler     Girona         92       627348   \n",
       "6           70 2004-01-28  Casa  Alquiler        NaN        179      1647695   \n",
       "7          103 2004-02-08  Casa  Alquiler     Girona        258      1188090   \n",
       "8          122 2004-02-17  Casa  Alquiler  Barcelona        270      1385910   \n",
       "9          150 2004-03-01  Casa  Alquiler     Lleida        212      1800516   \n",
       "\n",
       "   Fecha Venta Vendedor Edad del vendedor  Numero cuartos  \n",
       "Id                                                         \n",
       "0   2004-11-21   Carmen                43             1.0  \n",
       "1   2004-10-08    Luisa                22             2.0  \n",
       "2   2004-04-21    Luisa                70             1.0  \n",
       "3   2004-06-16  Joaquín                55             NaN  \n",
       "4   2004-07-07    Luisa                26             2.0  \n",
       "5   2004-04-12    María                12             2.0  \n",
       "6   2004-07-12    María                44             NaN  \n",
       "7   2004-07-19    María                35             2.0  \n",
       "8   2005-02-05    Pedro                34             2.0  \n",
       "9   2004-12-19    Jesús                22             2.0  "
      ]
     },
     "execution_count": 115,
     "metadata": {},
     "output_type": "execute_result"
    }
   ],
   "source": [
    "#Cambiamos el nombre del index por Id\n",
    "df.index.names = ['Id']\n",
    "\n",
    "#Imprimimos el dataframe\n",
    "df.head(10)"
   ]
  },
  {
   "cell_type": "markdown",
   "metadata": {
    "id": "ggoUO-q3wBcq"
   },
   "source": [
    "# 3 Análisis exploratorio de datos (EDA)\n",
    "\n",
    "Proceso:\n",
    "*   Forma de la base de datos\n",
    "*   Ver la cabeza y la cola\n",
    "*   Tipos de datos\n",
    "*   Estadística básica\n",
    "\n",
    "La exploración de análisis también utiliza gráficas, por lo que este proceso lo haremos también después de la limpieza para comparar.\n",
    "\n",
    "\n",
    "\n",
    "\n"
   ]
  },
  {
   "cell_type": "markdown",
   "metadata": {
    "id": "gObE0gcqwy3S"
   },
   "source": [
    "## Forma de la base de datos"
   ]
  },
  {
   "cell_type": "code",
   "execution_count": 116,
   "metadata": {
    "colab": {
     "base_uri": "https://localhost:8080/"
    },
    "executionInfo": {
     "elapsed": 34,
     "status": "ok",
     "timestamp": 1740004347797,
     "user": {
      "displayName": "María de los Ángeles Constantino González",
      "userId": "00856176624250093095"
     },
     "user_tz": 360
    },
    "id": "g22GMmWtu_nT",
    "outputId": "85793a77-74a4-40d8-8b34-8ae63a3d6d52"
   },
   "outputs": [
    {
     "data": {
      "text/plain": [
       "(500, 11)"
      ]
     },
     "execution_count": 116,
     "metadata": {},
     "output_type": "execute_result"
    }
   ],
   "source": [
    "#Usamos función shape para el total de renglones y columnas.\n",
    "df.shape"
   ]
  },
  {
   "cell_type": "code",
   "execution_count": 117,
   "metadata": {
    "colab": {
     "base_uri": "https://localhost:8080/"
    },
    "executionInfo": {
     "elapsed": 11,
     "status": "ok",
     "timestamp": 1740004349195,
     "user": {
      "displayName": "María de los Ángeles Constantino González",
      "userId": "00856176624250093095"
     },
     "user_tz": 360
    },
    "id": "yTKn4lOQuWWU",
    "outputId": "13025a43-3597-494d-a532-f0a25a563e90"
   },
   "outputs": [
    {
     "data": {
      "text/plain": [
       "500"
      ]
     },
     "execution_count": 117,
     "metadata": {},
     "output_type": "execute_result"
    }
   ],
   "source": [
    "#Podemos ver solamente los renglones\n",
    "len(df) #Renglones"
   ]
  },
  {
   "cell_type": "code",
   "execution_count": 118,
   "metadata": {
    "colab": {
     "base_uri": "https://localhost:8080/"
    },
    "executionInfo": {
     "elapsed": 11,
     "status": "ok",
     "timestamp": 1740004350336,
     "user": {
      "displayName": "María de los Ángeles Constantino González",
      "userId": "00856176624250093095"
     },
     "user_tz": 360
    },
    "id": "CQgsVLppuZJi",
    "outputId": "aaa981e7-98cd-45da-f083-bae3ab0b401f"
   },
   "outputs": [
    {
     "data": {
      "text/plain": [
       "11"
      ]
     },
     "execution_count": 118,
     "metadata": {},
     "output_type": "execute_result"
    }
   ],
   "source": [
    "#Podemos ver solamente las columnas\n",
    "len(df.columns) #Columnas"
   ]
  },
  {
   "cell_type": "markdown",
   "metadata": {
    "id": "59W-CJslxSf4"
   },
   "source": [
    "## Ver los primeros (head) y los últimos (tail) registros\n",
    "Este punto lo realizamos para una exploración rápida de los datos"
   ]
  },
  {
   "cell_type": "code",
   "execution_count": 119,
   "metadata": {
    "colab": {
     "base_uri": "https://localhost:8080/",
     "height": 361
    },
    "executionInfo": {
     "elapsed": 43,
     "status": "ok",
     "timestamp": 1740004353538,
     "user": {
      "displayName": "María de los Ángeles Constantino González",
      "userId": "00856176624250093095"
     },
     "user_tz": 360
    },
    "id": "Knuv6esTxWyu",
    "outputId": "9ea3d6b8-82f9-48b4-ed05-5c5201d2008a"
   },
   "outputs": [
    {
     "data": {
      "text/html": [
       "<div>\n",
       "<style scoped>\n",
       "    .dataframe tbody tr th:only-of-type {\n",
       "        vertical-align: middle;\n",
       "    }\n",
       "\n",
       "    .dataframe tbody tr th {\n",
       "        vertical-align: top;\n",
       "    }\n",
       "\n",
       "    .dataframe thead th {\n",
       "        text-align: right;\n",
       "    }\n",
       "</style>\n",
       "<table border=\"1\" class=\"dataframe\">\n",
       "  <thead>\n",
       "    <tr style=\"text-align: right;\">\n",
       "      <th></th>\n",
       "      <th>Referencia</th>\n",
       "      <th>Fecha Alta</th>\n",
       "      <th>Tipo</th>\n",
       "      <th>Operación</th>\n",
       "      <th>Provincia</th>\n",
       "      <th>Superficie</th>\n",
       "      <th>Precio Venta</th>\n",
       "      <th>Fecha Venta</th>\n",
       "      <th>Vendedor</th>\n",
       "      <th>Edad del vendedor</th>\n",
       "      <th>Numero cuartos</th>\n",
       "    </tr>\n",
       "    <tr>\n",
       "      <th>Id</th>\n",
       "      <th></th>\n",
       "      <th></th>\n",
       "      <th></th>\n",
       "      <th></th>\n",
       "      <th></th>\n",
       "      <th></th>\n",
       "      <th></th>\n",
       "      <th></th>\n",
       "      <th></th>\n",
       "      <th></th>\n",
       "      <th></th>\n",
       "    </tr>\n",
       "  </thead>\n",
       "  <tbody>\n",
       "    <tr>\n",
       "      <th>0</th>\n",
       "      <td>16</td>\n",
       "      <td>2004-01-05</td>\n",
       "      <td>Casa</td>\n",
       "      <td>Alquiler</td>\n",
       "      <td>Girona</td>\n",
       "      <td>179</td>\n",
       "      <td>937960</td>\n",
       "      <td>2004-11-21</td>\n",
       "      <td>Carmen</td>\n",
       "      <td>43</td>\n",
       "      <td>1.0</td>\n",
       "    </tr>\n",
       "    <tr>\n",
       "      <th>1</th>\n",
       "      <td>17</td>\n",
       "      <td>2004-01-05</td>\n",
       "      <td>Casa</td>\n",
       "      <td>Alquiler</td>\n",
       "      <td>Tarragona</td>\n",
       "      <td>58</td>\n",
       "      <td>358846</td>\n",
       "      <td>2004-10-08</td>\n",
       "      <td>Luisa</td>\n",
       "      <td>22</td>\n",
       "      <td>2.0</td>\n",
       "    </tr>\n",
       "    <tr>\n",
       "      <th>2</th>\n",
       "      <td>23</td>\n",
       "      <td>2004-01-10</td>\n",
       "      <td>Casa</td>\n",
       "      <td>Alquiler</td>\n",
       "      <td>Girona</td>\n",
       "      <td>183</td>\n",
       "      <td>1438929</td>\n",
       "      <td>2004-04-21</td>\n",
       "      <td>Luisa</td>\n",
       "      <td>70</td>\n",
       "      <td>1.0</td>\n",
       "    </tr>\n",
       "    <tr>\n",
       "      <th>3</th>\n",
       "      <td>28</td>\n",
       "      <td>2004-01-12</td>\n",
       "      <td>Casa</td>\n",
       "      <td>Alquiler</td>\n",
       "      <td>Barcelona</td>\n",
       "      <td>187</td>\n",
       "      <td>1660560</td>\n",
       "      <td>2004-06-16</td>\n",
       "      <td>Joaquín</td>\n",
       "      <td>55</td>\n",
       "      <td>NaN</td>\n",
       "    </tr>\n",
       "    <tr>\n",
       "      <th>4</th>\n",
       "      <td>29</td>\n",
       "      <td>2004-01-12</td>\n",
       "      <td>Casa</td>\n",
       "      <td>Alquiler</td>\n",
       "      <td>Tarragona</td>\n",
       "      <td>91</td>\n",
       "      <td>753571</td>\n",
       "      <td>2004-07-07</td>\n",
       "      <td>Luisa</td>\n",
       "      <td>26</td>\n",
       "      <td>2.0</td>\n",
       "    </tr>\n",
       "  </tbody>\n",
       "</table>\n",
       "</div>"
      ],
      "text/plain": [
       "    Referencia Fecha Alta  Tipo Operación  Provincia Superficie Precio Venta  \\\n",
       "Id                                                                             \n",
       "0           16 2004-01-05  Casa  Alquiler     Girona        179       937960   \n",
       "1           17 2004-01-05  Casa  Alquiler  Tarragona         58       358846   \n",
       "2           23 2004-01-10  Casa  Alquiler     Girona        183      1438929   \n",
       "3           28 2004-01-12  Casa  Alquiler  Barcelona        187      1660560   \n",
       "4           29 2004-01-12  Casa  Alquiler  Tarragona         91       753571   \n",
       "\n",
       "   Fecha Venta Vendedor Edad del vendedor  Numero cuartos  \n",
       "Id                                                         \n",
       "0   2004-11-21   Carmen                43             1.0  \n",
       "1   2004-10-08    Luisa                22             2.0  \n",
       "2   2004-04-21    Luisa                70             1.0  \n",
       "3   2004-06-16  Joaquín                55             NaN  \n",
       "4   2004-07-07    Luisa                26             2.0  "
      ]
     },
     "execution_count": 119,
     "metadata": {},
     "output_type": "execute_result"
    }
   ],
   "source": [
    "# Primeros 5 renglones\n",
    "df.head()"
   ]
  },
  {
   "cell_type": "code",
   "execution_count": 120,
   "metadata": {
    "colab": {
     "base_uri": "https://localhost:8080/",
     "height": 361
    },
    "executionInfo": {
     "elapsed": 44,
     "status": "ok",
     "timestamp": 1740004356430,
     "user": {
      "displayName": "María de los Ángeles Constantino González",
      "userId": "00856176624250093095"
     },
     "user_tz": 360
    },
    "id": "USATjm5jxgt9",
    "outputId": "0156c1c9-2822-4b06-8dc3-fe6323f603c9"
   },
   "outputs": [
    {
     "data": {
      "text/html": [
       "<div>\n",
       "<style scoped>\n",
       "    .dataframe tbody tr th:only-of-type {\n",
       "        vertical-align: middle;\n",
       "    }\n",
       "\n",
       "    .dataframe tbody tr th {\n",
       "        vertical-align: top;\n",
       "    }\n",
       "\n",
       "    .dataframe thead th {\n",
       "        text-align: right;\n",
       "    }\n",
       "</style>\n",
       "<table border=\"1\" class=\"dataframe\">\n",
       "  <thead>\n",
       "    <tr style=\"text-align: right;\">\n",
       "      <th></th>\n",
       "      <th>Referencia</th>\n",
       "      <th>Fecha Alta</th>\n",
       "      <th>Tipo</th>\n",
       "      <th>Operación</th>\n",
       "      <th>Provincia</th>\n",
       "      <th>Superficie</th>\n",
       "      <th>Precio Venta</th>\n",
       "      <th>Fecha Venta</th>\n",
       "      <th>Vendedor</th>\n",
       "      <th>Edad del vendedor</th>\n",
       "      <th>Numero cuartos</th>\n",
       "    </tr>\n",
       "    <tr>\n",
       "      <th>Id</th>\n",
       "      <th></th>\n",
       "      <th></th>\n",
       "      <th></th>\n",
       "      <th></th>\n",
       "      <th></th>\n",
       "      <th></th>\n",
       "      <th></th>\n",
       "      <th></th>\n",
       "      <th></th>\n",
       "      <th></th>\n",
       "      <th></th>\n",
       "    </tr>\n",
       "  </thead>\n",
       "  <tbody>\n",
       "    <tr>\n",
       "      <th>495</th>\n",
       "      <td>452</td>\n",
       "      <td>2004-06-19</td>\n",
       "      <td>Suelo</td>\n",
       "      <td>Venta</td>\n",
       "      <td>Lleida</td>\n",
       "      <td>215</td>\n",
       "      <td>2097970</td>\n",
       "      <td>2004-11-13</td>\n",
       "      <td>Pedro</td>\n",
       "      <td>45</td>\n",
       "      <td>NaN</td>\n",
       "    </tr>\n",
       "    <tr>\n",
       "      <th>496</th>\n",
       "      <td>453</td>\n",
       "      <td>2004-06-19</td>\n",
       "      <td>Suelo</td>\n",
       "      <td>Venta</td>\n",
       "      <td>Girona</td>\n",
       "      <td>185</td>\n",
       "      <td>1616900</td>\n",
       "      <td>2005-04-08</td>\n",
       "      <td>Jesús</td>\n",
       "      <td>35</td>\n",
       "      <td>NaN</td>\n",
       "    </tr>\n",
       "    <tr>\n",
       "      <th>497</th>\n",
       "      <td>472</td>\n",
       "      <td>2004-06-25</td>\n",
       "      <td>Suelo</td>\n",
       "      <td>Venta</td>\n",
       "      <td>Tarragona</td>\n",
       "      <td>297</td>\n",
       "      <td>1820016</td>\n",
       "      <td>2005-01-08</td>\n",
       "      <td>María</td>\n",
       "      <td>NaN</td>\n",
       "      <td>2.0</td>\n",
       "    </tr>\n",
       "    <tr>\n",
       "      <th>498</th>\n",
       "      <td>474</td>\n",
       "      <td>2004-06-25</td>\n",
       "      <td>Suelo</td>\n",
       "      <td>Venta</td>\n",
       "      <td>Girona</td>\n",
       "      <td>199</td>\n",
       "      <td>1622646</td>\n",
       "      <td>2005-06-23</td>\n",
       "      <td>Jesús</td>\n",
       "      <td>NaN</td>\n",
       "      <td>NaN</td>\n",
       "    </tr>\n",
       "    <tr>\n",
       "      <th>499</th>\n",
       "      <td>480</td>\n",
       "      <td>2004-06-28</td>\n",
       "      <td>Suelo</td>\n",
       "      <td>Venta</td>\n",
       "      <td>Lleida</td>\n",
       "      <td>58</td>\n",
       "      <td>530816</td>\n",
       "      <td>2004-10-07</td>\n",
       "      <td>Luisa</td>\n",
       "      <td>55</td>\n",
       "      <td>2.0</td>\n",
       "    </tr>\n",
       "  </tbody>\n",
       "</table>\n",
       "</div>"
      ],
      "text/plain": [
       "     Referencia Fecha Alta   Tipo Operación  Provincia Superficie  \\\n",
       "Id                                                                  \n",
       "495         452 2004-06-19  Suelo     Venta     Lleida        215   \n",
       "496         453 2004-06-19  Suelo     Venta     Girona        185   \n",
       "497         472 2004-06-25  Suelo     Venta  Tarragona        297   \n",
       "498         474 2004-06-25  Suelo     Venta     Girona        199   \n",
       "499         480 2004-06-28  Suelo     Venta     Lleida         58   \n",
       "\n",
       "    Precio Venta Fecha Venta Vendedor Edad del vendedor  Numero cuartos  \n",
       "Id                                                                       \n",
       "495      2097970  2004-11-13    Pedro                45             NaN  \n",
       "496      1616900  2005-04-08    Jesús                35             NaN  \n",
       "497      1820016  2005-01-08    María               NaN             2.0  \n",
       "498      1622646  2005-06-23    Jesús               NaN             NaN  \n",
       "499       530816  2004-10-07    Luisa                55             2.0  "
      ]
     },
     "execution_count": 120,
     "metadata": {},
     "output_type": "execute_result"
    }
   ],
   "source": [
    "# Últimos 5 renglones\n",
    "df.tail()"
   ]
  },
  {
   "cell_type": "markdown",
   "metadata": {
    "id": "LxfYh3Ksx1XX"
   },
   "source": [
    "## Tipo de datos\n",
    "\n",
    "Vemos que el tipo de datos sea correcto"
   ]
  },
  {
   "cell_type": "code",
   "execution_count": 121,
   "metadata": {
    "colab": {
     "base_uri": "https://localhost:8080/",
     "height": 429
    },
    "executionInfo": {
     "elapsed": 16,
     "status": "ok",
     "timestamp": 1740004360411,
     "user": {
      "displayName": "María de los Ángeles Constantino González",
      "userId": "00856176624250093095"
     },
     "user_tz": 360
    },
    "id": "zwsM_-X6uuvf",
    "outputId": "11275db0-f819-44f4-dc60-291dde3f6998"
   },
   "outputs": [
    {
     "data": {
      "text/plain": [
       "Referencia                    int64\n",
       "Fecha Alta           datetime64[ns]\n",
       "Tipo                         object\n",
       "Operación                    object\n",
       "Provincia                    object\n",
       "Superficie                   object\n",
       "Precio Venta                 object\n",
       "Fecha Venta          datetime64[ns]\n",
       "Vendedor                     object\n",
       "Edad del vendedor            object\n",
       "Numero cuartos              float64\n",
       "dtype: object"
      ]
     },
     "execution_count": 121,
     "metadata": {},
     "output_type": "execute_result"
    }
   ],
   "source": [
    "df.dtypes"
   ]
  },
  {
   "cell_type": "code",
   "execution_count": 122,
   "metadata": {
    "colab": {
     "base_uri": "https://localhost:8080/"
    },
    "executionInfo": {
     "elapsed": 50,
     "status": "ok",
     "timestamp": 1740004363333,
     "user": {
      "displayName": "María de los Ángeles Constantino González",
      "userId": "00856176624250093095"
     },
     "user_tz": 360
    },
    "id": "S56fziE4zLKi",
    "outputId": "0ae963f4-2f0e-4554-965d-4913c121b810"
   },
   "outputs": [
    {
     "name": "stdout",
     "output_type": "stream",
     "text": [
      "<class 'pandas.core.frame.DataFrame'>\n",
      "RangeIndex: 500 entries, 0 to 499\n",
      "Data columns (total 11 columns):\n",
      " #   Column             Non-Null Count  Dtype         \n",
      "---  ------             --------------  -----         \n",
      " 0   Referencia         500 non-null    int64         \n",
      " 1   Fecha Alta         500 non-null    datetime64[ns]\n",
      " 2   Tipo               498 non-null    object        \n",
      " 3   Operación          499 non-null    object        \n",
      " 4   Provincia          492 non-null    object        \n",
      " 5   Superficie         500 non-null    object        \n",
      " 6   Precio Venta       500 non-null    object        \n",
      " 7   Fecha Venta        500 non-null    datetime64[ns]\n",
      " 8   Vendedor           499 non-null    object        \n",
      " 9   Edad del vendedor  447 non-null    object        \n",
      " 10  Numero cuartos     234 non-null    float64       \n",
      "dtypes: datetime64[ns](2), float64(1), int64(1), object(7)\n",
      "memory usage: 43.1+ KB\n"
     ]
    }
   ],
   "source": [
    "#Vemos las columnas y su tipo correspondiente, en donde nos dice si se contiene nulos o no\n",
    "df.info()"
   ]
  },
  {
   "cell_type": "markdown",
   "metadata": {
    "id": "qhm0n6J6FWrv"
   },
   "source": [
    "Como se puede observar, las columnas Superficie, Precio_venta y Edad_del_vendedor están marcados como objects cuando claramente son numéricos.\n",
    "\n",
    "También se observa que tenemos columnas con valores nulos en Tipo, Operación, Provincia, Vendedor, Edad del vendedor y Numero cuartos"
   ]
  },
  {
   "cell_type": "markdown",
   "metadata": {
    "id": "Sg5F1IhkyDXj"
   },
   "source": [
    "## Estadística básica\n",
    "\n",
    "Obtenemos la estadística básica para ver la distribución de los datos"
   ]
  },
  {
   "cell_type": "code",
   "execution_count": 123,
   "metadata": {
    "colab": {
     "base_uri": "https://localhost:8080/",
     "height": 300
    },
    "executionInfo": {
     "elapsed": 390,
     "status": "ok",
     "timestamp": 1646690614108,
     "user": {
      "displayName": "Anna Karen Gárate Escamilla",
      "photoUrl": "https://lh3.googleusercontent.com/a/default-user=s64",
      "userId": "12647397618520851487"
     },
     "user_tz": 360
    },
    "id": "zTR0EhRqRuZt",
    "outputId": "874f0d97-74af-46bd-8011-93f9db1866b1"
   },
   "outputs": [
    {
     "data": {
      "text/html": [
       "<div>\n",
       "<style scoped>\n",
       "    .dataframe tbody tr th:only-of-type {\n",
       "        vertical-align: middle;\n",
       "    }\n",
       "\n",
       "    .dataframe tbody tr th {\n",
       "        vertical-align: top;\n",
       "    }\n",
       "\n",
       "    .dataframe thead th {\n",
       "        text-align: right;\n",
       "    }\n",
       "</style>\n",
       "<table border=\"1\" class=\"dataframe\">\n",
       "  <thead>\n",
       "    <tr style=\"text-align: right;\">\n",
       "      <th></th>\n",
       "      <th>Referencia</th>\n",
       "      <th>Fecha Alta</th>\n",
       "      <th>Fecha Venta</th>\n",
       "      <th>Numero cuartos</th>\n",
       "    </tr>\n",
       "  </thead>\n",
       "  <tbody>\n",
       "    <tr>\n",
       "      <th>count</th>\n",
       "      <td>500.000000</td>\n",
       "      <td>500</td>\n",
       "      <td>500</td>\n",
       "      <td>234.000000</td>\n",
       "    </tr>\n",
       "    <tr>\n",
       "      <th>mean</th>\n",
       "      <td>250.500000</td>\n",
       "      <td>2004-04-05 19:23:31.200000</td>\n",
       "      <td>2004-11-22 00:51:50.400000</td>\n",
       "      <td>2.854701</td>\n",
       "    </tr>\n",
       "    <tr>\n",
       "      <th>min</th>\n",
       "      <td>1.000000</td>\n",
       "      <td>2004-01-01 00:00:00</td>\n",
       "      <td>2004-04-05 00:00:00</td>\n",
       "      <td>1.000000</td>\n",
       "    </tr>\n",
       "    <tr>\n",
       "      <th>25%</th>\n",
       "      <td>125.750000</td>\n",
       "      <td>2004-02-19 00:00:00</td>\n",
       "      <td>2004-09-13 00:00:00</td>\n",
       "      <td>2.000000</td>\n",
       "    </tr>\n",
       "    <tr>\n",
       "      <th>50%</th>\n",
       "      <td>250.500000</td>\n",
       "      <td>2004-04-09 00:00:00</td>\n",
       "      <td>2004-11-17 00:00:00</td>\n",
       "      <td>3.000000</td>\n",
       "    </tr>\n",
       "    <tr>\n",
       "      <th>75%</th>\n",
       "      <td>375.250000</td>\n",
       "      <td>2004-05-22 06:00:00</td>\n",
       "      <td>2005-02-01 00:00:00</td>\n",
       "      <td>4.000000</td>\n",
       "    </tr>\n",
       "    <tr>\n",
       "      <th>max</th>\n",
       "      <td>500.000000</td>\n",
       "      <td>2004-07-04 00:00:00</td>\n",
       "      <td>2005-07-03 00:00:00</td>\n",
       "      <td>6.000000</td>\n",
       "    </tr>\n",
       "    <tr>\n",
       "      <th>std</th>\n",
       "      <td>144.481833</td>\n",
       "      <td>NaN</td>\n",
       "      <td>NaN</td>\n",
       "      <td>1.483905</td>\n",
       "    </tr>\n",
       "  </tbody>\n",
       "</table>\n",
       "</div>"
      ],
      "text/plain": [
       "       Referencia                  Fecha Alta                 Fecha Venta  \\\n",
       "count  500.000000                         500                         500   \n",
       "mean   250.500000  2004-04-05 19:23:31.200000  2004-11-22 00:51:50.400000   \n",
       "min      1.000000         2004-01-01 00:00:00         2004-04-05 00:00:00   \n",
       "25%    125.750000         2004-02-19 00:00:00         2004-09-13 00:00:00   \n",
       "50%    250.500000         2004-04-09 00:00:00         2004-11-17 00:00:00   \n",
       "75%    375.250000         2004-05-22 06:00:00         2005-02-01 00:00:00   \n",
       "max    500.000000         2004-07-04 00:00:00         2005-07-03 00:00:00   \n",
       "std    144.481833                         NaN                         NaN   \n",
       "\n",
       "       Numero cuartos  \n",
       "count      234.000000  \n",
       "mean         2.854701  \n",
       "min          1.000000  \n",
       "25%          2.000000  \n",
       "50%          3.000000  \n",
       "75%          4.000000  \n",
       "max          6.000000  \n",
       "std          1.483905  "
      ]
     },
     "execution_count": 123,
     "metadata": {},
     "output_type": "execute_result"
    }
   ],
   "source": [
    "#Podemos ver la distribución de los datos\n",
    "df.describe()"
   ]
  },
  {
   "cell_type": "markdown",
   "metadata": {
    "id": "NoT8Ep3V_TvF"
   },
   "source": [
    "## Identificar nulos"
   ]
  },
  {
   "cell_type": "code",
   "execution_count": 124,
   "metadata": {
    "colab": {
     "base_uri": "https://localhost:8080/",
     "height": 429
    },
    "executionInfo": {
     "elapsed": 10,
     "status": "ok",
     "timestamp": 1740004374044,
     "user": {
      "displayName": "María de los Ángeles Constantino González",
      "userId": "00856176624250093095"
     },
     "user_tz": 360
    },
    "id": "_SSn6Myu_aIa",
    "outputId": "8a2664b2-ce29-4630-9d85-5e5b7b8e0a50"
   },
   "outputs": [
    {
     "data": {
      "text/plain": [
       "Referencia             0\n",
       "Fecha Alta             0\n",
       "Tipo                   2\n",
       "Operación              1\n",
       "Provincia              8\n",
       "Superficie             0\n",
       "Precio Venta           0\n",
       "Fecha Venta            0\n",
       "Vendedor               1\n",
       "Edad del vendedor     53\n",
       "Numero cuartos       266\n",
       "dtype: int64"
      ]
     },
     "execution_count": 124,
     "metadata": {},
     "output_type": "execute_result"
    }
   ],
   "source": [
    "#El total de nulos por columnas\n",
    "total_of_all = df.isnull().sum()\n",
    "total_of_all\n"
   ]
  },
  {
   "cell_type": "code",
   "execution_count": 125,
   "metadata": {
    "colab": {
     "base_uri": "https://localhost:8080/",
     "height": 394
    },
    "executionInfo": {
     "elapsed": 42,
     "status": "ok",
     "timestamp": 1740004381942,
     "user": {
      "displayName": "María de los Ángeles Constantino González",
      "userId": "00856176624250093095"
     },
     "user_tz": 360
    },
    "id": "jZReDzMsRQvO",
    "outputId": "55450529-ee6e-44a2-e1a2-abbc27da5015"
   },
   "outputs": [
    {
     "data": {
      "text/html": [
       "<div>\n",
       "<style scoped>\n",
       "    .dataframe tbody tr th:only-of-type {\n",
       "        vertical-align: middle;\n",
       "    }\n",
       "\n",
       "    .dataframe tbody tr th {\n",
       "        vertical-align: top;\n",
       "    }\n",
       "\n",
       "    .dataframe thead th {\n",
       "        text-align: right;\n",
       "    }\n",
       "</style>\n",
       "<table border=\"1\" class=\"dataframe\">\n",
       "  <thead>\n",
       "    <tr style=\"text-align: right;\">\n",
       "      <th></th>\n",
       "      <th>Total Nulos</th>\n",
       "      <th>Percent (%)</th>\n",
       "    </tr>\n",
       "  </thead>\n",
       "  <tbody>\n",
       "    <tr>\n",
       "      <th>Referencia</th>\n",
       "      <td>0</td>\n",
       "      <td>0.0</td>\n",
       "    </tr>\n",
       "    <tr>\n",
       "      <th>Fecha Alta</th>\n",
       "      <td>0</td>\n",
       "      <td>0.0</td>\n",
       "    </tr>\n",
       "    <tr>\n",
       "      <th>Tipo</th>\n",
       "      <td>2</td>\n",
       "      <td>0.4</td>\n",
       "    </tr>\n",
       "    <tr>\n",
       "      <th>Operación</th>\n",
       "      <td>1</td>\n",
       "      <td>0.2</td>\n",
       "    </tr>\n",
       "    <tr>\n",
       "      <th>Provincia</th>\n",
       "      <td>8</td>\n",
       "      <td>1.6</td>\n",
       "    </tr>\n",
       "    <tr>\n",
       "      <th>Superficie</th>\n",
       "      <td>0</td>\n",
       "      <td>0.0</td>\n",
       "    </tr>\n",
       "    <tr>\n",
       "      <th>Precio Venta</th>\n",
       "      <td>0</td>\n",
       "      <td>0.0</td>\n",
       "    </tr>\n",
       "    <tr>\n",
       "      <th>Fecha Venta</th>\n",
       "      <td>0</td>\n",
       "      <td>0.0</td>\n",
       "    </tr>\n",
       "    <tr>\n",
       "      <th>Vendedor</th>\n",
       "      <td>1</td>\n",
       "      <td>0.2</td>\n",
       "    </tr>\n",
       "    <tr>\n",
       "      <th>Edad del vendedor</th>\n",
       "      <td>53</td>\n",
       "      <td>10.6</td>\n",
       "    </tr>\n",
       "    <tr>\n",
       "      <th>Numero cuartos</th>\n",
       "      <td>266</td>\n",
       "      <td>53.2</td>\n",
       "    </tr>\n",
       "  </tbody>\n",
       "</table>\n",
       "</div>"
      ],
      "text/plain": [
       "                   Total Nulos  Percent (%)\n",
       "Referencia                   0          0.0\n",
       "Fecha Alta                   0          0.0\n",
       "Tipo                         2          0.4\n",
       "Operación                    1          0.2\n",
       "Provincia                    8          1.6\n",
       "Superficie                   0          0.0\n",
       "Precio Venta                 0          0.0\n",
       "Fecha Venta                  0          0.0\n",
       "Vendedor                     1          0.2\n",
       "Edad del vendedor           53         10.6\n",
       "Numero cuartos             266         53.2"
      ]
     },
     "execution_count": 125,
     "metadata": {},
     "output_type": "execute_result"
    }
   ],
   "source": [
    "#Total de porcentaje de nulos por columnas\n",
    "percent_of_all = df.isnull().mean() # regresa la fracción de valores nulos\n",
    "missing_data_test = pd.concat([total_of_all, percent_of_all*100], axis=1, keys=['Total Nulos', 'Percent (%)'])\n",
    "missing_data_test"
   ]
  },
  {
   "cell_type": "markdown",
   "metadata": {
    "id": "9IDvMOegzXhs"
   },
   "source": [
    "## Adicionalmente usamos unique para ver los valores únicos de las columnas de interés"
   ]
  },
  {
   "cell_type": "markdown",
   "metadata": {
    "id": "OhfEYV2cY9v4"
   },
   "source": [
    "### Columna Tipo"
   ]
  },
  {
   "cell_type": "code",
   "execution_count": 126,
   "metadata": {
    "colab": {
     "base_uri": "https://localhost:8080/"
    },
    "executionInfo": {
     "elapsed": 50,
     "status": "ok",
     "timestamp": 1740004393544,
     "user": {
      "displayName": "María de los Ángeles Constantino González",
      "userId": "00856176624250093095"
     },
     "user_tz": 360
    },
    "id": "cw16u9n6zWP4",
    "outputId": "5e22734d-6dce-4092-ee1e-a9c07671ff2c"
   },
   "outputs": [
    {
     "data": {
      "text/plain": [
       "array(['Casa', 'Industrial', 'Local', nan, 'Oficina', 'Parking', 'Piso',\n",
       "       'Pisar', 'Suelo'], dtype=object)"
      ]
     },
     "execution_count": 126,
     "metadata": {},
     "output_type": "execute_result"
    }
   ],
   "source": [
    "df.Tipo.unique()"
   ]
  },
  {
   "cell_type": "code",
   "execution_count": 127,
   "metadata": {
    "colab": {
     "base_uri": "https://localhost:8080/",
     "height": 366
    },
    "executionInfo": {
     "elapsed": 10,
     "status": "ok",
     "timestamp": 1740004395225,
     "user": {
      "displayName": "María de los Ángeles Constantino González",
      "userId": "00856176624250093095"
     },
     "user_tz": 360
    },
    "id": "4vvjBS5jzxB-",
    "outputId": "c741fd19-b697-41e8-b41e-87a665cb6dc1"
   },
   "outputs": [
    {
     "data": {
      "text/plain": [
       "Tipo\n",
       "Suelo         82\n",
       "Oficina       75\n",
       "Industrial    74\n",
       "Parking       74\n",
       "Local         73\n",
       "Casa          57\n",
       "Piso          50\n",
       "Pisar         13\n",
       "Name: count, dtype: int64"
      ]
     },
     "execution_count": 127,
     "metadata": {},
     "output_type": "execute_result"
    }
   ],
   "source": [
    "#Nos da el conteo de cada valor en orden descentente.\n",
    "df.Tipo.value_counts()\n",
    "\n",
    "#Otra manera de escribirlo\n",
    "#df['Tipo'].value_counts()\n"
   ]
  },
  {
   "cell_type": "markdown",
   "metadata": {
    "id": "chEazc4JZEJ8"
   },
   "source": [
    "La columna Tipo tiene el valor de \"Pisar\" que debe de cambiarse a Piso\n"
   ]
  },
  {
   "cell_type": "markdown",
   "metadata": {
    "id": "qGxP2lGbZFiG"
   },
   "source": [
    "### Columna Operación"
   ]
  },
  {
   "cell_type": "code",
   "execution_count": 128,
   "metadata": {
    "colab": {
     "base_uri": "https://localhost:8080/"
    },
    "executionInfo": {
     "elapsed": 35,
     "status": "ok",
     "timestamp": 1740003973639,
     "user": {
      "displayName": "María de los Ángeles Constantino González",
      "userId": "00856176624250093095"
     },
     "user_tz": 360
    },
    "id": "k-uhY1-xZFiG",
    "outputId": "ac92d47f-da5e-4cd4-cc73-1c29ee0568a6"
   },
   "outputs": [
    {
     "data": {
      "text/plain": [
       "array(['Alquiler', 'Venta', 'Alkiler', ' ', nan], dtype=object)"
      ]
     },
     "execution_count": 128,
     "metadata": {},
     "output_type": "execute_result"
    }
   ],
   "source": [
    "df.Operación.unique()"
   ]
  },
  {
   "cell_type": "code",
   "execution_count": 129,
   "metadata": {
    "colab": {
     "base_uri": "https://localhost:8080/"
    },
    "executionInfo": {
     "elapsed": 23,
     "status": "ok",
     "timestamp": 1646690614110,
     "user": {
      "displayName": "Anna Karen Gárate Escamilla",
      "photoUrl": "https://lh3.googleusercontent.com/a/default-user=s64",
      "userId": "12647397618520851487"
     },
     "user_tz": 360
    },
    "id": "IgyTznQWZFiG",
    "outputId": "7311995c-2e5d-4831-f405-3b93df8c8f90"
   },
   "outputs": [
    {
     "data": {
      "text/plain": [
       "Operación\n",
       "Alquiler    249\n",
       "Venta       243\n",
       "Alkiler       6\n",
       "              1\n",
       "Name: count, dtype: int64"
      ]
     },
     "execution_count": 129,
     "metadata": {},
     "output_type": "execute_result"
    }
   ],
   "source": [
    "#Nos da el conteo de cada valor en orden descendente.\n",
    "df.Operación.value_counts()\n",
    "\n",
    "#Otra manera de escribirlo\n",
    "#df['Operación'].value_counts()\n"
   ]
  },
  {
   "cell_type": "markdown",
   "metadata": {
    "id": "vMzqm9exbMcC"
   },
   "source": [
    "La columna Operación tiene escrita mal la palabra \"Alkiler\" y debe de cambiarse a Alquiler.\n",
    "\n",
    "Tiene un valor en espacio."
   ]
  },
  {
   "cell_type": "markdown",
   "metadata": {
    "id": "dpLOKBlEZVjZ"
   },
   "source": [
    "### Columna Provincia"
   ]
  },
  {
   "cell_type": "code",
   "execution_count": 130,
   "metadata": {
    "colab": {
     "base_uri": "https://localhost:8080/"
    },
    "executionInfo": {
     "elapsed": 45,
     "status": "ok",
     "timestamp": 1740004031947,
     "user": {
      "displayName": "María de los Ángeles Constantino González",
      "userId": "00856176624250093095"
     },
     "user_tz": 360
    },
    "id": "EvtIP3TqZVjZ",
    "outputId": "2953de02-8d12-4fa3-f244-e804ea56bacd"
   },
   "outputs": [
    {
     "data": {
      "text/plain": [
       "array(['Girona', 'Tarragona', 'Barcelona', nan, 'Lleida', ' '],\n",
       "      dtype=object)"
      ]
     },
     "execution_count": 130,
     "metadata": {},
     "output_type": "execute_result"
    }
   ],
   "source": [
    "df.Provincia.unique()"
   ]
  },
  {
   "cell_type": "code",
   "execution_count": 131,
   "metadata": {
    "colab": {
     "base_uri": "https://localhost:8080/",
     "height": 272
    },
    "executionInfo": {
     "elapsed": 10,
     "status": "ok",
     "timestamp": 1740004463708,
     "user": {
      "displayName": "María de los Ángeles Constantino González",
      "userId": "00856176624250093095"
     },
     "user_tz": 360
    },
    "id": "84T6myaOZVja",
    "outputId": "0327ff4e-4c44-4f93-fd33-7c00c910c789"
   },
   "outputs": [
    {
     "data": {
      "text/plain": [
       "Provincia\n",
       "Girona       135\n",
       "Barcelona    122\n",
       "Tarragona    121\n",
       "Lleida       113\n",
       "               1\n",
       "Name: count, dtype: int64"
      ]
     },
     "execution_count": 131,
     "metadata": {},
     "output_type": "execute_result"
    }
   ],
   "source": [
    "#Nos da el conteo de cada valor en orden descentente.\n",
    "df.Provincia.value_counts()\n",
    "\n",
    "#Otra manera de escribirlo\n",
    "#df['Provincia'].value_counts()\n"
   ]
  },
  {
   "cell_type": "markdown",
   "metadata": {
    "id": "StsH59IDbXxi"
   },
   "source": [
    "La columna Provincia tiene un valor con espacio"
   ]
  },
  {
   "cell_type": "markdown",
   "metadata": {
    "id": "wh-Al_6MbgOG"
   },
   "source": [
    "### Columna Superficie"
   ]
  },
  {
   "cell_type": "code",
   "execution_count": 132,
   "metadata": {
    "colab": {
     "base_uri": "https://localhost:8080/"
    },
    "executionInfo": {
     "elapsed": 20,
     "status": "ok",
     "timestamp": 1646690614111,
     "user": {
      "displayName": "Anna Karen Gárate Escamilla",
      "photoUrl": "https://lh3.googleusercontent.com/a/default-user=s64",
      "userId": "12647397618520851487"
     },
     "user_tz": 360
    },
    "id": "uQxIBnHYbgOH",
    "outputId": "061a42f0-f10f-49a0-f571-d81ff867ced4"
   },
   "outputs": [
    {
     "data": {
      "text/plain": [
       "array([179, 58, 183, 187, 91, 92, 258, 270, 212, 100, 87, 63, 56, 170,\n",
       "       201, 181, 177, 295, 178, 298, 251, 149, 192, 72, 57, 143, 65, 281,\n",
       "       278, 120, 235, 227, 130, 119, 284, 211, 156, 239, 204, 285, 229,\n",
       "       146, 241, 141, 80, 123, 173, 90, 214, 155, 153, 261, 60, 61, 131,\n",
       "       176, 142, 257, 140, 219, 112, 236, 93, 132, 103, 52, ' ', 193, 216,\n",
       "       46, 209, 159, 150, 225, 277, 190, 242, 76, 247, 74, 287, 233, 248,\n",
       "       268, 240, 228, 166, 54, 118, 194, 139, 88, 265, 163, 263, 226, 223,\n",
       "       238, 106, 45, 196, 121, 189, 162, 243, 70, 206, 274, 68, 127, 49,\n",
       "       125, 160, 231, 117, 169, 82, 182, 246, 237, 138, 259, 137, 203,\n",
       "       260, 0, 44, 199, 40, 55, 109, 202, 291, 267, 230, 269, 224, 148,\n",
       "       126, 215, 282, 79, 94, 124, 116, 275, 105, 134, 128, 174, 186, 244,\n",
       "       110, 41, 207, 205, 77, 168, 144, 104, 253, 172, 42, 154, 86, 133,\n",
       "       249, 102, 158, 107, 232, 69, 62, 217, 95, 152, 184, 296, 271, 234,\n",
       "       299, 300, 51, 167, 164, 175, 200, 197, 208, 293, 115, 191, 108, 53,\n",
       "       48, 250, 113, 75, 114, 245, 71, 122, 185, 222, 50, 262, 67, 81,\n",
       "       195, 283, 89, 136, 288, 85, 280, 264, 272, 292, 96, 47, 165, 273,\n",
       "       59, 180, 99, 254, 135, 297], dtype=object)"
      ]
     },
     "execution_count": 132,
     "metadata": {},
     "output_type": "execute_result"
    }
   ],
   "source": [
    "df.Superficie.unique()"
   ]
  },
  {
   "cell_type": "code",
   "execution_count": 133,
   "metadata": {
    "colab": {
     "base_uri": "https://localhost:8080/"
    },
    "executionInfo": {
     "elapsed": 19,
     "status": "ok",
     "timestamp": 1646690614111,
     "user": {
      "displayName": "Anna Karen Gárate Escamilla",
      "photoUrl": "https://lh3.googleusercontent.com/a/default-user=s64",
      "userId": "12647397618520851487"
     },
     "user_tz": 360
    },
    "id": "xdiPuzBMbgOH",
    "outputId": "01bb20a4-a300-4b36-ee64-343e192ce656"
   },
   "outputs": [
    {
     "data": {
      "text/plain": [
       "Superficie\n",
       "       10\n",
       "179     5\n",
       "298     5\n",
       "209     5\n",
       "54      5\n",
       "       ..\n",
       "267     1\n",
       "109     1\n",
       "40      1\n",
       "44      1\n",
       "297     1\n",
       "Name: count, Length: 228, dtype: int64"
      ]
     },
     "execution_count": 133,
     "metadata": {},
     "output_type": "execute_result"
    }
   ],
   "source": [
    "#Nos da el conteo de cada valor en orden descentente.\n",
    "df.Superficie.value_counts()\n",
    "\n",
    "#Otra manera de escribirlo\n",
    "#df['Superficie'].value_counts()\n"
   ]
  },
  {
   "cell_type": "markdown",
   "metadata": {
    "id": "7gg3IOU1bgOH"
   },
   "source": [
    "La columna Superficie tiene 10 valores con espacios"
   ]
  },
  {
   "cell_type": "markdown",
   "metadata": {
    "id": "CgCHtWVfZd_5"
   },
   "source": [
    "### Columna Precio Venta"
   ]
  },
  {
   "cell_type": "code",
   "execution_count": 134,
   "metadata": {
    "colab": {
     "base_uri": "https://localhost:8080/"
    },
    "executionInfo": {
     "elapsed": 289,
     "status": "ok",
     "timestamp": 1646690855617,
     "user": {
      "displayName": "Anna Karen Gárate Escamilla",
      "photoUrl": "https://lh3.googleusercontent.com/a/default-user=s64",
      "userId": "12647397618520851487"
     },
     "user_tz": 360
    },
    "id": "Tt4sJISKZd_6",
    "outputId": "a65d6c12-7ffb-497d-e7d5-be77e52231c0"
   },
   "outputs": [
    {
     "data": {
      "text/plain": [
       "array([937960, 358846, 1438929, 1660560, 753571, 627348, 1647695, 1188090,\n",
       "       1385910, 1800516, 731700, 779868, 492156, 474600, 995520, 1107108,\n",
       "       1449629, 924294, 1877675, 1458176, 2612566, 2439971, 1238339,\n",
       "       1159296, 702576, 419178, 836836, 546780, 2483197, 1537062, 1140840,\n",
       "       '.', 1467782, 1230190, 686154, 1561432, 875228, 537264, 1369680,\n",
       "       1670965, 1176597, 1291116, 2534505, 1990697, 1083466, 2060550,\n",
       "       732495, 354320, 775884, 1117753, 412740, 1962380, '$', 1506438,\n",
       "       2475063, 253920, 531432, 953156, 820336, 1405374, 1799771, 1054340,\n",
       "       948927, 1104992, 1812244, 778875, 723609, 922020, 965358, 728931,\n",
       "       2067236, 508924, '%', 1658835, 1398600, 351256, 1042283, 1582527,\n",
       "       968250, 712712, 1360800, 1171894, 2571111, 2456159, 977740,\n",
       "       1227224, 2110966, 1263495, 501220, 1210053, 1331166, 2188138,\n",
       "       729788, 2452989, 1541528, 1674744, 2628812, 2238000, 999328,\n",
       "       2020992, 1457488, '¡', 1373816, 1142938, 509010, 1098055, 438750,\n",
       "       1067192, 1373132, 1087119, 678480, 848328, 2109930, 1385011,\n",
       "       1494892, 2104286, 2026401, 1620304, 523770, '###', 307170, 1645616,\n",
       "       792792, 1579284, 1922325, 851852, 427824, 483860, 1383480, 1983123,\n",
       "       549780, 659330, 939072, 1504110, 957625, 1605564, 2287626, 376992,\n",
       "       925322, 219716, 531375, 1064800, 1461356, 533925, 1323054, 1446522,\n",
       "       ' ', 986895, 902798, 692180, 420660, 1133132, 665951, 1362348,\n",
       "       1431076, 424536, 1093281, 1079449, 391391, 877680, 1394461,\n",
       "       1992228, 673355, '##', 1090180, 0, 242704, 1945424, 664700,\n",
       "       1160572, 321680, 983234, 2212408, 663816, 438435, '####', 229455,\n",
       "       779241, 563178, 1161090, 416936, 513300, 553616, 2002392, 2010619,\n",
       "       2038660, 1870546, 1936102, 1320676, 896220, 1505925, 1257036,\n",
       "       1398630, 2586704, 1804992, 742770, 1268952, 788948, 520758, 870105,\n",
       "       1298328, 427390, 712416, 627068, 1169496, 727552, 1170684, 579716,\n",
       "       2851058, 1294048, 512730, 1920240, 1765225, 624435, 1310520,\n",
       "       1259904, 1395681, 720882, 1297594, 1382166, 1006988, 1039500,\n",
       "       1336298, 1437818, 361661, 1560889, 1181686, 525210, 882784,\n",
       "       1287807, 1042659, 1980300, 2524358, 458568, 322322, 924732, 851488,\n",
       "       1166780, '--', 1057784, 1426992, 1436832, 699400, 1724008, 2047276,\n",
       "       1389096, 1268630, 1128156, 1063648, 1891932, '-', 2400476, 367584,\n",
       "       842343, 1032000, 739206, 1479548, 881804, 1081278, 589960, 786695,\n",
       "       1728221, '+', 413610, 680830, 961192, 1109980, 486472, 1883700,\n",
       "       1388175, 1543344, 406998, 590426, 1028224, 946710, 2578696,\n",
       "       1316073, 45544, 1815450, 406686, 1154980, 320044, 1339107, 421196,\n",
       "       1363926, 782870, 734388, 448210, 2134246, 1219158, 1069320,\n",
       "       1622040, 1770912, 1125792, 1342906, 1773780, 1754992, 1189250,\n",
       "       990355, 830830, 1317529, 830760, 835152, 389350, 1602544, 2190493,\n",
       "       1779458, 2439512, 872760, 1911312, 1948583, 2042768, 2937300,\n",
       "       2520484, 1587642, 973659, 307989, 688864, 2028970, 1370759,\n",
       "       1261600, 2108343, 1050985, 1643948, 1298716, 567206, 1183212,\n",
       "       927255, 446888, 2038586, 258444, 430418, 1592166, 1178100, 1398852,\n",
       "       1176630, 1823400, 1746405, 933321, 1225120, 1750089, 386584,\n",
       "       952302, 1945755, 909821, 1077665, 790602, 872063, 1005312, 875544,\n",
       "       1024380, 472615, 249418, 388032, 1854496, 2105700, 1361675, 558252,\n",
       "       1131416, 1336717, 298272, 2253500, 1338124, 2338032, 747075,\n",
       "       1750014, 722880, 1102880, 1763517, 418725, 1980185, 895287,\n",
       "       1560450, 2682900, 435252, 1527498, 1019160, 637308, 338364,\n",
       "       1001070, 587880, 1093608, 1306840, 358670, 1166065, 1421860,\n",
       "       239220, 738144, 448485, 2141700, 973878, 1076034, 315550, 1492506,\n",
       "       434656, 250852, 519738, 1748850, 379689, 1055912, 961368, 332400,\n",
       "       803000, 634920, 885476, 1180048, 812808, 1164375, 770040, 583362,\n",
       "       1797120, 2199476, 1729762, 1492800, 1438748, 686996, 1757106,\n",
       "       710694, 1791318, 1782297, 1528200, 954666, 887241, 926228, '*',\n",
       "       1403595, 597286, 1874928, 431325, 1932518, 461435, 489924, 873120,\n",
       "       1220697, 1099648, 853750, 2404898, 2699136, 683230, 1521216,\n",
       "       1386900, 440772, 876060, 683175, 378624, 1377975, 822811, 1680000,\n",
       "       2582184, 1116441, 511680, 568480, 855442, 913248, 1004740, 1138024,\n",
       "       2119424, 1478952, 187862, 471072, 2685816, 625536, 806799, 455477,\n",
       "       1305480, 1842035, 1358640, 1431012, 1447992, 453651, 1722700,\n",
       "       848358, 656535, 1130632, 2409210, 1414956, 895359, 605425, 255906,\n",
       "       1022040, 1369368, 783783, 1707944, 1483500, 425432, 1381506,\n",
       "       1209735, 852480, 783195, 2097970, 1616900, 1820016, 1622646,\n",
       "       530816], dtype=object)"
      ]
     },
     "execution_count": 134,
     "metadata": {},
     "output_type": "execute_result"
    }
   ],
   "source": [
    "df[\"Precio Venta\"].unique()"
   ]
  },
  {
   "cell_type": "code",
   "execution_count": 135,
   "metadata": {
    "colab": {
     "base_uri": "https://localhost:8080/"
    },
    "executionInfo": {
     "elapsed": 9,
     "status": "ok",
     "timestamp": 1646690875719,
     "user": {
      "displayName": "Anna Karen Gárate Escamilla",
      "photoUrl": "https://lh3.googleusercontent.com/a/default-user=s64",
      "userId": "12647397618520851487"
     },
     "user_tz": 360
    },
    "id": "eOv5n5JwZd_6",
    "outputId": "175cb69f-2032-4e54-f427-0a16a68ffc01"
   },
   "outputs": [
    {
     "data": {
      "text/plain": [
       "Precio Venta\n",
       "0          3\n",
       "+          2\n",
       "           2\n",
       "$          2\n",
       "*          2\n",
       "          ..\n",
       "1992228    1\n",
       "1394461    1\n",
       "877680     1\n",
       "391391     1\n",
       "530816     1\n",
       "Name: count, Length: 494, dtype: int64"
      ]
     },
     "execution_count": 135,
     "metadata": {},
     "output_type": "execute_result"
    }
   ],
   "source": [
    "#Nos da el conteo de cada valor en orden descentente.\n",
    "df[\"Precio Venta\"].value_counts()\n",
    "\n",
    "#Otra manera de escribirlo\n",
    "#df['Precio_venta'].value_counts()\n"
   ]
  },
  {
   "cell_type": "markdown",
   "metadata": {
    "id": "ndVMEtl2Zd_6"
   },
   "source": [
    "La columna Precio_venta tiene valores vacíos, ceros y múltiples simbolos que deben de ser corregidos"
   ]
  },
  {
   "cell_type": "markdown",
   "metadata": {
    "id": "mJcHGNwGZh7a"
   },
   "source": [
    "### Columna Vendedor"
   ]
  },
  {
   "cell_type": "code",
   "execution_count": 136,
   "metadata": {
    "colab": {
     "base_uri": "https://localhost:8080/"
    },
    "executionInfo": {
     "elapsed": 10,
     "status": "ok",
     "timestamp": 1740004216582,
     "user": {
      "displayName": "María de los Ángeles Constantino González",
      "userId": "00856176624250093095"
     },
     "user_tz": 360
    },
    "id": "AY7YErUhZh7a",
    "outputId": "b4610ff1-b2fa-43ff-8265-3e705a30486d"
   },
   "outputs": [
    {
     "data": {
      "text/plain": [
       "array(['Carmen', 'Luisa', 'Joaquín', 'María', 'Pedro', 'Jesús', nan],\n",
       "      dtype=object)"
      ]
     },
     "execution_count": 136,
     "metadata": {},
     "output_type": "execute_result"
    }
   ],
   "source": [
    "df.Vendedor.unique()"
   ]
  },
  {
   "cell_type": "code",
   "execution_count": 137,
   "metadata": {
    "colab": {
     "base_uri": "https://localhost:8080/",
     "height": 303
    },
    "executionInfo": {
     "elapsed": 10,
     "status": "ok",
     "timestamp": 1740004225849,
     "user": {
      "displayName": "María de los Ángeles Constantino González",
      "userId": "00856176624250093095"
     },
     "user_tz": 360
    },
    "id": "GPJZP3sPZh7b",
    "outputId": "377e013d-1ace-4338-dacc-a0cfb4e5612a"
   },
   "outputs": [
    {
     "data": {
      "text/plain": [
       "Vendedor\n",
       "Luisa      100\n",
       "Jesús       95\n",
       "Pedro       93\n",
       "Carmen      82\n",
       "María       67\n",
       "Joaquín     62\n",
       "Name: count, dtype: int64"
      ]
     },
     "execution_count": 137,
     "metadata": {},
     "output_type": "execute_result"
    }
   ],
   "source": [
    "#Nos da el conteo de cada valor en orden descentente.\n",
    "df.Vendedor.value_counts()\n",
    "\n",
    "#Otra manera de escribirlo\n",
    "#df['Vendedor'].value_counts()\n"
   ]
  },
  {
   "cell_type": "markdown",
   "metadata": {
    "id": "gUZ12_9NcNnV"
   },
   "source": [
    "La columna vendedor tiene valores nulos"
   ]
  },
  {
   "cell_type": "markdown",
   "metadata": {
    "id": "DlyPgEaPZwMi"
   },
   "source": [
    "### Columna Edad del vendedor"
   ]
  },
  {
   "cell_type": "code",
   "execution_count": 138,
   "metadata": {
    "colab": {
     "base_uri": "https://localhost:8080/"
    },
    "executionInfo": {
     "elapsed": 47,
     "status": "ok",
     "timestamp": 1740004606744,
     "user": {
      "displayName": "María de los Ángeles Constantino González",
      "userId": "00856176624250093095"
     },
     "user_tz": 360
    },
    "id": "YHcn7qsbZwMi",
    "outputId": "33cd949a-3818-45b3-a4b7-3ff17d831217"
   },
   "outputs": [
    {
     "data": {
      "text/plain": [
       "array([43, 22, 70, 55, 26, 12, 44, 35, 34, 45, 66, nan, 56, 87, 57, 38,\n",
       "       76, 20, 88, 224, 65, 27, 78, 46, ' ', 74, 33, 54, 67, 24, 77, 89,\n",
       "       188], dtype=object)"
      ]
     },
     "execution_count": 138,
     "metadata": {},
     "output_type": "execute_result"
    }
   ],
   "source": [
    "df[\"Edad del vendedor\"].unique()"
   ]
  },
  {
   "cell_type": "code",
   "execution_count": 139,
   "metadata": {
    "colab": {
     "base_uri": "https://localhost:8080/",
     "height": 1000
    },
    "executionInfo": {
     "elapsed": 5,
     "status": "ok",
     "timestamp": 1740004609716,
     "user": {
      "displayName": "María de los Ángeles Constantino González",
      "userId": "00856176624250093095"
     },
     "user_tz": 360
    },
    "id": "GO_tpeBOZwMi",
    "outputId": "e551bba2-960e-4c13-dc37-0a644c73e484"
   },
   "outputs": [
    {
     "data": {
      "text/plain": [
       "Edad del vendedor\n",
       "44     50\n",
       "43     39\n",
       "55     37\n",
       "56     30\n",
       "45     28\n",
       "88     28\n",
       "22     27\n",
       "35     26\n",
       "78     26\n",
       "34     16\n",
       "26     14\n",
       "38     14\n",
       "27     13\n",
       "70     13\n",
       "33     12\n",
       "54      8\n",
       "66      8\n",
       "46      8\n",
       "76      7\n",
       "224     6\n",
       "65      4\n",
       "57      4\n",
       "74      4\n",
       "87      4\n",
       "67      4\n",
       "24      4\n",
       "77      4\n",
       "        3\n",
       "12      3\n",
       "89      1\n",
       "20      1\n",
       "188     1\n",
       "Name: count, dtype: int64"
      ]
     },
     "execution_count": 139,
     "metadata": {},
     "output_type": "execute_result"
    }
   ],
   "source": [
    "#Nos da el conteo de cada valor en orden descentente.\n",
    "df[\"Edad del vendedor\"].value_counts()\n",
    "\n",
    "#Otra manera de escribirlo\n",
    "#df[\"Edad del vendedor\"].value_counts()\n"
   ]
  },
  {
   "cell_type": "markdown",
   "metadata": {
    "id": "xpHmO4c0ZwMi"
   },
   "source": [
    "La columna edad_vendedor tiene campos vacíos y edades que no entran dentro de un límite lógico como 224 y 12 años"
   ]
  },
  {
   "cell_type": "markdown",
   "metadata": {
    "id": "HBPzFNr2Z0-w"
   },
   "source": [
    "### Columna Numero cuartos"
   ]
  },
  {
   "cell_type": "code",
   "execution_count": 140,
   "metadata": {
    "colab": {
     "base_uri": "https://localhost:8080/"
    },
    "executionInfo": {
     "elapsed": 10,
     "status": "ok",
     "timestamp": 1740004629039,
     "user": {
      "displayName": "María de los Ángeles Constantino González",
      "userId": "00856176624250093095"
     },
     "user_tz": 360
    },
    "id": "uSVDr4fOZ0-x",
    "outputId": "027c0b98-32c5-4986-e9b2-8e960802d21e"
   },
   "outputs": [
    {
     "data": {
      "text/plain": [
       "array([ 1.,  2., nan,  3.,  5.,  6.,  4.])"
      ]
     },
     "execution_count": 140,
     "metadata": {},
     "output_type": "execute_result"
    }
   ],
   "source": [
    "df[\"Numero cuartos\"].unique()"
   ]
  },
  {
   "cell_type": "code",
   "execution_count": 141,
   "metadata": {
    "colab": {
     "base_uri": "https://localhost:8080/",
     "height": 303
    },
    "executionInfo": {
     "elapsed": 24,
     "status": "ok",
     "timestamp": 1740004629064,
     "user": {
      "displayName": "María de los Ángeles Constantino González",
      "userId": "00856176624250093095"
     },
     "user_tz": 360
    },
    "id": "xnA2DpprZ0-x",
    "outputId": "944c5c63-ebde-46ed-e325-658f40a731f2"
   },
   "outputs": [
    {
     "data": {
      "text/plain": [
       "Numero cuartos\n",
       "3.0    65\n",
       "1.0    55\n",
       "2.0    45\n",
       "4.0    31\n",
       "5.0    24\n",
       "6.0    14\n",
       "Name: count, dtype: int64"
      ]
     },
     "execution_count": 141,
     "metadata": {},
     "output_type": "execute_result"
    }
   ],
   "source": [
    "#Nos da el conteo de cada valor en orden descentente.\n",
    "df[\"Numero cuartos\"].value_counts()\n",
    "\n",
    "#Otra manera de escribirlo\n",
    "#df[\"Numero cuartos\"].value_counts()\n"
   ]
  },
  {
   "cell_type": "markdown",
   "metadata": {
    "id": "MBBiJPP7crbk"
   },
   "source": [
    "La columna Numero_cuartos tiene muchos campos vacíos"
   ]
  },
  {
   "cell_type": "markdown",
   "metadata": {
    "id": "UKrByT-bRjm4"
   },
   "source": [
    "# 4 Preprocesamiento de los datos\n",
    "\n",
    "Proceso:\n",
    "*   Renombrar columnas (de ser necesario)\n",
    "*   Eliminar columnas que no utilicemos\n",
    "*   Eliminar las columnas que tengan alto porcentaje de valores nulos\n",
    "*   Eliminar duplicados\n",
    "*   Corregir el formato del tipo de datos\n",
    "*   Obten una muestra de la base de datos (en caso de que la base de datos sea muy grande)\n",
    "*   Elimina outliers y valores vacíos\n",
    "*   Eliminar duplicados\n",
    "*   Imputación de datos\n",
    "\n",
    "\n",
    "\n"
   ]
  },
  {
   "cell_type": "markdown",
   "metadata": {
    "id": "6gzZhBOMALuG"
   },
   "source": [
    "## Renombrar columnas (de ser necesario)"
   ]
  },
  {
   "cell_type": "code",
   "execution_count": 142,
   "metadata": {
    "colab": {
     "base_uri": "https://localhost:8080/",
     "height": 475
    },
    "executionInfo": {
     "elapsed": 39,
     "status": "ok",
     "timestamp": 1740004662150,
     "user": {
      "displayName": "María de los Ángeles Constantino González",
      "userId": "00856176624250093095"
     },
     "user_tz": 360
    },
    "id": "lwoAN-_lErhG",
    "outputId": "a0174d85-e94d-42f0-b1d1-2193af72e5ca"
   },
   "outputs": [
    {
     "data": {
      "text/html": [
       "<div>\n",
       "<style scoped>\n",
       "    .dataframe tbody tr th:only-of-type {\n",
       "        vertical-align: middle;\n",
       "    }\n",
       "\n",
       "    .dataframe tbody tr th {\n",
       "        vertical-align: top;\n",
       "    }\n",
       "\n",
       "    .dataframe thead th {\n",
       "        text-align: right;\n",
       "    }\n",
       "</style>\n",
       "<table border=\"1\" class=\"dataframe\">\n",
       "  <thead>\n",
       "    <tr style=\"text-align: right;\">\n",
       "      <th></th>\n",
       "      <th>Referencia</th>\n",
       "      <th>Fecha_alta</th>\n",
       "      <th>Tipo</th>\n",
       "      <th>Operación</th>\n",
       "      <th>Provincia</th>\n",
       "      <th>Superficie</th>\n",
       "      <th>Precio_venta</th>\n",
       "      <th>Fecha_venta</th>\n",
       "      <th>Vendedor</th>\n",
       "      <th>Edad_vendedor</th>\n",
       "      <th>Numero_cuartos</th>\n",
       "    </tr>\n",
       "    <tr>\n",
       "      <th>Id</th>\n",
       "      <th></th>\n",
       "      <th></th>\n",
       "      <th></th>\n",
       "      <th></th>\n",
       "      <th></th>\n",
       "      <th></th>\n",
       "      <th></th>\n",
       "      <th></th>\n",
       "      <th></th>\n",
       "      <th></th>\n",
       "      <th></th>\n",
       "    </tr>\n",
       "  </thead>\n",
       "  <tbody>\n",
       "    <tr>\n",
       "      <th>0</th>\n",
       "      <td>16</td>\n",
       "      <td>2004-01-05</td>\n",
       "      <td>Casa</td>\n",
       "      <td>Alquiler</td>\n",
       "      <td>Girona</td>\n",
       "      <td>179</td>\n",
       "      <td>937960</td>\n",
       "      <td>2004-11-21</td>\n",
       "      <td>Carmen</td>\n",
       "      <td>43</td>\n",
       "      <td>1.0</td>\n",
       "    </tr>\n",
       "    <tr>\n",
       "      <th>1</th>\n",
       "      <td>17</td>\n",
       "      <td>2004-01-05</td>\n",
       "      <td>Casa</td>\n",
       "      <td>Alquiler</td>\n",
       "      <td>Tarragona</td>\n",
       "      <td>58</td>\n",
       "      <td>358846</td>\n",
       "      <td>2004-10-08</td>\n",
       "      <td>Luisa</td>\n",
       "      <td>22</td>\n",
       "      <td>2.0</td>\n",
       "    </tr>\n",
       "    <tr>\n",
       "      <th>2</th>\n",
       "      <td>23</td>\n",
       "      <td>2004-01-10</td>\n",
       "      <td>Casa</td>\n",
       "      <td>Alquiler</td>\n",
       "      <td>Girona</td>\n",
       "      <td>183</td>\n",
       "      <td>1438929</td>\n",
       "      <td>2004-04-21</td>\n",
       "      <td>Luisa</td>\n",
       "      <td>70</td>\n",
       "      <td>1.0</td>\n",
       "    </tr>\n",
       "    <tr>\n",
       "      <th>3</th>\n",
       "      <td>28</td>\n",
       "      <td>2004-01-12</td>\n",
       "      <td>Casa</td>\n",
       "      <td>Alquiler</td>\n",
       "      <td>Barcelona</td>\n",
       "      <td>187</td>\n",
       "      <td>1660560</td>\n",
       "      <td>2004-06-16</td>\n",
       "      <td>Joaquín</td>\n",
       "      <td>55</td>\n",
       "      <td>NaN</td>\n",
       "    </tr>\n",
       "    <tr>\n",
       "      <th>4</th>\n",
       "      <td>29</td>\n",
       "      <td>2004-01-12</td>\n",
       "      <td>Casa</td>\n",
       "      <td>Alquiler</td>\n",
       "      <td>Tarragona</td>\n",
       "      <td>91</td>\n",
       "      <td>753571</td>\n",
       "      <td>2004-07-07</td>\n",
       "      <td>Luisa</td>\n",
       "      <td>26</td>\n",
       "      <td>2.0</td>\n",
       "    </tr>\n",
       "    <tr>\n",
       "      <th>...</th>\n",
       "      <td>...</td>\n",
       "      <td>...</td>\n",
       "      <td>...</td>\n",
       "      <td>...</td>\n",
       "      <td>...</td>\n",
       "      <td>...</td>\n",
       "      <td>...</td>\n",
       "      <td>...</td>\n",
       "      <td>...</td>\n",
       "      <td>...</td>\n",
       "      <td>...</td>\n",
       "    </tr>\n",
       "    <tr>\n",
       "      <th>495</th>\n",
       "      <td>452</td>\n",
       "      <td>2004-06-19</td>\n",
       "      <td>Suelo</td>\n",
       "      <td>Venta</td>\n",
       "      <td>Lleida</td>\n",
       "      <td>215</td>\n",
       "      <td>2097970</td>\n",
       "      <td>2004-11-13</td>\n",
       "      <td>Pedro</td>\n",
       "      <td>45</td>\n",
       "      <td>NaN</td>\n",
       "    </tr>\n",
       "    <tr>\n",
       "      <th>496</th>\n",
       "      <td>453</td>\n",
       "      <td>2004-06-19</td>\n",
       "      <td>Suelo</td>\n",
       "      <td>Venta</td>\n",
       "      <td>Girona</td>\n",
       "      <td>185</td>\n",
       "      <td>1616900</td>\n",
       "      <td>2005-04-08</td>\n",
       "      <td>Jesús</td>\n",
       "      <td>35</td>\n",
       "      <td>NaN</td>\n",
       "    </tr>\n",
       "    <tr>\n",
       "      <th>497</th>\n",
       "      <td>472</td>\n",
       "      <td>2004-06-25</td>\n",
       "      <td>Suelo</td>\n",
       "      <td>Venta</td>\n",
       "      <td>Tarragona</td>\n",
       "      <td>297</td>\n",
       "      <td>1820016</td>\n",
       "      <td>2005-01-08</td>\n",
       "      <td>María</td>\n",
       "      <td>NaN</td>\n",
       "      <td>2.0</td>\n",
       "    </tr>\n",
       "    <tr>\n",
       "      <th>498</th>\n",
       "      <td>474</td>\n",
       "      <td>2004-06-25</td>\n",
       "      <td>Suelo</td>\n",
       "      <td>Venta</td>\n",
       "      <td>Girona</td>\n",
       "      <td>199</td>\n",
       "      <td>1622646</td>\n",
       "      <td>2005-06-23</td>\n",
       "      <td>Jesús</td>\n",
       "      <td>NaN</td>\n",
       "      <td>NaN</td>\n",
       "    </tr>\n",
       "    <tr>\n",
       "      <th>499</th>\n",
       "      <td>480</td>\n",
       "      <td>2004-06-28</td>\n",
       "      <td>Suelo</td>\n",
       "      <td>Venta</td>\n",
       "      <td>Lleida</td>\n",
       "      <td>58</td>\n",
       "      <td>530816</td>\n",
       "      <td>2004-10-07</td>\n",
       "      <td>Luisa</td>\n",
       "      <td>55</td>\n",
       "      <td>2.0</td>\n",
       "    </tr>\n",
       "  </tbody>\n",
       "</table>\n",
       "<p>500 rows × 11 columns</p>\n",
       "</div>"
      ],
      "text/plain": [
       "     Referencia Fecha_alta   Tipo Operación  Provincia Superficie  \\\n",
       "Id                                                                  \n",
       "0            16 2004-01-05   Casa  Alquiler     Girona        179   \n",
       "1            17 2004-01-05   Casa  Alquiler  Tarragona         58   \n",
       "2            23 2004-01-10   Casa  Alquiler     Girona        183   \n",
       "3            28 2004-01-12   Casa  Alquiler  Barcelona        187   \n",
       "4            29 2004-01-12   Casa  Alquiler  Tarragona         91   \n",
       "..          ...        ...    ...       ...        ...        ...   \n",
       "495         452 2004-06-19  Suelo     Venta     Lleida        215   \n",
       "496         453 2004-06-19  Suelo     Venta     Girona        185   \n",
       "497         472 2004-06-25  Suelo     Venta  Tarragona        297   \n",
       "498         474 2004-06-25  Suelo     Venta     Girona        199   \n",
       "499         480 2004-06-28  Suelo     Venta     Lleida         58   \n",
       "\n",
       "    Precio_venta Fecha_venta Vendedor Edad_vendedor  Numero_cuartos  \n",
       "Id                                                                   \n",
       "0         937960  2004-11-21   Carmen            43             1.0  \n",
       "1         358846  2004-10-08    Luisa            22             2.0  \n",
       "2        1438929  2004-04-21    Luisa            70             1.0  \n",
       "3        1660560  2004-06-16  Joaquín            55             NaN  \n",
       "4         753571  2004-07-07    Luisa            26             2.0  \n",
       "..           ...         ...      ...           ...             ...  \n",
       "495      2097970  2004-11-13    Pedro            45             NaN  \n",
       "496      1616900  2005-04-08    Jesús            35             NaN  \n",
       "497      1820016  2005-01-08    María           NaN             2.0  \n",
       "498      1622646  2005-06-23    Jesús           NaN             NaN  \n",
       "499       530816  2004-10-07    Luisa            55             2.0  \n",
       "\n",
       "[500 rows x 11 columns]"
      ]
     },
     "execution_count": 142,
     "metadata": {},
     "output_type": "execute_result"
    }
   ],
   "source": [
    "df =df.set_axis(['Referencia','Fecha_alta','Tipo','Operación','Provincia',\"Superficie\", \"Precio_venta\", \"Fecha_venta\", \"Vendedor\", \"Edad_vendedor\",\"Numero_cuartos\"], axis=1)\n",
    "df\n",
    "#Ahora se muestra el nuevo Data frame con los nombres por columna actualizados."
   ]
  },
  {
   "cell_type": "markdown",
   "metadata": {
    "id": "TocgViKFuiMo"
   },
   "source": [
    "## Eliminar columnas que no utilicemos\n",
    "\n"
   ]
  },
  {
   "cell_type": "code",
   "execution_count": 143,
   "metadata": {
    "colab": {
     "base_uri": "https://localhost:8080/",
     "height": 257
    },
    "executionInfo": {
     "elapsed": 35,
     "status": "ok",
     "timestamp": 1740004708171,
     "user": {
      "displayName": "María de los Ángeles Constantino González",
      "userId": "00856176624250093095"
     },
     "user_tz": 360
    },
    "id": "7RI1vC6Fuo4t",
    "outputId": "b601bdc2-ac53-4f35-e3de-31d688acafad"
   },
   "outputs": [
    {
     "data": {
      "text/html": [
       "<div>\n",
       "<style scoped>\n",
       "    .dataframe tbody tr th:only-of-type {\n",
       "        vertical-align: middle;\n",
       "    }\n",
       "\n",
       "    .dataframe tbody tr th {\n",
       "        vertical-align: top;\n",
       "    }\n",
       "\n",
       "    .dataframe thead th {\n",
       "        text-align: right;\n",
       "    }\n",
       "</style>\n",
       "<table border=\"1\" class=\"dataframe\">\n",
       "  <thead>\n",
       "    <tr style=\"text-align: right;\">\n",
       "      <th></th>\n",
       "      <th>Tipo</th>\n",
       "      <th>Operación</th>\n",
       "      <th>Provincia</th>\n",
       "      <th>Superficie</th>\n",
       "      <th>Precio_venta</th>\n",
       "      <th>Fecha_venta</th>\n",
       "      <th>Vendedor</th>\n",
       "      <th>Edad_vendedor</th>\n",
       "      <th>Numero_cuartos</th>\n",
       "    </tr>\n",
       "    <tr>\n",
       "      <th>Id</th>\n",
       "      <th></th>\n",
       "      <th></th>\n",
       "      <th></th>\n",
       "      <th></th>\n",
       "      <th></th>\n",
       "      <th></th>\n",
       "      <th></th>\n",
       "      <th></th>\n",
       "      <th></th>\n",
       "    </tr>\n",
       "  </thead>\n",
       "  <tbody>\n",
       "    <tr>\n",
       "      <th>0</th>\n",
       "      <td>Casa</td>\n",
       "      <td>Alquiler</td>\n",
       "      <td>Girona</td>\n",
       "      <td>179</td>\n",
       "      <td>937960</td>\n",
       "      <td>2004-11-21</td>\n",
       "      <td>Carmen</td>\n",
       "      <td>43</td>\n",
       "      <td>1.0</td>\n",
       "    </tr>\n",
       "    <tr>\n",
       "      <th>1</th>\n",
       "      <td>Casa</td>\n",
       "      <td>Alquiler</td>\n",
       "      <td>Tarragona</td>\n",
       "      <td>58</td>\n",
       "      <td>358846</td>\n",
       "      <td>2004-10-08</td>\n",
       "      <td>Luisa</td>\n",
       "      <td>22</td>\n",
       "      <td>2.0</td>\n",
       "    </tr>\n",
       "    <tr>\n",
       "      <th>2</th>\n",
       "      <td>Casa</td>\n",
       "      <td>Alquiler</td>\n",
       "      <td>Girona</td>\n",
       "      <td>183</td>\n",
       "      <td>1438929</td>\n",
       "      <td>2004-04-21</td>\n",
       "      <td>Luisa</td>\n",
       "      <td>70</td>\n",
       "      <td>1.0</td>\n",
       "    </tr>\n",
       "    <tr>\n",
       "      <th>3</th>\n",
       "      <td>Casa</td>\n",
       "      <td>Alquiler</td>\n",
       "      <td>Barcelona</td>\n",
       "      <td>187</td>\n",
       "      <td>1660560</td>\n",
       "      <td>2004-06-16</td>\n",
       "      <td>Joaquín</td>\n",
       "      <td>55</td>\n",
       "      <td>NaN</td>\n",
       "    </tr>\n",
       "    <tr>\n",
       "      <th>4</th>\n",
       "      <td>Casa</td>\n",
       "      <td>Alquiler</td>\n",
       "      <td>Tarragona</td>\n",
       "      <td>91</td>\n",
       "      <td>753571</td>\n",
       "      <td>2004-07-07</td>\n",
       "      <td>Luisa</td>\n",
       "      <td>26</td>\n",
       "      <td>2.0</td>\n",
       "    </tr>\n",
       "  </tbody>\n",
       "</table>\n",
       "</div>"
      ],
      "text/plain": [
       "    Tipo Operación  Provincia Superficie Precio_venta Fecha_venta Vendedor  \\\n",
       "Id                                                                           \n",
       "0   Casa  Alquiler     Girona        179       937960  2004-11-21   Carmen   \n",
       "1   Casa  Alquiler  Tarragona         58       358846  2004-10-08    Luisa   \n",
       "2   Casa  Alquiler     Girona        183      1438929  2004-04-21    Luisa   \n",
       "3   Casa  Alquiler  Barcelona        187      1660560  2004-06-16  Joaquín   \n",
       "4   Casa  Alquiler  Tarragona         91       753571  2004-07-07    Luisa   \n",
       "\n",
       "   Edad_vendedor  Numero_cuartos  \n",
       "Id                                \n",
       "0             43             1.0  \n",
       "1             22             2.0  \n",
       "2             70             1.0  \n",
       "3             55             NaN  \n",
       "4             26             2.0  "
      ]
     },
     "execution_count": 143,
     "metadata": {},
     "output_type": "execute_result"
    }
   ],
   "source": [
    "df=df.drop(df.columns[[0,1]], axis = 1)\n",
    "df.head()"
   ]
  },
  {
   "cell_type": "code",
   "execution_count": 144,
   "metadata": {
    "colab": {
     "base_uri": "https://localhost:8080/",
     "height": 475
    },
    "executionInfo": {
     "elapsed": 41,
     "status": "ok",
     "timestamp": 1740004728615,
     "user": {
      "displayName": "María de los Ángeles Constantino González",
      "userId": "00856176624250093095"
     },
     "user_tz": 360
    },
    "id": "5NQ8mKPevcJ1",
    "outputId": "74857a48-1ea8-408e-cb60-5d22ba4a1fc1"
   },
   "outputs": [
    {
     "data": {
      "text/html": [
       "<div>\n",
       "<style scoped>\n",
       "    .dataframe tbody tr th:only-of-type {\n",
       "        vertical-align: middle;\n",
       "    }\n",
       "\n",
       "    .dataframe tbody tr th {\n",
       "        vertical-align: top;\n",
       "    }\n",
       "\n",
       "    .dataframe thead th {\n",
       "        text-align: right;\n",
       "    }\n",
       "</style>\n",
       "<table border=\"1\" class=\"dataframe\">\n",
       "  <thead>\n",
       "    <tr style=\"text-align: right;\">\n",
       "      <th></th>\n",
       "      <th>Tipo</th>\n",
       "      <th>Operación</th>\n",
       "      <th>Provincia</th>\n",
       "      <th>Superficie</th>\n",
       "      <th>Precio_venta</th>\n",
       "      <th>Fecha_venta</th>\n",
       "      <th>Vendedor</th>\n",
       "      <th>Edad_vendedor</th>\n",
       "      <th>Numero_cuartos</th>\n",
       "    </tr>\n",
       "    <tr>\n",
       "      <th>Id</th>\n",
       "      <th></th>\n",
       "      <th></th>\n",
       "      <th></th>\n",
       "      <th></th>\n",
       "      <th></th>\n",
       "      <th></th>\n",
       "      <th></th>\n",
       "      <th></th>\n",
       "      <th></th>\n",
       "    </tr>\n",
       "  </thead>\n",
       "  <tbody>\n",
       "    <tr>\n",
       "      <th>0</th>\n",
       "      <td>Casa</td>\n",
       "      <td>Alquiler</td>\n",
       "      <td>Girona</td>\n",
       "      <td>179</td>\n",
       "      <td>937960</td>\n",
       "      <td>2004-11-21</td>\n",
       "      <td>Carmen</td>\n",
       "      <td>43</td>\n",
       "      <td>1.0</td>\n",
       "    </tr>\n",
       "    <tr>\n",
       "      <th>1</th>\n",
       "      <td>Casa</td>\n",
       "      <td>Alquiler</td>\n",
       "      <td>Tarragona</td>\n",
       "      <td>58</td>\n",
       "      <td>358846</td>\n",
       "      <td>2004-10-08</td>\n",
       "      <td>Luisa</td>\n",
       "      <td>22</td>\n",
       "      <td>2.0</td>\n",
       "    </tr>\n",
       "    <tr>\n",
       "      <th>2</th>\n",
       "      <td>Casa</td>\n",
       "      <td>Alquiler</td>\n",
       "      <td>Girona</td>\n",
       "      <td>183</td>\n",
       "      <td>1438929</td>\n",
       "      <td>2004-04-21</td>\n",
       "      <td>Luisa</td>\n",
       "      <td>70</td>\n",
       "      <td>1.0</td>\n",
       "    </tr>\n",
       "    <tr>\n",
       "      <th>3</th>\n",
       "      <td>Casa</td>\n",
       "      <td>Alquiler</td>\n",
       "      <td>Barcelona</td>\n",
       "      <td>187</td>\n",
       "      <td>1660560</td>\n",
       "      <td>2004-06-16</td>\n",
       "      <td>Joaquín</td>\n",
       "      <td>55</td>\n",
       "      <td>NaN</td>\n",
       "    </tr>\n",
       "    <tr>\n",
       "      <th>4</th>\n",
       "      <td>Casa</td>\n",
       "      <td>Alquiler</td>\n",
       "      <td>Tarragona</td>\n",
       "      <td>91</td>\n",
       "      <td>753571</td>\n",
       "      <td>2004-07-07</td>\n",
       "      <td>Luisa</td>\n",
       "      <td>26</td>\n",
       "      <td>2.0</td>\n",
       "    </tr>\n",
       "    <tr>\n",
       "      <th>...</th>\n",
       "      <td>...</td>\n",
       "      <td>...</td>\n",
       "      <td>...</td>\n",
       "      <td>...</td>\n",
       "      <td>...</td>\n",
       "      <td>...</td>\n",
       "      <td>...</td>\n",
       "      <td>...</td>\n",
       "      <td>...</td>\n",
       "    </tr>\n",
       "    <tr>\n",
       "      <th>495</th>\n",
       "      <td>Suelo</td>\n",
       "      <td>Venta</td>\n",
       "      <td>Lleida</td>\n",
       "      <td>215</td>\n",
       "      <td>2097970</td>\n",
       "      <td>2004-11-13</td>\n",
       "      <td>Pedro</td>\n",
       "      <td>45</td>\n",
       "      <td>NaN</td>\n",
       "    </tr>\n",
       "    <tr>\n",
       "      <th>496</th>\n",
       "      <td>Suelo</td>\n",
       "      <td>Venta</td>\n",
       "      <td>Girona</td>\n",
       "      <td>185</td>\n",
       "      <td>1616900</td>\n",
       "      <td>2005-04-08</td>\n",
       "      <td>Jesús</td>\n",
       "      <td>35</td>\n",
       "      <td>NaN</td>\n",
       "    </tr>\n",
       "    <tr>\n",
       "      <th>497</th>\n",
       "      <td>Suelo</td>\n",
       "      <td>Venta</td>\n",
       "      <td>Tarragona</td>\n",
       "      <td>297</td>\n",
       "      <td>1820016</td>\n",
       "      <td>2005-01-08</td>\n",
       "      <td>María</td>\n",
       "      <td>NaN</td>\n",
       "      <td>2.0</td>\n",
       "    </tr>\n",
       "    <tr>\n",
       "      <th>498</th>\n",
       "      <td>Suelo</td>\n",
       "      <td>Venta</td>\n",
       "      <td>Girona</td>\n",
       "      <td>199</td>\n",
       "      <td>1622646</td>\n",
       "      <td>2005-06-23</td>\n",
       "      <td>Jesús</td>\n",
       "      <td>NaN</td>\n",
       "      <td>NaN</td>\n",
       "    </tr>\n",
       "    <tr>\n",
       "      <th>499</th>\n",
       "      <td>Suelo</td>\n",
       "      <td>Venta</td>\n",
       "      <td>Lleida</td>\n",
       "      <td>58</td>\n",
       "      <td>530816</td>\n",
       "      <td>2004-10-07</td>\n",
       "      <td>Luisa</td>\n",
       "      <td>55</td>\n",
       "      <td>2.0</td>\n",
       "    </tr>\n",
       "  </tbody>\n",
       "</table>\n",
       "<p>500 rows × 9 columns</p>\n",
       "</div>"
      ],
      "text/plain": [
       "      Tipo Operación  Provincia Superficie Precio_venta Fecha_venta Vendedor  \\\n",
       "Id                                                                             \n",
       "0     Casa  Alquiler     Girona        179       937960  2004-11-21   Carmen   \n",
       "1     Casa  Alquiler  Tarragona         58       358846  2004-10-08    Luisa   \n",
       "2     Casa  Alquiler     Girona        183      1438929  2004-04-21    Luisa   \n",
       "3     Casa  Alquiler  Barcelona        187      1660560  2004-06-16  Joaquín   \n",
       "4     Casa  Alquiler  Tarragona         91       753571  2004-07-07    Luisa   \n",
       "..     ...       ...        ...        ...          ...         ...      ...   \n",
       "495  Suelo     Venta     Lleida        215      2097970  2004-11-13    Pedro   \n",
       "496  Suelo     Venta     Girona        185      1616900  2005-04-08    Jesús   \n",
       "497  Suelo     Venta  Tarragona        297      1820016  2005-01-08    María   \n",
       "498  Suelo     Venta     Girona        199      1622646  2005-06-23    Jesús   \n",
       "499  Suelo     Venta     Lleida         58       530816  2004-10-07    Luisa   \n",
       "\n",
       "    Edad_vendedor  Numero_cuartos  \n",
       "Id                                 \n",
       "0              43             1.0  \n",
       "1              22             2.0  \n",
       "2              70             1.0  \n",
       "3              55             NaN  \n",
       "4              26             2.0  \n",
       "..            ...             ...  \n",
       "495            45             NaN  \n",
       "496            35             NaN  \n",
       "497           NaN             2.0  \n",
       "498           NaN             NaN  \n",
       "499            55             2.0  \n",
       "\n",
       "[500 rows x 9 columns]"
      ]
     },
     "execution_count": 144,
     "metadata": {},
     "output_type": "execute_result"
    }
   ],
   "source": [
    "#Podemos usar del para eliminar columnas\n",
    "#del df[\"Vendedor\"]\n",
    "df"
   ]
  },
  {
   "cell_type": "markdown",
   "metadata": {
    "id": "Zi2Zu8VTAXjb"
   },
   "source": [
    "## Eliminar las columnas que tengan alto porcentaje de valores nulos\n",
    "\n",
    "El porcentaje que decidmos depende del contexto de nuestro problema.\n"
   ]
  },
  {
   "cell_type": "code",
   "execution_count": 145,
   "metadata": {
    "colab": {
     "base_uri": "https://localhost:8080/",
     "height": 237
    },
    "executionInfo": {
     "elapsed": 43,
     "status": "ok",
     "timestamp": 1740004902073,
     "user": {
      "displayName": "María de los Ángeles Constantino González",
      "userId": "00856176624250093095"
     },
     "user_tz": 360
    },
    "id": "I2FQfGEWBkL7",
    "outputId": "c88dc6de-f208-49a8-9b4d-23e14d6a8343"
   },
   "outputs": [
    {
     "data": {
      "text/html": [
       "<div>\n",
       "<style scoped>\n",
       "    .dataframe tbody tr th:only-of-type {\n",
       "        vertical-align: middle;\n",
       "    }\n",
       "\n",
       "    .dataframe tbody tr th {\n",
       "        vertical-align: top;\n",
       "    }\n",
       "\n",
       "    .dataframe thead th {\n",
       "        text-align: right;\n",
       "    }\n",
       "</style>\n",
       "<table border=\"1\" class=\"dataframe\">\n",
       "  <thead>\n",
       "    <tr style=\"text-align: right;\">\n",
       "      <th></th>\n",
       "      <th>Tipo</th>\n",
       "      <th>Operación</th>\n",
       "      <th>Provincia</th>\n",
       "      <th>Superficie</th>\n",
       "      <th>Precio_venta</th>\n",
       "      <th>Fecha_venta</th>\n",
       "      <th>Vendedor</th>\n",
       "      <th>Edad_vendedor</th>\n",
       "      <th>Numero_cuartos</th>\n",
       "    </tr>\n",
       "    <tr>\n",
       "      <th>Id</th>\n",
       "      <th></th>\n",
       "      <th></th>\n",
       "      <th></th>\n",
       "      <th></th>\n",
       "      <th></th>\n",
       "      <th></th>\n",
       "      <th></th>\n",
       "      <th></th>\n",
       "      <th></th>\n",
       "    </tr>\n",
       "  </thead>\n",
       "  <tbody>\n",
       "    <tr>\n",
       "      <th>0</th>\n",
       "      <td>Casa</td>\n",
       "      <td>Alquiler</td>\n",
       "      <td>Girona</td>\n",
       "      <td>179</td>\n",
       "      <td>937960</td>\n",
       "      <td>2004-11-21</td>\n",
       "      <td>Carmen</td>\n",
       "      <td>43</td>\n",
       "      <td>1.0</td>\n",
       "    </tr>\n",
       "    <tr>\n",
       "      <th>1</th>\n",
       "      <td>Casa</td>\n",
       "      <td>Alquiler</td>\n",
       "      <td>Tarragona</td>\n",
       "      <td>58</td>\n",
       "      <td>358846</td>\n",
       "      <td>2004-10-08</td>\n",
       "      <td>Luisa</td>\n",
       "      <td>22</td>\n",
       "      <td>2.0</td>\n",
       "    </tr>\n",
       "    <tr>\n",
       "      <th>2</th>\n",
       "      <td>Casa</td>\n",
       "      <td>Alquiler</td>\n",
       "      <td>Girona</td>\n",
       "      <td>183</td>\n",
       "      <td>1438929</td>\n",
       "      <td>2004-04-21</td>\n",
       "      <td>Luisa</td>\n",
       "      <td>70</td>\n",
       "      <td>1.0</td>\n",
       "    </tr>\n",
       "    <tr>\n",
       "      <th>3</th>\n",
       "      <td>Casa</td>\n",
       "      <td>Alquiler</td>\n",
       "      <td>Barcelona</td>\n",
       "      <td>187</td>\n",
       "      <td>1660560</td>\n",
       "      <td>2004-06-16</td>\n",
       "      <td>Joaquín</td>\n",
       "      <td>55</td>\n",
       "      <td>NaN</td>\n",
       "    </tr>\n",
       "    <tr>\n",
       "      <th>4</th>\n",
       "      <td>Casa</td>\n",
       "      <td>Alquiler</td>\n",
       "      <td>Tarragona</td>\n",
       "      <td>91</td>\n",
       "      <td>753571</td>\n",
       "      <td>2004-07-07</td>\n",
       "      <td>Luisa</td>\n",
       "      <td>26</td>\n",
       "      <td>2.0</td>\n",
       "    </tr>\n",
       "  </tbody>\n",
       "</table>\n",
       "</div>"
      ],
      "text/plain": [
       "    Tipo Operación  Provincia Superficie Precio_venta Fecha_venta Vendedor  \\\n",
       "Id                                                                           \n",
       "0   Casa  Alquiler     Girona        179       937960  2004-11-21   Carmen   \n",
       "1   Casa  Alquiler  Tarragona         58       358846  2004-10-08    Luisa   \n",
       "2   Casa  Alquiler     Girona        183      1438929  2004-04-21    Luisa   \n",
       "3   Casa  Alquiler  Barcelona        187      1660560  2004-06-16  Joaquín   \n",
       "4   Casa  Alquiler  Tarragona         91       753571  2004-07-07    Luisa   \n",
       "\n",
       "   Edad_vendedor  Numero_cuartos  \n",
       "Id                                \n",
       "0             43             1.0  \n",
       "1             22             2.0  \n",
       "2             70             1.0  \n",
       "3             55             NaN  \n",
       "4             26             2.0  "
      ]
     },
     "execution_count": 145,
     "metadata": {},
     "output_type": "execute_result"
    }
   ],
   "source": [
    "#Ej. Borrar columnas con el 40 a 100% de nulos\n",
    "df.head()"
   ]
  },
  {
   "cell_type": "code",
   "execution_count": 146,
   "metadata": {
    "colab": {
     "base_uri": "https://localhost:8080/",
     "height": 356
    },
    "executionInfo": {
     "elapsed": 38,
     "status": "error",
     "timestamp": 1740004757246,
     "user": {
      "displayName": "María de los Ángeles Constantino González",
      "userId": "00856176624250093095"
     },
     "user_tz": 360
    },
    "id": "oda3CVBEvEmf",
    "outputId": "9b9c8492-8ba9-4245-d8ba-9a9ad911fb9c"
   },
   "outputs": [
    {
     "data": {
      "text/html": [
       "<div>\n",
       "<style scoped>\n",
       "    .dataframe tbody tr th:only-of-type {\n",
       "        vertical-align: middle;\n",
       "    }\n",
       "\n",
       "    .dataframe tbody tr th {\n",
       "        vertical-align: top;\n",
       "    }\n",
       "\n",
       "    .dataframe thead th {\n",
       "        text-align: right;\n",
       "    }\n",
       "</style>\n",
       "<table border=\"1\" class=\"dataframe\">\n",
       "  <thead>\n",
       "    <tr style=\"text-align: right;\">\n",
       "      <th></th>\n",
       "      <th>Tipo</th>\n",
       "      <th>Operación</th>\n",
       "      <th>Provincia</th>\n",
       "      <th>Superficie</th>\n",
       "      <th>Precio_venta</th>\n",
       "      <th>Fecha_venta</th>\n",
       "      <th>Vendedor</th>\n",
       "      <th>Edad_vendedor</th>\n",
       "    </tr>\n",
       "    <tr>\n",
       "      <th>Id</th>\n",
       "      <th></th>\n",
       "      <th></th>\n",
       "      <th></th>\n",
       "      <th></th>\n",
       "      <th></th>\n",
       "      <th></th>\n",
       "      <th></th>\n",
       "      <th></th>\n",
       "    </tr>\n",
       "  </thead>\n",
       "  <tbody>\n",
       "    <tr>\n",
       "      <th>0</th>\n",
       "      <td>Casa</td>\n",
       "      <td>Alquiler</td>\n",
       "      <td>Girona</td>\n",
       "      <td>179</td>\n",
       "      <td>937960</td>\n",
       "      <td>2004-11-21</td>\n",
       "      <td>Carmen</td>\n",
       "      <td>43</td>\n",
       "    </tr>\n",
       "    <tr>\n",
       "      <th>1</th>\n",
       "      <td>Casa</td>\n",
       "      <td>Alquiler</td>\n",
       "      <td>Tarragona</td>\n",
       "      <td>58</td>\n",
       "      <td>358846</td>\n",
       "      <td>2004-10-08</td>\n",
       "      <td>Luisa</td>\n",
       "      <td>22</td>\n",
       "    </tr>\n",
       "    <tr>\n",
       "      <th>2</th>\n",
       "      <td>Casa</td>\n",
       "      <td>Alquiler</td>\n",
       "      <td>Girona</td>\n",
       "      <td>183</td>\n",
       "      <td>1438929</td>\n",
       "      <td>2004-04-21</td>\n",
       "      <td>Luisa</td>\n",
       "      <td>70</td>\n",
       "    </tr>\n",
       "    <tr>\n",
       "      <th>3</th>\n",
       "      <td>Casa</td>\n",
       "      <td>Alquiler</td>\n",
       "      <td>Barcelona</td>\n",
       "      <td>187</td>\n",
       "      <td>1660560</td>\n",
       "      <td>2004-06-16</td>\n",
       "      <td>Joaquín</td>\n",
       "      <td>55</td>\n",
       "    </tr>\n",
       "    <tr>\n",
       "      <th>4</th>\n",
       "      <td>Casa</td>\n",
       "      <td>Alquiler</td>\n",
       "      <td>Tarragona</td>\n",
       "      <td>91</td>\n",
       "      <td>753571</td>\n",
       "      <td>2004-07-07</td>\n",
       "      <td>Luisa</td>\n",
       "      <td>26</td>\n",
       "    </tr>\n",
       "    <tr>\n",
       "      <th>...</th>\n",
       "      <td>...</td>\n",
       "      <td>...</td>\n",
       "      <td>...</td>\n",
       "      <td>...</td>\n",
       "      <td>...</td>\n",
       "      <td>...</td>\n",
       "      <td>...</td>\n",
       "      <td>...</td>\n",
       "    </tr>\n",
       "    <tr>\n",
       "      <th>495</th>\n",
       "      <td>Suelo</td>\n",
       "      <td>Venta</td>\n",
       "      <td>Lleida</td>\n",
       "      <td>215</td>\n",
       "      <td>2097970</td>\n",
       "      <td>2004-11-13</td>\n",
       "      <td>Pedro</td>\n",
       "      <td>45</td>\n",
       "    </tr>\n",
       "    <tr>\n",
       "      <th>496</th>\n",
       "      <td>Suelo</td>\n",
       "      <td>Venta</td>\n",
       "      <td>Girona</td>\n",
       "      <td>185</td>\n",
       "      <td>1616900</td>\n",
       "      <td>2005-04-08</td>\n",
       "      <td>Jesús</td>\n",
       "      <td>35</td>\n",
       "    </tr>\n",
       "    <tr>\n",
       "      <th>497</th>\n",
       "      <td>Suelo</td>\n",
       "      <td>Venta</td>\n",
       "      <td>Tarragona</td>\n",
       "      <td>297</td>\n",
       "      <td>1820016</td>\n",
       "      <td>2005-01-08</td>\n",
       "      <td>María</td>\n",
       "      <td>NaN</td>\n",
       "    </tr>\n",
       "    <tr>\n",
       "      <th>498</th>\n",
       "      <td>Suelo</td>\n",
       "      <td>Venta</td>\n",
       "      <td>Girona</td>\n",
       "      <td>199</td>\n",
       "      <td>1622646</td>\n",
       "      <td>2005-06-23</td>\n",
       "      <td>Jesús</td>\n",
       "      <td>NaN</td>\n",
       "    </tr>\n",
       "    <tr>\n",
       "      <th>499</th>\n",
       "      <td>Suelo</td>\n",
       "      <td>Venta</td>\n",
       "      <td>Lleida</td>\n",
       "      <td>58</td>\n",
       "      <td>530816</td>\n",
       "      <td>2004-10-07</td>\n",
       "      <td>Luisa</td>\n",
       "      <td>55</td>\n",
       "    </tr>\n",
       "  </tbody>\n",
       "</table>\n",
       "<p>500 rows × 8 columns</p>\n",
       "</div>"
      ],
      "text/plain": [
       "      Tipo Operación  Provincia Superficie Precio_venta Fecha_venta Vendedor  \\\n",
       "Id                                                                             \n",
       "0     Casa  Alquiler     Girona        179       937960  2004-11-21   Carmen   \n",
       "1     Casa  Alquiler  Tarragona         58       358846  2004-10-08    Luisa   \n",
       "2     Casa  Alquiler     Girona        183      1438929  2004-04-21    Luisa   \n",
       "3     Casa  Alquiler  Barcelona        187      1660560  2004-06-16  Joaquín   \n",
       "4     Casa  Alquiler  Tarragona         91       753571  2004-07-07    Luisa   \n",
       "..     ...       ...        ...        ...          ...         ...      ...   \n",
       "495  Suelo     Venta     Lleida        215      2097970  2004-11-13    Pedro   \n",
       "496  Suelo     Venta     Girona        185      1616900  2005-04-08    Jesús   \n",
       "497  Suelo     Venta  Tarragona        297      1820016  2005-01-08    María   \n",
       "498  Suelo     Venta     Girona        199      1622646  2005-06-23    Jesús   \n",
       "499  Suelo     Venta     Lleida         58       530816  2004-10-07    Luisa   \n",
       "\n",
       "    Edad_vendedor  \n",
       "Id                 \n",
       "0              43  \n",
       "1              22  \n",
       "2              70  \n",
       "3              55  \n",
       "4              26  \n",
       "..            ...  \n",
       "495            45  \n",
       "496            35  \n",
       "497           NaN  \n",
       "498           NaN  \n",
       "499            55  \n",
       "\n",
       "[500 rows x 8 columns]"
      ]
     },
     "execution_count": 146,
     "metadata": {},
     "output_type": "execute_result"
    }
   ],
   "source": [
    "#Eliminar columnas con el nombre\n",
    "df.drop('Numero_cuartos', inplace=True, axis=1)\n",
    "\n",
    "#Otra forma de eliminar columnas\n",
    "#df.drop(columns='Numero_cuartos')\n",
    "\n",
    "df"
   ]
  },
  {
   "cell_type": "markdown",
   "metadata": {
    "id": "QoslQ2PxAiJS"
   },
   "source": [
    "## Eliminar duplicados"
   ]
  },
  {
   "cell_type": "code",
   "execution_count": 147,
   "metadata": {
    "colab": {
     "base_uri": "https://localhost:8080/",
     "height": 489
    },
    "executionInfo": {
     "elapsed": 50,
     "status": "ok",
     "timestamp": 1740004932264,
     "user": {
      "displayName": "María de los Ángeles Constantino González",
      "userId": "00856176624250093095"
     },
     "user_tz": 360
    },
    "id": "nOPWih331lQF",
    "outputId": "507f086f-fc73-46d6-c0a4-5642e07d5d41"
   },
   "outputs": [
    {
     "data": {
      "text/plain": [
       "Id\n",
       "0      False\n",
       "1      False\n",
       "2      False\n",
       "3      False\n",
       "4      False\n",
       "       ...  \n",
       "495    False\n",
       "496    False\n",
       "497    False\n",
       "498    False\n",
       "499    False\n",
       "Length: 500, dtype: bool"
      ]
     },
     "execution_count": 147,
     "metadata": {},
     "output_type": "execute_result"
    }
   ],
   "source": [
    "#Vemos los duplicados\n",
    "df.duplicated()"
   ]
  },
  {
   "cell_type": "code",
   "execution_count": 148,
   "metadata": {
    "colab": {
     "base_uri": "https://localhost:8080/",
     "height": 455
    },
    "executionInfo": {
     "elapsed": 55,
     "status": "ok",
     "timestamp": 1740004939577,
     "user": {
      "displayName": "María de los Ángeles Constantino González",
      "userId": "00856176624250093095"
     },
     "user_tz": 360
    },
    "id": "gBS98Jfc1rQv",
    "outputId": "0922bd9d-587c-429b-9304-50402fa38cd4"
   },
   "outputs": [
    {
     "data": {
      "text/html": [
       "<div>\n",
       "<style scoped>\n",
       "    .dataframe tbody tr th:only-of-type {\n",
       "        vertical-align: middle;\n",
       "    }\n",
       "\n",
       "    .dataframe tbody tr th {\n",
       "        vertical-align: top;\n",
       "    }\n",
       "\n",
       "    .dataframe thead th {\n",
       "        text-align: right;\n",
       "    }\n",
       "</style>\n",
       "<table border=\"1\" class=\"dataframe\">\n",
       "  <thead>\n",
       "    <tr style=\"text-align: right;\">\n",
       "      <th></th>\n",
       "      <th>Tipo</th>\n",
       "      <th>Operación</th>\n",
       "      <th>Provincia</th>\n",
       "      <th>Superficie</th>\n",
       "      <th>Precio_venta</th>\n",
       "      <th>Fecha_venta</th>\n",
       "      <th>Vendedor</th>\n",
       "      <th>Edad_vendedor</th>\n",
       "    </tr>\n",
       "    <tr>\n",
       "      <th>Id</th>\n",
       "      <th></th>\n",
       "      <th></th>\n",
       "      <th></th>\n",
       "      <th></th>\n",
       "      <th></th>\n",
       "      <th></th>\n",
       "      <th></th>\n",
       "      <th></th>\n",
       "    </tr>\n",
       "  </thead>\n",
       "  <tbody>\n",
       "    <tr>\n",
       "      <th>0</th>\n",
       "      <td>Casa</td>\n",
       "      <td>Alquiler</td>\n",
       "      <td>Girona</td>\n",
       "      <td>179</td>\n",
       "      <td>937960</td>\n",
       "      <td>2004-11-21</td>\n",
       "      <td>Carmen</td>\n",
       "      <td>43</td>\n",
       "    </tr>\n",
       "    <tr>\n",
       "      <th>1</th>\n",
       "      <td>Casa</td>\n",
       "      <td>Alquiler</td>\n",
       "      <td>Tarragona</td>\n",
       "      <td>58</td>\n",
       "      <td>358846</td>\n",
       "      <td>2004-10-08</td>\n",
       "      <td>Luisa</td>\n",
       "      <td>22</td>\n",
       "    </tr>\n",
       "    <tr>\n",
       "      <th>2</th>\n",
       "      <td>Casa</td>\n",
       "      <td>Alquiler</td>\n",
       "      <td>Girona</td>\n",
       "      <td>183</td>\n",
       "      <td>1438929</td>\n",
       "      <td>2004-04-21</td>\n",
       "      <td>Luisa</td>\n",
       "      <td>70</td>\n",
       "    </tr>\n",
       "    <tr>\n",
       "      <th>3</th>\n",
       "      <td>Casa</td>\n",
       "      <td>Alquiler</td>\n",
       "      <td>Barcelona</td>\n",
       "      <td>187</td>\n",
       "      <td>1660560</td>\n",
       "      <td>2004-06-16</td>\n",
       "      <td>Joaquín</td>\n",
       "      <td>55</td>\n",
       "    </tr>\n",
       "    <tr>\n",
       "      <th>4</th>\n",
       "      <td>Casa</td>\n",
       "      <td>Alquiler</td>\n",
       "      <td>Tarragona</td>\n",
       "      <td>91</td>\n",
       "      <td>753571</td>\n",
       "      <td>2004-07-07</td>\n",
       "      <td>Luisa</td>\n",
       "      <td>26</td>\n",
       "    </tr>\n",
       "    <tr>\n",
       "      <th>...</th>\n",
       "      <td>...</td>\n",
       "      <td>...</td>\n",
       "      <td>...</td>\n",
       "      <td>...</td>\n",
       "      <td>...</td>\n",
       "      <td>...</td>\n",
       "      <td>...</td>\n",
       "      <td>...</td>\n",
       "    </tr>\n",
       "    <tr>\n",
       "      <th>495</th>\n",
       "      <td>Suelo</td>\n",
       "      <td>Venta</td>\n",
       "      <td>Lleida</td>\n",
       "      <td>215</td>\n",
       "      <td>2097970</td>\n",
       "      <td>2004-11-13</td>\n",
       "      <td>Pedro</td>\n",
       "      <td>45</td>\n",
       "    </tr>\n",
       "    <tr>\n",
       "      <th>496</th>\n",
       "      <td>Suelo</td>\n",
       "      <td>Venta</td>\n",
       "      <td>Girona</td>\n",
       "      <td>185</td>\n",
       "      <td>1616900</td>\n",
       "      <td>2005-04-08</td>\n",
       "      <td>Jesús</td>\n",
       "      <td>35</td>\n",
       "    </tr>\n",
       "    <tr>\n",
       "      <th>497</th>\n",
       "      <td>Suelo</td>\n",
       "      <td>Venta</td>\n",
       "      <td>Tarragona</td>\n",
       "      <td>297</td>\n",
       "      <td>1820016</td>\n",
       "      <td>2005-01-08</td>\n",
       "      <td>María</td>\n",
       "      <td>NaN</td>\n",
       "    </tr>\n",
       "    <tr>\n",
       "      <th>498</th>\n",
       "      <td>Suelo</td>\n",
       "      <td>Venta</td>\n",
       "      <td>Girona</td>\n",
       "      <td>199</td>\n",
       "      <td>1622646</td>\n",
       "      <td>2005-06-23</td>\n",
       "      <td>Jesús</td>\n",
       "      <td>NaN</td>\n",
       "    </tr>\n",
       "    <tr>\n",
       "      <th>499</th>\n",
       "      <td>Suelo</td>\n",
       "      <td>Venta</td>\n",
       "      <td>Lleida</td>\n",
       "      <td>58</td>\n",
       "      <td>530816</td>\n",
       "      <td>2004-10-07</td>\n",
       "      <td>Luisa</td>\n",
       "      <td>55</td>\n",
       "    </tr>\n",
       "  </tbody>\n",
       "</table>\n",
       "<p>500 rows × 8 columns</p>\n",
       "</div>"
      ],
      "text/plain": [
       "      Tipo Operación  Provincia Superficie Precio_venta Fecha_venta Vendedor  \\\n",
       "Id                                                                             \n",
       "0     Casa  Alquiler     Girona        179       937960  2004-11-21   Carmen   \n",
       "1     Casa  Alquiler  Tarragona         58       358846  2004-10-08    Luisa   \n",
       "2     Casa  Alquiler     Girona        183      1438929  2004-04-21    Luisa   \n",
       "3     Casa  Alquiler  Barcelona        187      1660560  2004-06-16  Joaquín   \n",
       "4     Casa  Alquiler  Tarragona         91       753571  2004-07-07    Luisa   \n",
       "..     ...       ...        ...        ...          ...         ...      ...   \n",
       "495  Suelo     Venta     Lleida        215      2097970  2004-11-13    Pedro   \n",
       "496  Suelo     Venta     Girona        185      1616900  2005-04-08    Jesús   \n",
       "497  Suelo     Venta  Tarragona        297      1820016  2005-01-08    María   \n",
       "498  Suelo     Venta     Girona        199      1622646  2005-06-23    Jesús   \n",
       "499  Suelo     Venta     Lleida         58       530816  2004-10-07    Luisa   \n",
       "\n",
       "    Edad_vendedor  \n",
       "Id                 \n",
       "0              43  \n",
       "1              22  \n",
       "2              70  \n",
       "3              55  \n",
       "4              26  \n",
       "..            ...  \n",
       "495            45  \n",
       "496            35  \n",
       "497           NaN  \n",
       "498           NaN  \n",
       "499            55  \n",
       "\n",
       "[500 rows x 8 columns]"
      ]
     },
     "execution_count": 148,
     "metadata": {},
     "output_type": "execute_result"
    }
   ],
   "source": [
    "#Eliminar duplicados completa\n",
    "df = df.drop_duplicates()\n",
    "df"
   ]
  },
  {
   "cell_type": "code",
   "execution_count": 149,
   "metadata": {
    "colab": {
     "base_uri": "https://localhost:8080/",
     "height": 489
    },
    "executionInfo": {
     "elapsed": 28,
     "status": "ok",
     "timestamp": 1740004963089,
     "user": {
      "displayName": "María de los Ángeles Constantino González",
      "userId": "00856176624250093095"
     },
     "user_tz": 360
    },
    "id": "2khZ3cPz1zWz",
    "outputId": "4649fdfb-e268-440f-fdf3-c4342b03842b"
   },
   "outputs": [
    {
     "data": {
      "text/plain": [
       "Id\n",
       "0      False\n",
       "1      False\n",
       "2      False\n",
       "3      False\n",
       "4      False\n",
       "       ...  \n",
       "495    False\n",
       "496    False\n",
       "497    False\n",
       "498    False\n",
       "499    False\n",
       "Length: 500, dtype: bool"
      ]
     },
     "execution_count": 149,
     "metadata": {},
     "output_type": "execute_result"
    }
   ],
   "source": [
    "#Eliminación de los registros duplicados parciales\n",
    "df.duplicated(df.columns[~df.columns.isin(['Vendedor'])])"
   ]
  },
  {
   "cell_type": "markdown",
   "metadata": {
    "id": "SKCXNTPxAsne"
   },
   "source": [
    "## Obten una muestra de la base de datos (en caso de que la base de datos sea muy grande)"
   ]
  },
  {
   "cell_type": "code",
   "execution_count": 150,
   "metadata": {
    "colab": {
     "base_uri": "https://localhost:8080/",
     "height": 455
    },
    "executionInfo": {
     "elapsed": 71,
     "status": "ok",
     "timestamp": 1740005093061,
     "user": {
      "displayName": "María de los Ángeles Constantino González",
      "userId": "00856176624250093095"
     },
     "user_tz": 360
    },
    "id": "iIQ5RxNnBUao",
    "outputId": "7e6da0dd-123c-440a-f698-77d4e290ef79"
   },
   "outputs": [
    {
     "data": {
      "text/html": [
       "<div>\n",
       "<style scoped>\n",
       "    .dataframe tbody tr th:only-of-type {\n",
       "        vertical-align: middle;\n",
       "    }\n",
       "\n",
       "    .dataframe tbody tr th {\n",
       "        vertical-align: top;\n",
       "    }\n",
       "\n",
       "    .dataframe thead th {\n",
       "        text-align: right;\n",
       "    }\n",
       "</style>\n",
       "<table border=\"1\" class=\"dataframe\">\n",
       "  <thead>\n",
       "    <tr style=\"text-align: right;\">\n",
       "      <th></th>\n",
       "      <th>Tipo</th>\n",
       "      <th>Operación</th>\n",
       "      <th>Provincia</th>\n",
       "      <th>Superficie</th>\n",
       "      <th>Precio_venta</th>\n",
       "      <th>Fecha_venta</th>\n",
       "      <th>Vendedor</th>\n",
       "      <th>Edad_vendedor</th>\n",
       "    </tr>\n",
       "    <tr>\n",
       "      <th>Id</th>\n",
       "      <th></th>\n",
       "      <th></th>\n",
       "      <th></th>\n",
       "      <th></th>\n",
       "      <th></th>\n",
       "      <th></th>\n",
       "      <th></th>\n",
       "      <th></th>\n",
       "    </tr>\n",
       "  </thead>\n",
       "  <tbody>\n",
       "    <tr>\n",
       "      <th>160</th>\n",
       "      <td>Local</td>\n",
       "      <td>Alquiler</td>\n",
       "      <td>Girona</td>\n",
       "      <td>138</td>\n",
       "      <td>877680</td>\n",
       "      <td>2005-03-31</td>\n",
       "      <td>Luisa</td>\n",
       "      <td>44</td>\n",
       "    </tr>\n",
       "    <tr>\n",
       "      <th>256</th>\n",
       "      <td>Oficina</td>\n",
       "      <td>Venta</td>\n",
       "      <td>Tarragona</td>\n",
       "      <td>42</td>\n",
       "      <td>367584</td>\n",
       "      <td>2004-08-11</td>\n",
       "      <td>Joaquín</td>\n",
       "      <td>44</td>\n",
       "    </tr>\n",
       "    <tr>\n",
       "      <th>155</th>\n",
       "      <td>Local</td>\n",
       "      <td>Alquiler</td>\n",
       "      <td>Tarragona</td>\n",
       "      <td>284</td>\n",
       "      <td>1431076</td>\n",
       "      <td>2004-12-22</td>\n",
       "      <td>María</td>\n",
       "      <td>22</td>\n",
       "    </tr>\n",
       "    <tr>\n",
       "      <th>473</th>\n",
       "      <td>Suelo</td>\n",
       "      <td>Venta</td>\n",
       "      <td>Tarragona</td>\n",
       "      <td>148</td>\n",
       "      <td>1431012</td>\n",
       "      <td>2004-09-01</td>\n",
       "      <td>Jesús</td>\n",
       "      <td>38</td>\n",
       "    </tr>\n",
       "    <tr>\n",
       "      <th>441</th>\n",
       "      <td>Suelo</td>\n",
       "      <td>Alquiler</td>\n",
       "      <td>Girona</td>\n",
       "      <td>262</td>\n",
       "      <td>2404898</td>\n",
       "      <td>2004-10-20</td>\n",
       "      <td>Luisa</td>\n",
       "      <td>27</td>\n",
       "    </tr>\n",
       "    <tr>\n",
       "      <th>...</th>\n",
       "      <td>...</td>\n",
       "      <td>...</td>\n",
       "      <td>...</td>\n",
       "      <td>...</td>\n",
       "      <td>...</td>\n",
       "      <td>...</td>\n",
       "      <td>...</td>\n",
       "      <td>...</td>\n",
       "    </tr>\n",
       "    <tr>\n",
       "      <th>248</th>\n",
       "      <td>Oficina</td>\n",
       "      <td>Venta</td>\n",
       "      <td>Girona</td>\n",
       "      <td>253</td>\n",
       "      <td>2047276</td>\n",
       "      <td>2004-09-10</td>\n",
       "      <td>Luisa</td>\n",
       "      <td>74</td>\n",
       "    </tr>\n",
       "    <tr>\n",
       "      <th>465</th>\n",
       "      <td>Suelo</td>\n",
       "      <td>Venta</td>\n",
       "      <td>Lleida</td>\n",
       "      <td>56</td>\n",
       "      <td>471072</td>\n",
       "      <td>2004-05-29</td>\n",
       "      <td>María</td>\n",
       "      <td>43</td>\n",
       "    </tr>\n",
       "    <tr>\n",
       "      <th>339</th>\n",
       "      <td>Parking</td>\n",
       "      <td>Venta</td>\n",
       "      <td>Tarragona</td>\n",
       "      <td>234</td>\n",
       "      <td>1398852</td>\n",
       "      <td>2004-11-01</td>\n",
       "      <td>María</td>\n",
       "      <td>26</td>\n",
       "    </tr>\n",
       "    <tr>\n",
       "      <th>442</th>\n",
       "      <td>Suelo</td>\n",
       "      <td>Alquiler</td>\n",
       "      <td>Girona</td>\n",
       "      <td>288</td>\n",
       "      <td>2699136</td>\n",
       "      <td>2004-07-28</td>\n",
       "      <td>Pedro</td>\n",
       "      <td>188</td>\n",
       "    </tr>\n",
       "    <tr>\n",
       "      <th>63</th>\n",
       "      <td>Industrial</td>\n",
       "      <td>Alquiler</td>\n",
       "      <td>Tarragona</td>\n",
       "      <td>112</td>\n",
       "      <td>1104992</td>\n",
       "      <td>2004-06-25</td>\n",
       "      <td>Pedro</td>\n",
       "      <td>45</td>\n",
       "    </tr>\n",
       "  </tbody>\n",
       "</table>\n",
       "<p>400 rows × 8 columns</p>\n",
       "</div>"
      ],
      "text/plain": [
       "           Tipo Operación  Provincia Superficie Precio_venta Fecha_venta  \\\n",
       "Id                                                                         \n",
       "160       Local  Alquiler     Girona        138       877680  2005-03-31   \n",
       "256     Oficina     Venta  Tarragona         42       367584  2004-08-11   \n",
       "155       Local  Alquiler  Tarragona        284      1431076  2004-12-22   \n",
       "473       Suelo     Venta  Tarragona        148      1431012  2004-09-01   \n",
       "441       Suelo  Alquiler     Girona        262      2404898  2004-10-20   \n",
       "..          ...       ...        ...        ...          ...         ...   \n",
       "248     Oficina     Venta     Girona        253      2047276  2004-09-10   \n",
       "465       Suelo     Venta     Lleida         56       471072  2004-05-29   \n",
       "339     Parking     Venta  Tarragona        234      1398852  2004-11-01   \n",
       "442       Suelo  Alquiler     Girona        288      2699136  2004-07-28   \n",
       "63   Industrial  Alquiler  Tarragona        112      1104992  2004-06-25   \n",
       "\n",
       "    Vendedor Edad_vendedor  \n",
       "Id                          \n",
       "160    Luisa            44  \n",
       "256  Joaquín            44  \n",
       "155    María            22  \n",
       "473    Jesús            38  \n",
       "441    Luisa            27  \n",
       "..       ...           ...  \n",
       "248    Luisa            74  \n",
       "465    María            43  \n",
       "339    María            26  \n",
       "442    Pedro           188  \n",
       "63     Pedro            45  \n",
       "\n",
       "[400 rows x 8 columns]"
      ]
     },
     "execution_count": 150,
     "metadata": {},
     "output_type": "execute_result"
    }
   ],
   "source": [
    "# Obten una muestra para trabajar de forma aleatoria\n",
    "\n",
    "df.sample() #Nos da un solo renglón\n",
    "df.sample(400) # Puedes usar directamente el número\n",
    "df_sample=df.sample(n=400)\n",
    "df_sample"
   ]
  },
  {
   "cell_type": "code",
   "execution_count": 151,
   "metadata": {
    "colab": {
     "base_uri": "https://localhost:8080/",
     "height": 455
    },
    "executionInfo": {
     "elapsed": 52,
     "status": "ok",
     "timestamp": 1740005111140,
     "user": {
      "displayName": "María de los Ángeles Constantino González",
      "userId": "00856176624250093095"
     },
     "user_tz": 360
    },
    "id": "D1L_RMUxO8i9",
    "outputId": "fd910682-f045-44b4-cead-110ace05cbe7"
   },
   "outputs": [
    {
     "data": {
      "text/html": [
       "<div>\n",
       "<style scoped>\n",
       "    .dataframe tbody tr th:only-of-type {\n",
       "        vertical-align: middle;\n",
       "    }\n",
       "\n",
       "    .dataframe tbody tr th {\n",
       "        vertical-align: top;\n",
       "    }\n",
       "\n",
       "    .dataframe thead th {\n",
       "        text-align: right;\n",
       "    }\n",
       "</style>\n",
       "<table border=\"1\" class=\"dataframe\">\n",
       "  <thead>\n",
       "    <tr style=\"text-align: right;\">\n",
       "      <th></th>\n",
       "      <th>Tipo</th>\n",
       "      <th>Operación</th>\n",
       "      <th>Provincia</th>\n",
       "      <th>Superficie</th>\n",
       "      <th>Precio_venta</th>\n",
       "      <th>Fecha_venta</th>\n",
       "      <th>Vendedor</th>\n",
       "      <th>Edad_vendedor</th>\n",
       "    </tr>\n",
       "    <tr>\n",
       "      <th>Id</th>\n",
       "      <th></th>\n",
       "      <th></th>\n",
       "      <th></th>\n",
       "      <th></th>\n",
       "      <th></th>\n",
       "      <th></th>\n",
       "      <th></th>\n",
       "      <th></th>\n",
       "    </tr>\n",
       "  </thead>\n",
       "  <tbody>\n",
       "    <tr>\n",
       "      <th>221</th>\n",
       "      <td>Oficina</td>\n",
       "      <td>Alquiler</td>\n",
       "      <td>Girona</td>\n",
       "      <td>174</td>\n",
       "      <td>720882</td>\n",
       "      <td>2004-08-14</td>\n",
       "      <td>Pedro</td>\n",
       "      <td>35</td>\n",
       "    </tr>\n",
       "    <tr>\n",
       "      <th>80</th>\n",
       "      <td>Industrial</td>\n",
       "      <td>Alquiler</td>\n",
       "      <td>Barcelona</td>\n",
       "      <td>225</td>\n",
       "      <td>1360800</td>\n",
       "      <td>2004-07-22</td>\n",
       "      <td>Jesús</td>\n",
       "      <td></td>\n",
       "    </tr>\n",
       "    <tr>\n",
       "      <th>475</th>\n",
       "      <td>Suelo</td>\n",
       "      <td>Venta</td>\n",
       "      <td>Tarragona</td>\n",
       "      <td>59</td>\n",
       "      <td>453651</td>\n",
       "      <td>2004-10-07</td>\n",
       "      <td>María</td>\n",
       "      <td>44</td>\n",
       "    </tr>\n",
       "    <tr>\n",
       "      <th>314</th>\n",
       "      <td>Parking</td>\n",
       "      <td>Alquiler</td>\n",
       "      <td>Lleida</td>\n",
       "      <td>299</td>\n",
       "      <td>1948583</td>\n",
       "      <td>2004-12-21</td>\n",
       "      <td>María</td>\n",
       "      <td>12</td>\n",
       "    </tr>\n",
       "    <tr>\n",
       "      <th>171</th>\n",
       "      <td>Local</td>\n",
       "      <td>Venta</td>\n",
       "      <td>Tarragona</td>\n",
       "      <td>68</td>\n",
       "      <td>664700</td>\n",
       "      <td>2004-10-01</td>\n",
       "      <td>NaN</td>\n",
       "      <td>78</td>\n",
       "    </tr>\n",
       "    <tr>\n",
       "      <th>...</th>\n",
       "      <td>...</td>\n",
       "      <td>...</td>\n",
       "      <td>...</td>\n",
       "      <td>...</td>\n",
       "      <td>...</td>\n",
       "      <td>...</td>\n",
       "      <td>...</td>\n",
       "      <td>...</td>\n",
       "    </tr>\n",
       "    <tr>\n",
       "      <th>219</th>\n",
       "      <td>Oficina</td>\n",
       "      <td>Alquiler</td>\n",
       "      <td>Lleida</td>\n",
       "      <td>128</td>\n",
       "      <td>1259904</td>\n",
       "      <td>2004-10-02</td>\n",
       "      <td>Luisa</td>\n",
       "      <td>88</td>\n",
       "    </tr>\n",
       "    <tr>\n",
       "      <th>83</th>\n",
       "      <td>Industrial</td>\n",
       "      <td>Alquiler</td>\n",
       "      <td>Girona</td>\n",
       "      <td>277</td>\n",
       "      <td>2456159</td>\n",
       "      <td>2004-08-04</td>\n",
       "      <td>María</td>\n",
       "      <td>33</td>\n",
       "    </tr>\n",
       "    <tr>\n",
       "      <th>66</th>\n",
       "      <td>Industrial</td>\n",
       "      <td>Alquiler</td>\n",
       "      <td>Barcelona</td>\n",
       "      <td>123</td>\n",
       "      <td>723609</td>\n",
       "      <td>2004-12-16</td>\n",
       "      <td>Joaquín</td>\n",
       "      <td></td>\n",
       "    </tr>\n",
       "    <tr>\n",
       "      <th>202</th>\n",
       "      <td>Local</td>\n",
       "      <td>Venta</td>\n",
       "      <td>Tarragona</td>\n",
       "      <td>215</td>\n",
       "      <td>870105</td>\n",
       "      <td>2005-04-02</td>\n",
       "      <td>Jesús</td>\n",
       "      <td>NaN</td>\n",
       "    </tr>\n",
       "    <tr>\n",
       "      <th>107</th>\n",
       "      <td>Industrial</td>\n",
       "      <td>Venta</td>\n",
       "      <td>Girona</td>\n",
       "      <td>118</td>\n",
       "      <td>1067192</td>\n",
       "      <td>2004-08-25</td>\n",
       "      <td>Carmen</td>\n",
       "      <td>34</td>\n",
       "    </tr>\n",
       "  </tbody>\n",
       "</table>\n",
       "<p>5000 rows × 8 columns</p>\n",
       "</div>"
      ],
      "text/plain": [
       "           Tipo Operación  Provincia Superficie Precio_venta Fecha_venta  \\\n",
       "Id                                                                         \n",
       "221     Oficina  Alquiler     Girona        174       720882  2004-08-14   \n",
       "80   Industrial  Alquiler  Barcelona        225      1360800  2004-07-22   \n",
       "475       Suelo     Venta  Tarragona         59       453651  2004-10-07   \n",
       "314     Parking  Alquiler     Lleida        299      1948583  2004-12-21   \n",
       "171       Local     Venta  Tarragona         68       664700  2004-10-01   \n",
       "..          ...       ...        ...        ...          ...         ...   \n",
       "219     Oficina  Alquiler     Lleida        128      1259904  2004-10-02   \n",
       "83   Industrial  Alquiler     Girona        277      2456159  2004-08-04   \n",
       "66   Industrial  Alquiler  Barcelona        123       723609  2004-12-16   \n",
       "202       Local     Venta  Tarragona        215       870105  2005-04-02   \n",
       "107  Industrial     Venta     Girona        118      1067192  2004-08-25   \n",
       "\n",
       "    Vendedor Edad_vendedor  \n",
       "Id                          \n",
       "221    Pedro            35  \n",
       "80     Jesús                \n",
       "475    María            44  \n",
       "314    María            12  \n",
       "171      NaN            78  \n",
       "..       ...           ...  \n",
       "219    Luisa            88  \n",
       "83     María            33  \n",
       "66   Joaquín                \n",
       "202    Jesús           NaN  \n",
       "107   Carmen            34  \n",
       "\n",
       "[5000 rows x 8 columns]"
      ]
     },
     "execution_count": 151,
     "metadata": {},
     "output_type": "execute_result"
    }
   ],
   "source": [
    "#Para generar una submuestra de tamaño mayor usamos el parametro replace = True\n",
    "df.sample(n=5000, replace=True)\n"
   ]
  },
  {
   "cell_type": "code",
   "execution_count": 152,
   "metadata": {
    "colab": {
     "base_uri": "https://localhost:8080/"
    },
    "executionInfo": {
     "elapsed": 16,
     "status": "ok",
     "timestamp": 1740005123641,
     "user": {
      "displayName": "María de los Ángeles Constantino González",
      "userId": "00856176624250093095"
     },
     "user_tz": 360
    },
    "id": "FYYjJ3zLPiKa",
    "outputId": "2933bb82-b57c-4b47-ed7b-87a43c211333"
   },
   "outputs": [
    {
     "data": {
      "text/plain": [
       "(500, 8)"
      ]
     },
     "execution_count": 152,
     "metadata": {},
     "output_type": "execute_result"
    }
   ],
   "source": [
    "#Un porcentaje del total\n",
    "df.sample(frac=0)\n",
    "\n",
    "df.sample(frac=0.5).shape\n",
    "\n",
    "df.sample(frac=1).shape"
   ]
  },
  {
   "cell_type": "code",
   "execution_count": 153,
   "metadata": {
    "executionInfo": {
     "elapsed": 3,
     "status": "ok",
     "timestamp": 1740005082420,
     "user": {
      "displayName": "María de los Ángeles Constantino González",
      "userId": "00856176624250093095"
     },
     "user_tz": 360
    },
    "id": "JQ246w9bBius"
   },
   "outputs": [],
   "source": [
    "# Primeros 1000 Renglones - Podemos usarlos para explorar las columnas y corregir el tipo de datos\n",
    "df.head(300).to_csv('Actividad.csv')"
   ]
  },
  {
   "cell_type": "code",
   "execution_count": 154,
   "metadata": {
    "executionInfo": {
     "elapsed": 52,
     "status": "ok",
     "timestamp": 1740005082475,
     "user": {
      "displayName": "María de los Ángeles Constantino González",
      "userId": "00856176624250093095"
     },
     "user_tz": 360
    },
    "id": "nzptZds5CE7c"
   },
   "outputs": [],
   "source": [
    "# Ultimos 1000 Renglones - Podemos usarlos para explorar las columnas y corregir el tipo de datos\n",
    "df.tail(300).to_csv('Actividad2.csv')"
   ]
  },
  {
   "cell_type": "markdown",
   "metadata": {
    "id": "sLr_K15VApAQ"
   },
   "source": [
    "## Corregir el formato del tipo de datos\n"
   ]
  },
  {
   "cell_type": "code",
   "execution_count": 155,
   "metadata": {
    "colab": {
     "base_uri": "https://localhost:8080/"
    },
    "executionInfo": {
     "elapsed": 7,
     "status": "ok",
     "timestamp": 1646691096696,
     "user": {
      "displayName": "Anna Karen Gárate Escamilla",
      "photoUrl": "https://lh3.googleusercontent.com/a/default-user=s64",
      "userId": "12647397618520851487"
     },
     "user_tz": 360
    },
    "id": "Kpsnjr8VCiWo",
    "outputId": "947581f9-94e7-40b5-f21c-ce749c9b14d8"
   },
   "outputs": [
    {
     "data": {
      "text/plain": [
       "Tipo              2\n",
       "Operación         1\n",
       "Provincia         8\n",
       "Superficie        0\n",
       "Precio_venta      0\n",
       "Fecha_venta       0\n",
       "Vendedor          1\n",
       "Edad_vendedor    53\n",
       "dtype: int64"
      ]
     },
     "execution_count": 155,
     "metadata": {},
     "output_type": "execute_result"
    }
   ],
   "source": [
    "df.isnull().sum()"
   ]
  },
  {
   "cell_type": "code",
   "execution_count": 156,
   "metadata": {
    "colab": {
     "base_uri": "https://localhost:8080/"
    },
    "executionInfo": {
     "elapsed": 419,
     "status": "ok",
     "timestamp": 1646691099232,
     "user": {
      "displayName": "Anna Karen Gárate Escamilla",
      "photoUrl": "https://lh3.googleusercontent.com/a/default-user=s64",
      "userId": "12647397618520851487"
     },
     "user_tz": 360
    },
    "id": "qfVK2C3cQFUa",
    "outputId": "041b4ea8-cd96-4a42-e205-576508ac3c18"
   },
   "outputs": [
    {
     "data": {
      "text/plain": [
       "Tipo                     object\n",
       "Operación                object\n",
       "Provincia                object\n",
       "Superficie               object\n",
       "Precio_venta             object\n",
       "Fecha_venta      datetime64[ns]\n",
       "Vendedor                 object\n",
       "Edad_vendedor            object\n",
       "dtype: object"
      ]
     },
     "execution_count": 156,
     "metadata": {},
     "output_type": "execute_result"
    }
   ],
   "source": [
    "df.dtypes"
   ]
  },
  {
   "cell_type": "markdown",
   "metadata": {
    "id": "poHDOGrXC_CO"
   },
   "source": [
    "### Cambiamos signos especiales usando pd.to_numeric coerce\n",
    "\n",
    "Coerce convierte los valores no númericos a NaN\n",
    "\n"
   ]
  },
  {
   "cell_type": "code",
   "execution_count": 157,
   "metadata": {
    "colab": {
     "base_uri": "https://localhost:8080/",
     "height": 454
    },
    "executionInfo": {
     "elapsed": 310,
     "status": "ok",
     "timestamp": 1646691101814,
     "user": {
      "displayName": "Anna Karen Gárate Escamilla",
      "photoUrl": "https://lh3.googleusercontent.com/a/default-user=s64",
      "userId": "12647397618520851487"
     },
     "user_tz": 360
    },
    "id": "hmmWZKXCCXme",
    "outputId": "047baed0-765d-4bf0-e1c0-a81811ba59a5"
   },
   "outputs": [
    {
     "data": {
      "text/html": [
       "<div>\n",
       "<style scoped>\n",
       "    .dataframe tbody tr th:only-of-type {\n",
       "        vertical-align: middle;\n",
       "    }\n",
       "\n",
       "    .dataframe tbody tr th {\n",
       "        vertical-align: top;\n",
       "    }\n",
       "\n",
       "    .dataframe thead th {\n",
       "        text-align: right;\n",
       "    }\n",
       "</style>\n",
       "<table border=\"1\" class=\"dataframe\">\n",
       "  <thead>\n",
       "    <tr style=\"text-align: right;\">\n",
       "      <th></th>\n",
       "      <th>Tipo</th>\n",
       "      <th>Operación</th>\n",
       "      <th>Provincia</th>\n",
       "      <th>Superficie</th>\n",
       "      <th>Precio_venta</th>\n",
       "      <th>Fecha_venta</th>\n",
       "      <th>Vendedor</th>\n",
       "      <th>Edad_vendedor</th>\n",
       "    </tr>\n",
       "    <tr>\n",
       "      <th>Id</th>\n",
       "      <th></th>\n",
       "      <th></th>\n",
       "      <th></th>\n",
       "      <th></th>\n",
       "      <th></th>\n",
       "      <th></th>\n",
       "      <th></th>\n",
       "      <th></th>\n",
       "    </tr>\n",
       "  </thead>\n",
       "  <tbody>\n",
       "    <tr>\n",
       "      <th>0</th>\n",
       "      <td>Casa</td>\n",
       "      <td>Alquiler</td>\n",
       "      <td>Girona</td>\n",
       "      <td>179.0</td>\n",
       "      <td>937960.0</td>\n",
       "      <td>2004-11-21</td>\n",
       "      <td>Carmen</td>\n",
       "      <td>43.0</td>\n",
       "    </tr>\n",
       "    <tr>\n",
       "      <th>1</th>\n",
       "      <td>Casa</td>\n",
       "      <td>Alquiler</td>\n",
       "      <td>Tarragona</td>\n",
       "      <td>58.0</td>\n",
       "      <td>358846.0</td>\n",
       "      <td>2004-10-08</td>\n",
       "      <td>Luisa</td>\n",
       "      <td>22.0</td>\n",
       "    </tr>\n",
       "    <tr>\n",
       "      <th>2</th>\n",
       "      <td>Casa</td>\n",
       "      <td>Alquiler</td>\n",
       "      <td>Girona</td>\n",
       "      <td>183.0</td>\n",
       "      <td>1438929.0</td>\n",
       "      <td>2004-04-21</td>\n",
       "      <td>Luisa</td>\n",
       "      <td>70.0</td>\n",
       "    </tr>\n",
       "    <tr>\n",
       "      <th>3</th>\n",
       "      <td>Casa</td>\n",
       "      <td>Alquiler</td>\n",
       "      <td>Barcelona</td>\n",
       "      <td>187.0</td>\n",
       "      <td>1660560.0</td>\n",
       "      <td>2004-06-16</td>\n",
       "      <td>Joaquín</td>\n",
       "      <td>55.0</td>\n",
       "    </tr>\n",
       "    <tr>\n",
       "      <th>4</th>\n",
       "      <td>Casa</td>\n",
       "      <td>Alquiler</td>\n",
       "      <td>Tarragona</td>\n",
       "      <td>91.0</td>\n",
       "      <td>753571.0</td>\n",
       "      <td>2004-07-07</td>\n",
       "      <td>Luisa</td>\n",
       "      <td>26.0</td>\n",
       "    </tr>\n",
       "    <tr>\n",
       "      <th>...</th>\n",
       "      <td>...</td>\n",
       "      <td>...</td>\n",
       "      <td>...</td>\n",
       "      <td>...</td>\n",
       "      <td>...</td>\n",
       "      <td>...</td>\n",
       "      <td>...</td>\n",
       "      <td>...</td>\n",
       "    </tr>\n",
       "    <tr>\n",
       "      <th>495</th>\n",
       "      <td>Suelo</td>\n",
       "      <td>Venta</td>\n",
       "      <td>Lleida</td>\n",
       "      <td>215.0</td>\n",
       "      <td>2097970.0</td>\n",
       "      <td>2004-11-13</td>\n",
       "      <td>Pedro</td>\n",
       "      <td>45.0</td>\n",
       "    </tr>\n",
       "    <tr>\n",
       "      <th>496</th>\n",
       "      <td>Suelo</td>\n",
       "      <td>Venta</td>\n",
       "      <td>Girona</td>\n",
       "      <td>185.0</td>\n",
       "      <td>1616900.0</td>\n",
       "      <td>2005-04-08</td>\n",
       "      <td>Jesús</td>\n",
       "      <td>35.0</td>\n",
       "    </tr>\n",
       "    <tr>\n",
       "      <th>497</th>\n",
       "      <td>Suelo</td>\n",
       "      <td>Venta</td>\n",
       "      <td>Tarragona</td>\n",
       "      <td>297.0</td>\n",
       "      <td>1820016.0</td>\n",
       "      <td>2005-01-08</td>\n",
       "      <td>María</td>\n",
       "      <td>NaN</td>\n",
       "    </tr>\n",
       "    <tr>\n",
       "      <th>498</th>\n",
       "      <td>Suelo</td>\n",
       "      <td>Venta</td>\n",
       "      <td>Girona</td>\n",
       "      <td>199.0</td>\n",
       "      <td>1622646.0</td>\n",
       "      <td>2005-06-23</td>\n",
       "      <td>Jesús</td>\n",
       "      <td>NaN</td>\n",
       "    </tr>\n",
       "    <tr>\n",
       "      <th>499</th>\n",
       "      <td>Suelo</td>\n",
       "      <td>Venta</td>\n",
       "      <td>Lleida</td>\n",
       "      <td>58.0</td>\n",
       "      <td>530816.0</td>\n",
       "      <td>2004-10-07</td>\n",
       "      <td>Luisa</td>\n",
       "      <td>55.0</td>\n",
       "    </tr>\n",
       "  </tbody>\n",
       "</table>\n",
       "<p>500 rows × 8 columns</p>\n",
       "</div>"
      ],
      "text/plain": [
       "      Tipo Operación  Provincia  Superficie  Precio_venta Fecha_venta  \\\n",
       "Id                                                                      \n",
       "0     Casa  Alquiler     Girona       179.0      937960.0  2004-11-21   \n",
       "1     Casa  Alquiler  Tarragona        58.0      358846.0  2004-10-08   \n",
       "2     Casa  Alquiler     Girona       183.0     1438929.0  2004-04-21   \n",
       "3     Casa  Alquiler  Barcelona       187.0     1660560.0  2004-06-16   \n",
       "4     Casa  Alquiler  Tarragona        91.0      753571.0  2004-07-07   \n",
       "..     ...       ...        ...         ...           ...         ...   \n",
       "495  Suelo     Venta     Lleida       215.0     2097970.0  2004-11-13   \n",
       "496  Suelo     Venta     Girona       185.0     1616900.0  2005-04-08   \n",
       "497  Suelo     Venta  Tarragona       297.0     1820016.0  2005-01-08   \n",
       "498  Suelo     Venta     Girona       199.0     1622646.0  2005-06-23   \n",
       "499  Suelo     Venta     Lleida        58.0      530816.0  2004-10-07   \n",
       "\n",
       "    Vendedor  Edad_vendedor  \n",
       "Id                           \n",
       "0     Carmen           43.0  \n",
       "1      Luisa           22.0  \n",
       "2      Luisa           70.0  \n",
       "3    Joaquín           55.0  \n",
       "4      Luisa           26.0  \n",
       "..       ...            ...  \n",
       "495    Pedro           45.0  \n",
       "496    Jesús           35.0  \n",
       "497    María            NaN  \n",
       "498    Jesús            NaN  \n",
       "499    Luisa           55.0  \n",
       "\n",
       "[500 rows x 8 columns]"
      ]
     },
     "execution_count": 157,
     "metadata": {},
     "output_type": "execute_result"
    }
   ],
   "source": [
    "# Hacemos una copia para no modificar el dataframe original\n",
    "df_coerce = df.copy()\n",
    "\n",
    "# Usando pd.to_numeric, se cambian los errores a nulos\n",
    "df_coerce['Superficie'] = pd.to_numeric(df_coerce['Superficie'], errors= 'coerce')\n",
    "df_coerce['Precio_venta'] = pd.to_numeric(df_coerce['Precio_venta'], errors= 'coerce')\n",
    "df_coerce['Edad_vendedor'] = pd.to_numeric(df_coerce['Edad_vendedor'], errors= 'coerce') #.isnull() nos va a decir si es verdadero o falso\n",
    "df_coerce"
   ]
  },
  {
   "cell_type": "code",
   "execution_count": 158,
   "metadata": {
    "colab": {
     "base_uri": "https://localhost:8080/"
    },
    "executionInfo": {
     "elapsed": 303,
     "status": "ok",
     "timestamp": 1646691110475,
     "user": {
      "displayName": "Anna Karen Gárate Escamilla",
      "photoUrl": "https://lh3.googleusercontent.com/a/default-user=s64",
      "userId": "12647397618520851487"
     },
     "user_tz": 360
    },
    "id": "b5sVxOMeE6r6",
    "outputId": "47f792b8-00ca-4b5d-a226-4535692a666f"
   },
   "outputs": [
    {
     "data": {
      "text/plain": [
       "Tipo              2\n",
       "Operación         1\n",
       "Provincia         8\n",
       "Superficie       10\n",
       "Precio_venta     16\n",
       "Fecha_venta       0\n",
       "Vendedor          1\n",
       "Edad_vendedor    56\n",
       "dtype: int64"
      ]
     },
     "execution_count": 158,
     "metadata": {},
     "output_type": "execute_result"
    }
   ],
   "source": [
    "df_coerce.isnull().sum()"
   ]
  },
  {
   "cell_type": "code",
   "execution_count": 159,
   "metadata": {
    "colab": {
     "base_uri": "https://localhost:8080/"
    },
    "executionInfo": {
     "elapsed": 284,
     "status": "ok",
     "timestamp": 1646691115044,
     "user": {
      "displayName": "Anna Karen Gárate Escamilla",
      "photoUrl": "https://lh3.googleusercontent.com/a/default-user=s64",
      "userId": "12647397618520851487"
     },
     "user_tz": 360
    },
    "id": "60FOPh7DFS8T",
    "outputId": "1f1ec3b2-cba2-42d9-c41d-d0bdac925e07"
   },
   "outputs": [
    {
     "data": {
      "text/plain": [
       "Tipo                     object\n",
       "Operación                object\n",
       "Provincia                object\n",
       "Superficie              float64\n",
       "Precio_venta            float64\n",
       "Fecha_venta      datetime64[ns]\n",
       "Vendedor                 object\n",
       "Edad_vendedor           float64\n",
       "dtype: object"
      ]
     },
     "execution_count": 159,
     "metadata": {},
     "output_type": "execute_result"
    }
   ],
   "source": [
    "df_coerce.dtypes"
   ]
  },
  {
   "cell_type": "markdown",
   "metadata": {
    "id": "z8IgGayADUSs"
   },
   "source": [
    "### Cambiamos signos especiales usando astype\n",
    "\n",
    "Es el comportamiento que utiliza to_numeric si no puede convertir un valor, raise hará una excepción, no cambia los valores no numéricos."
   ]
  },
  {
   "cell_type": "code",
   "execution_count": 160,
   "metadata": {
    "colab": {
     "base_uri": "https://localhost:8080/",
     "height": 306
    },
    "executionInfo": {
     "elapsed": 288,
     "status": "error",
     "timestamp": 1646691140605,
     "user": {
      "displayName": "Anna Karen Gárate Escamilla",
      "photoUrl": "https://lh3.googleusercontent.com/a/default-user=s64",
      "userId": "12647397618520851487"
     },
     "user_tz": 360
    },
    "id": "acapUWogQJGX",
    "outputId": "c0742e1a-2472-46e8-afe6-bf3cd5f6f959"
   },
   "outputs": [
    {
     "ename": "ValueError",
     "evalue": "Unable to parse string \" \" at position 72",
     "output_type": "error",
     "traceback": [
      "\u001b[0;31m---------------------------------------------------------------------------\u001b[0m",
      "\u001b[0;31mValueError\u001b[0m                                Traceback (most recent call last)",
      "File \u001b[0;32mlib.pyx:2391\u001b[0m, in \u001b[0;36mpandas._libs.lib.maybe_convert_numeric\u001b[0;34m()\u001b[0m\n",
      "\u001b[0;31mValueError\u001b[0m: Unable to parse string \" \"",
      "\nDuring handling of the above exception, another exception occurred:\n",
      "\u001b[0;31mValueError\u001b[0m                                Traceback (most recent call last)",
      "Cell \u001b[0;32mIn[160], line 5\u001b[0m\n\u001b[1;32m      2\u001b[0m df_raise \u001b[38;5;241m=\u001b[39m df\u001b[38;5;241m.\u001b[39mcopy()\n\u001b[1;32m      4\u001b[0m \u001b[38;5;66;03m# Usando pd.to_numeric, se cambian los errores a nulos, nos vamos a encontrar con errores\u001b[39;00m\n\u001b[0;32m----> 5\u001b[0m df_raise[\u001b[38;5;124m'\u001b[39m\u001b[38;5;124mSuperficie\u001b[39m\u001b[38;5;124m'\u001b[39m] \u001b[38;5;241m=\u001b[39m \u001b[43mpd\u001b[49m\u001b[38;5;241;43m.\u001b[39;49m\u001b[43mto_numeric\u001b[49m\u001b[43m(\u001b[49m\u001b[43mdf_raise\u001b[49m\u001b[43m[\u001b[49m\u001b[38;5;124;43m'\u001b[39;49m\u001b[38;5;124;43mSuperficie\u001b[39;49m\u001b[38;5;124;43m'\u001b[39;49m\u001b[43m]\u001b[49m\u001b[43m,\u001b[49m\u001b[43m \u001b[49m\u001b[43merrors\u001b[49m\u001b[38;5;241;43m=\u001b[39;49m\u001b[43m \u001b[49m\u001b[38;5;124;43m'\u001b[39;49m\u001b[38;5;124;43mraise\u001b[39;49m\u001b[38;5;124;43m'\u001b[39;49m\u001b[43m)\u001b[49m\n\u001b[1;32m      6\u001b[0m df_raise[\u001b[38;5;124m'\u001b[39m\u001b[38;5;124mPrecio_venta\u001b[39m\u001b[38;5;124m'\u001b[39m] \u001b[38;5;241m=\u001b[39m pd\u001b[38;5;241m.\u001b[39mto_numeric(df_raise[\u001b[38;5;124m'\u001b[39m\u001b[38;5;124mPrecio_venta\u001b[39m\u001b[38;5;124m'\u001b[39m], errors\u001b[38;5;241m=\u001b[39m \u001b[38;5;124m'\u001b[39m\u001b[38;5;124mraise\u001b[39m\u001b[38;5;124m'\u001b[39m)\n\u001b[1;32m      7\u001b[0m df_raise[\u001b[38;5;124m'\u001b[39m\u001b[38;5;124mEdad_vendedor\u001b[39m\u001b[38;5;124m'\u001b[39m] \u001b[38;5;241m=\u001b[39m pd\u001b[38;5;241m.\u001b[39mto_numeric(df_raise[\u001b[38;5;124m'\u001b[39m\u001b[38;5;124mEdad_vendedor\u001b[39m\u001b[38;5;124m'\u001b[39m], errors\u001b[38;5;241m=\u001b[39m \u001b[38;5;124m'\u001b[39m\u001b[38;5;124mraise\u001b[39m\u001b[38;5;124m'\u001b[39m)\n",
      "File \u001b[0;32m~/opt/anaconda3/envs/TC2004B/lib/python3.12/site-packages/pandas/core/tools/numeric.py:232\u001b[0m, in \u001b[0;36mto_numeric\u001b[0;34m(arg, errors, downcast, dtype_backend)\u001b[0m\n\u001b[1;32m    230\u001b[0m coerce_numeric \u001b[38;5;241m=\u001b[39m errors \u001b[38;5;129;01mnot\u001b[39;00m \u001b[38;5;129;01min\u001b[39;00m (\u001b[38;5;124m\"\u001b[39m\u001b[38;5;124mignore\u001b[39m\u001b[38;5;124m\"\u001b[39m, \u001b[38;5;124m\"\u001b[39m\u001b[38;5;124mraise\u001b[39m\u001b[38;5;124m\"\u001b[39m)\n\u001b[1;32m    231\u001b[0m \u001b[38;5;28;01mtry\u001b[39;00m:\n\u001b[0;32m--> 232\u001b[0m     values, new_mask \u001b[38;5;241m=\u001b[39m \u001b[43mlib\u001b[49m\u001b[38;5;241;43m.\u001b[39;49m\u001b[43mmaybe_convert_numeric\u001b[49m\u001b[43m(\u001b[49m\u001b[43m  \u001b[49m\u001b[38;5;66;43;03m# type: ignore[call-overload]\u001b[39;49;00m\n\u001b[1;32m    233\u001b[0m \u001b[43m        \u001b[49m\u001b[43mvalues\u001b[49m\u001b[43m,\u001b[49m\n\u001b[1;32m    234\u001b[0m \u001b[43m        \u001b[49m\u001b[38;5;28;43mset\u001b[39;49m\u001b[43m(\u001b[49m\u001b[43m)\u001b[49m\u001b[43m,\u001b[49m\n\u001b[1;32m    235\u001b[0m \u001b[43m        \u001b[49m\u001b[43mcoerce_numeric\u001b[49m\u001b[38;5;241;43m=\u001b[39;49m\u001b[43mcoerce_numeric\u001b[49m\u001b[43m,\u001b[49m\n\u001b[1;32m    236\u001b[0m \u001b[43m        \u001b[49m\u001b[43mconvert_to_masked_nullable\u001b[49m\u001b[38;5;241;43m=\u001b[39;49m\u001b[43mdtype_backend\u001b[49m\u001b[43m \u001b[49m\u001b[38;5;129;43;01mis\u001b[39;49;00m\u001b[43m \u001b[49m\u001b[38;5;129;43;01mnot\u001b[39;49;00m\u001b[43m \u001b[49m\u001b[43mlib\u001b[49m\u001b[38;5;241;43m.\u001b[39;49m\u001b[43mno_default\u001b[49m\n\u001b[1;32m    237\u001b[0m \u001b[43m        \u001b[49m\u001b[38;5;129;43;01mor\u001b[39;49;00m\u001b[43m \u001b[49m\u001b[38;5;28;43misinstance\u001b[39;49m\u001b[43m(\u001b[49m\u001b[43mvalues_dtype\u001b[49m\u001b[43m,\u001b[49m\u001b[43m \u001b[49m\u001b[43mStringDtype\u001b[49m\u001b[43m)\u001b[49m\n\u001b[1;32m    238\u001b[0m \u001b[43m        \u001b[49m\u001b[38;5;129;43;01mand\u001b[39;49;00m\u001b[43m \u001b[49m\u001b[38;5;129;43;01mnot\u001b[39;49;00m\u001b[43m \u001b[49m\u001b[43mvalues_dtype\u001b[49m\u001b[38;5;241;43m.\u001b[39;49m\u001b[43mstorage\u001b[49m\u001b[43m \u001b[49m\u001b[38;5;241;43m==\u001b[39;49m\u001b[43m \u001b[49m\u001b[38;5;124;43m\"\u001b[39;49m\u001b[38;5;124;43mpyarrow_numpy\u001b[39;49m\u001b[38;5;124;43m\"\u001b[39;49m\u001b[43m,\u001b[49m\n\u001b[1;32m    239\u001b[0m \u001b[43m    \u001b[49m\u001b[43m)\u001b[49m\n\u001b[1;32m    240\u001b[0m \u001b[38;5;28;01mexcept\u001b[39;00m (\u001b[38;5;167;01mValueError\u001b[39;00m, \u001b[38;5;167;01mTypeError\u001b[39;00m):\n\u001b[1;32m    241\u001b[0m     \u001b[38;5;28;01mif\u001b[39;00m errors \u001b[38;5;241m==\u001b[39m \u001b[38;5;124m\"\u001b[39m\u001b[38;5;124mraise\u001b[39m\u001b[38;5;124m\"\u001b[39m:\n",
      "File \u001b[0;32mlib.pyx:2433\u001b[0m, in \u001b[0;36mpandas._libs.lib.maybe_convert_numeric\u001b[0;34m()\u001b[0m\n",
      "\u001b[0;31mValueError\u001b[0m: Unable to parse string \" \" at position 72"
     ]
    }
   ],
   "source": [
    "# Hacemos una copia para no modificar el dataframe original\n",
    "df_raise = df.copy()\n",
    "\n",
    "# Usando pd.to_numeric, se cambian los errores a nulos, nos vamos a encontrar con errores\n",
    "df_raise['Superficie'] = pd.to_numeric(df_raise['Superficie'], errors= 'raise')\n",
    "df_raise['Precio_venta'] = pd.to_numeric(df_raise['Precio_venta'], errors= 'raise')\n",
    "df_raise['Edad_vendedor'] = pd.to_numeric(df_raise['Edad_vendedor'], errors= 'raise')\n",
    "\n",
    "##Si usaramos ignore, simplemente ignora la operación si encuentra un valor invalido"
   ]
  },
  {
   "cell_type": "markdown",
   "metadata": {
    "id": "QtmewCeLDgbs"
   },
   "source": [
    "## Cambiar inconsistencia de variables\n",
    "\n",
    "Por ejemplo, no puede exitir un tipo de vivienda que se llame pisar, por lo que tenemos que inferirir que se trata de piso, así que cambiaremos el nombre por piso"
   ]
  },
  {
   "cell_type": "code",
   "execution_count": null,
   "metadata": {
    "id": "tXgjx8N0D1vZ"
   },
   "outputs": [],
   "source": [
    "#Corregimos la variable usando replace\n",
    "#Columna Tipo\n",
    "df_coerce['Tipo']=df_coerce['Tipo'].replace('Pisar','Piso')\n",
    "\n",
    "#Columna Operacion\n",
    "df_coerce['Operación']=df_coerce['Operación'].replace(' ',0)\n",
    "\n",
    "#Columna Superficie\n",
    "df_coerce['Superficie']=df_coerce['Superficie'].replace(' ',0)\n",
    "\n",
    "#Columna Precio_venta\n",
    "df_coerce['Precio_venta']=df_coerce['Precio_venta'].replace(' ',0)\n",
    "\n",
    "#Columna Edad_vendedor\n",
    "df_coerce['Edad_vendedor']=df_coerce['Edad_vendedor'].replace('Pisar','Piso')\n"
   ]
  },
  {
   "cell_type": "code",
   "execution_count": null,
   "metadata": {
    "id": "xHLP8y_rEA1W"
   },
   "outputs": [],
   "source": [
    "#Utilizamos de nuevo value_counts() para ver el nuevo conteo\n",
    "df_coerce = df_coerce['Tipo'].value_counts()\n"
   ]
  },
  {
   "cell_type": "markdown",
   "metadata": {
    "id": "wVn-fQasR0zq"
   },
   "source": [
    "## Eliminamos outliers y valores vacíos"
   ]
  },
  {
   "cell_type": "markdown",
   "metadata": {
    "id": "tKJj2iQKXYr9"
   },
   "source": [
    "### Valores vacíos\n",
    "\n",
    "En este ejercicio vamos a observar que sucede si eliminamos todos los valores vacíos"
   ]
  },
  {
   "cell_type": "code",
   "execution_count": null,
   "metadata": {
    "colab": {
     "base_uri": "https://localhost:8080/",
     "height": 335
    },
    "executionInfo": {
     "elapsed": 39,
     "status": "ok",
     "timestamp": 1740005374553,
     "user": {
      "displayName": "María de los Ángeles Constantino González",
      "userId": "00856176624250093095"
     },
     "user_tz": 360
    },
    "id": "f3EgEeArFkR2",
    "outputId": "0c646ae3-e7f8-4d0a-9187-cfc516fbeff4"
   },
   "outputs": [],
   "source": [
    "df.isnull().sum()"
   ]
  },
  {
   "cell_type": "code",
   "execution_count": null,
   "metadata": {
    "colab": {
     "base_uri": "https://localhost:8080/",
     "height": 455
    },
    "executionInfo": {
     "elapsed": 33,
     "status": "ok",
     "timestamp": 1740005374600,
     "user": {
      "displayName": "María de los Ángeles Constantino González",
      "userId": "00856176624250093095"
     },
     "user_tz": 360
    },
    "id": "sgfS1SWwR79h",
    "outputId": "a80e5a54-d648-4428-df3a-bcc45c28dd83"
   },
   "outputs": [],
   "source": [
    "#Eliminamos los valores NaNs de la tabla\n",
    "df = df.dropna(axis=0)\n",
    "df"
   ]
  },
  {
   "cell_type": "code",
   "execution_count": null,
   "metadata": {
    "colab": {
     "base_uri": "https://localhost:8080/",
     "height": 143
    },
    "executionInfo": {
     "elapsed": 3,
     "status": "ok",
     "timestamp": 1740005374605,
     "user": {
      "displayName": "María de los Ángeles Constantino González",
      "userId": "00856176624250093095"
     },
     "user_tz": 360
    },
    "id": "OYB3pyvkR-zJ",
    "outputId": "ba3bc4c1-dc91-4419-db16-8254815c7216"
   },
   "outputs": [],
   "source": [
    "#Reiniciamos el Index\n",
    "df.dropna(axis=0).reset_index().tail(3)\n"
   ]
  },
  {
   "cell_type": "code",
   "execution_count": null,
   "metadata": {
    "colab": {
     "base_uri": "https://localhost:8080/",
     "height": 158
    },
    "executionInfo": {
     "elapsed": 18,
     "status": "error",
     "timestamp": 1740005374624,
     "user": {
      "displayName": "María de los Ángeles Constantino González",
      "userId": "00856176624250093095"
     },
     "user_tz": 360
    },
    "id": "LZYC4cA0uNwN",
    "outputId": "5dc40edf-0d9d-490f-fc91-9d1b370ca1bf"
   },
   "outputs": [],
   "source": [
    "#Identificamos vacíos usando isna\n",
    "df.isna().any()"
   ]
  },
  {
   "cell_type": "code",
   "execution_count": null,
   "metadata": {
    "executionInfo": {
     "elapsed": 1,
     "status": "aborted",
     "timestamp": 1740005374764,
     "user": {
      "displayName": "María de los Ángeles Constantino González",
      "userId": "00856176624250093095"
     },
     "user_tz": 360
    },
    "id": "-P1Zcu1UvR_k"
   },
   "outputs": [],
   "source": [
    "#Identificamos vacíos usando isnull\n",
    "df.isnull().sum()"
   ]
  },
  {
   "cell_type": "markdown",
   "metadata": {
    "id": "Au4rIsG0BMJk"
   },
   "source": [
    "## Imputación de datos\n",
    "\n",
    "Reemplazar datos con erroes o faltantes, el metodo depende de la cantidad de datos faltantes."
   ]
  },
  {
   "cell_type": "markdown",
   "metadata": {},
   "source": [
    "## M2 act 2\n",
    "## Alvaro José Bolaños Vega - A00838866\n",
    "\n",
    "## Resumen notebook\n",
    "\n",
    "- Leemos el archivo xlsx y lo ponemos en un data frame con pandas\n",
    "- Reseteamos index, añadiendo una columna index dentro del data frame\n",
    "- Cambiar el nombre de index a ID\n",
    "- Se inicia un análisis exploratorio. Se ve la forma del data frame y se revisan los primeros y últimos datos\n",
    "- Se revisan los tipos de datos, muchos de ellos son object cuando podrían ser números o strings simples.\n",
    "- La columna cuartos tiene muchos datos nulos.\n",
    "- Se hace un análisis estadístico descriptivo básico\n",
    "- Se cuenten y ven porcentajes de nulos por columna, cuartos y vendedores tienen muchos nulos\n",
    "- Se identifican los tipo de Tipo y cuantos hay por cada uno\n",
    "- Analizando el resto de columnas se ven errores en los nombres(ortografía y símbolos) de los tipos y varios valores con tipo espacio.\n",
    "- En la columna edad del vendedor se ven errores en los datos como edades no posibles\n",
    "- PreProcesamiento de datos\n",
    "- Se hacen arreglos simples cómo renombrar columnas y quitar columnas innecesarias o con muchos errores\n",
    "- Se eliminan valores no válidos, se renombran datos con errores identificables, se modifican tipos de datos a string y numérico\n",
    "- En el nuevo df ya no hay errores.\n"
   ]
  }
 ],
 "metadata": {
  "colab": {
   "collapsed_sections": [
    "Sg5F1IhkyDXj",
    "qGxP2lGbZFiG",
    "dpLOKBlEZVjZ",
    "wh-Al_6MbgOG",
    "mJcHGNwGZh7a",
    "DlyPgEaPZwMi",
    "HBPzFNr2Z0-w",
    "Zi2Zu8VTAXjb",
    "SKCXNTPxAsne",
    "wVn-fQasR0zq",
    "Au4rIsG0BMJk"
   ],
   "provenance": [
    {
     "file_id": "1M4GudRvemQnZ5TvQsME3iLPcbFhUqYmU",
     "timestamp": 1740005472076
    },
    {
     "file_id": "1ihN1sJNCAXwJ_o_tT3SRQ2uczJn03RM-",
     "timestamp": 1652503701248
    },
    {
     "file_id": "1ba-F3PzJlctmBHbdybeoKoVi6grAgxWk",
     "timestamp": 1630598976471
    }
   ],
   "toc_visible": true
  },
  "kernelspec": {
   "display_name": "TC2004B",
   "language": "python",
   "name": "python3"
  },
  "language_info": {
   "codemirror_mode": {
    "name": "ipython",
    "version": 3
   },
   "file_extension": ".py",
   "mimetype": "text/x-python",
   "name": "python",
   "nbconvert_exporter": "python",
   "pygments_lexer": "ipython3",
   "version": "3.12.9"
  }
 },
 "nbformat": 4,
 "nbformat_minor": 0
}
