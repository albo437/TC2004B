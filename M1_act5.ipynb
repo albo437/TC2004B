{
 "cells": [
  {
   "cell_type": "markdown",
   "metadata": {},
   "source": [
    "### Alvaro José Bolaños Vega\n",
    "### A00838866\n",
    "\n",
    "## M1 Actividad 5"
   ]
  },
  {
   "cell_type": "code",
   "execution_count": 2,
   "metadata": {},
   "outputs": [],
   "source": [
    "import numpy as np\n",
    "import pandas as pd"
   ]
  },
  {
   "cell_type": "markdown",
   "metadata": {},
   "source": [
    "# **Ejercicio 1 (Numpy)**\n",
    "1.- Crear un vector “x” con 10 ceros y mostrarlo.<br>\n",
    "2.- Modificar el quinto elemento del vector x para que su valor sea 3.<br>\n",
    "3.- Crear un vector “y” con valores del 1 al 20, de 1 en 1. Utiliza la función arange.<br>\n",
    "4.- Crear un vector “z” con valores del 1 al 20, de 2 en 2.<br>\n",
    "5.- Crear una matriz w de 3x2, con valores iniciales en 0.<br>\n",
    "6.- Modificar el elemento en la posición 2,2 de la matriz w para que su valor sea 5.<br>\n",
    "7.- Crear un vector de 5 elementos, con valores aleatorios enteros entre 1 y 10.<br>\n",
    "8.- Crear el arreglo x1 de la lista [1,2,3]<br>\n",
    "9.-  Sumar 10 a cada elemento del vector<br>"
   ]
  },
  {
   "cell_type": "code",
   "execution_count": 16,
   "metadata": {},
   "outputs": [
    {
     "name": "stdout",
     "output_type": "stream",
     "text": [
      "[0. 0. 0. 0. 0. 0. 0. 0. 0. 0.]\n",
      "[0. 0. 0. 0. 3. 0. 0. 0. 0. 0.]\n",
      "[ 1  2  3  4  5  6  7  8  9 10 11 12 13 14 15 16 17 18 19]\n",
      "[ 1  3  5  7  9 11 13 15 17 19]\n",
      "[[0. 0.]\n",
      " [0. 0.]\n",
      " [0. 0.]]\n",
      "[[0. 0.]\n",
      " [0. 5.]\n",
      " [0. 0.]]\n",
      "[9.00038735 4.72737802 4.5922806  4.17081683 3.1465996 ]\n",
      "[1 2 3]\n",
      "[11 12 13]\n"
     ]
    }
   ],
   "source": [
    "# 1.\n",
    "x = np.zeros(10)\n",
    "print(x)\n",
    "\n",
    "# 2.\n",
    "x[4] = 3\n",
    "print(x)\n",
    "\n",
    "# 3.\n",
    "y = np.arange(1, 20)\n",
    "print(y)\n",
    "\n",
    "# 4.\n",
    "z = np.arange(1, 20, 2)\n",
    "print(z)\n",
    "\n",
    "# 5.\n",
    "w = np.zeros((3, 2))\n",
    "print(w)\n",
    "\n",
    "# 6.\n",
    "w[1,1] = 5\n",
    "print(w)\n",
    "\n",
    "# 7.\n",
    "rand = np.random.uniform(1, 10, 5)\n",
    "print(rand)\n",
    "\n",
    "# 8.\n",
    "x1 = np.array([1, 2, 3])\n",
    "print(x1)\n",
    "\n",
    "# 9.\n",
    "x1 += 10\n",
    "print(x1)\n"
   ]
  }
 ],
 "metadata": {
  "kernelspec": {
   "display_name": "TC2004B",
   "language": "python",
   "name": "python3"
  },
  "language_info": {
   "codemirror_mode": {
    "name": "ipython",
    "version": 3
   },
   "file_extension": ".py",
   "mimetype": "text/x-python",
   "name": "python",
   "nbconvert_exporter": "python",
   "pygments_lexer": "ipython3",
   "version": "3.12.9"
  }
 },
 "nbformat": 4,
 "nbformat_minor": 2
}
