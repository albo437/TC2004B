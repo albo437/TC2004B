{
 "cells": [
  {
   "cell_type": "markdown",
   "metadata": {},
   "source": [
    "Most of this activity is taken from: \n",
    "## [mlcourse.ai](https://mlcourse.ai) - Open Machine Learning Course\n",
    "\n",
    "Author: [Yury Kashnitsky](https://www.linkedin.com/in/festline/). Translated and edited by [Sergey Isaev](https://www.linkedin.com/in/isvforall/), [Artem Trunov](https://www.linkedin.com/in/datamove/), [Anastasia Manokhina](https://www.linkedin.com/in/anastasiamanokhina/), and [Yuanyuan Pao](https://www.linkedin.com/in/yuanyuanpao/). All content is distributed under the [Creative Commons CC BY-NC-SA 4.0](https://creativecommons.org/licenses/by-nc-sa/4.0/) license."
   ]
  },
  {
   "cell_type": "markdown",
   "metadata": {},
   "source": [
    "Unique values of all features (for more information, please see the links above):\n",
    "- `age`: continuous.\n",
    "- `workclass`: Private, Self-emp-not-inc, Self-emp-inc, Federal-gov, Local-gov, State-gov, Without-pay, Never-worked.\n",
    "- `fnlwgt`: continuous.\n",
    "- `education`: Bachelors, Some-college, 11th, HS-grad, Prof-school, Assoc-acdm, Assoc-voc, 9th, 7th-8th, 12th, Masters, 1st-4th, 10th, Doctorate, 5th-6th, Preschool.\n",
    "- `education-num`: continuous.\n",
    "- `marital-status`: Married-civ-spouse, Divorced, Never-married, Separated, Widowed, Married-spouse-absent, Married-AF-spouse.\n",
    "- `occupation`: Tech-support, Craft-repair, Other-service, Sales, Exec-managerial, Prof-specialty, Handlers-cleaners, Machine-op-inspct, Adm-clerical, Farming-fishing, Transport-moving, Priv-house-serv, Protective-serv, Armed-Forces.\n",
    "- `relationship`: Wife, Own-child, Husband, Not-in-family, Other-relative, Unmarried.\n",
    "- `race`: White, Asian-Pac-Islander, Amer-Indian-Eskimo, Other, Black.\n",
    "- `sex`: Female, Male.\n",
    "- `capital-gain`: continuous.\n",
    "- `capital-loss`: continuous.\n",
    "- `hours-per-week`: continuous.\n",
    "- `native-country`: United-States, Cambodia, England, Puerto-Rico, Canada, Germany, Outlying-US(Guam-USVI-etc), India, Japan, Greece, South, China, Cuba, Iran, Honduras, Philippines, Italy, Poland, Jamaica, Vietnam, Mexico, Portugal, Ireland, France, Dominican-Republic, Laos, Ecuador, Taiwan, Haiti, Columbia, Hungary, Guatemala, Nicaragua, Scotland, Thailand, Yugoslavia, El-Salvador, Trinadad&Tobago, Peru, Hong, Holand-Netherlands.   \n",
    "- `salary`: >50K,<=50K"
   ]
  },
  {
   "cell_type": "code",
   "execution_count": 4,
   "metadata": {
    "ExecuteTime": {
     "end_time": "2021-03-22T06:53:38.060229Z",
     "start_time": "2021-03-22T06:53:37.397773Z"
    }
   },
   "outputs": [],
   "source": [
    "import numpy as np\n",
    "import pandas as pd\n",
    "pd.set_option('display.max.columns', 100)\n",
    "# to draw pictures in jupyter notebook\n",
    "import matplotlib.pyplot as plt\n",
    "import seaborn as sns\n",
    "# we don't like warnings\n",
    "# you can comment the following 2 lines if you'd like to\n",
    "import warnings\n",
    "warnings.filterwarnings('ignore')"
   ]
  },
  {
   "cell_type": "code",
   "execution_count": 5,
   "metadata": {
    "ExecuteTime": {
     "end_time": "2021-03-22T06:53:39.067776Z",
     "start_time": "2021-03-22T06:53:38.904138Z"
    }
   },
   "outputs": [
    {
     "data": {
      "text/html": [
       "<div>\n",
       "<style scoped>\n",
       "    .dataframe tbody tr th:only-of-type {\n",
       "        vertical-align: middle;\n",
       "    }\n",
       "\n",
       "    .dataframe tbody tr th {\n",
       "        vertical-align: top;\n",
       "    }\n",
       "\n",
       "    .dataframe thead th {\n",
       "        text-align: right;\n",
       "    }\n",
       "</style>\n",
       "<table border=\"1\" class=\"dataframe\">\n",
       "  <thead>\n",
       "    <tr style=\"text-align: right;\">\n",
       "      <th></th>\n",
       "      <th>age</th>\n",
       "      <th>workclass</th>\n",
       "      <th>fnlwgt</th>\n",
       "      <th>education</th>\n",
       "      <th>education-num</th>\n",
       "      <th>marital-status</th>\n",
       "      <th>occupation</th>\n",
       "      <th>relationship</th>\n",
       "      <th>race</th>\n",
       "      <th>sex</th>\n",
       "      <th>capital-gain</th>\n",
       "      <th>capital-loss</th>\n",
       "      <th>hours-per-week</th>\n",
       "      <th>native-country</th>\n",
       "      <th>salary</th>\n",
       "    </tr>\n",
       "  </thead>\n",
       "  <tbody>\n",
       "    <tr>\n",
       "      <th>0</th>\n",
       "      <td>39</td>\n",
       "      <td>State-gov</td>\n",
       "      <td>77516</td>\n",
       "      <td>Bachelors</td>\n",
       "      <td>13</td>\n",
       "      <td>Never-married</td>\n",
       "      <td>Adm-clerical</td>\n",
       "      <td>Not-in-family</td>\n",
       "      <td>White</td>\n",
       "      <td>Male</td>\n",
       "      <td>2174</td>\n",
       "      <td>0</td>\n",
       "      <td>40</td>\n",
       "      <td>United-States</td>\n",
       "      <td>&lt;=50K</td>\n",
       "    </tr>\n",
       "    <tr>\n",
       "      <th>1</th>\n",
       "      <td>50</td>\n",
       "      <td>Self-emp-not-inc</td>\n",
       "      <td>83311</td>\n",
       "      <td>Bachelors</td>\n",
       "      <td>13</td>\n",
       "      <td>Married-civ-spouse</td>\n",
       "      <td>Exec-managerial</td>\n",
       "      <td>Husband</td>\n",
       "      <td>White</td>\n",
       "      <td>Male</td>\n",
       "      <td>0</td>\n",
       "      <td>0</td>\n",
       "      <td>13</td>\n",
       "      <td>United-States</td>\n",
       "      <td>&lt;=50K</td>\n",
       "    </tr>\n",
       "    <tr>\n",
       "      <th>2</th>\n",
       "      <td>38</td>\n",
       "      <td>Private</td>\n",
       "      <td>215646</td>\n",
       "      <td>HS-grad</td>\n",
       "      <td>9</td>\n",
       "      <td>Divorced</td>\n",
       "      <td>Handlers-cleaners</td>\n",
       "      <td>Not-in-family</td>\n",
       "      <td>White</td>\n",
       "      <td>Male</td>\n",
       "      <td>0</td>\n",
       "      <td>0</td>\n",
       "      <td>40</td>\n",
       "      <td>United-States</td>\n",
       "      <td>&lt;=50K</td>\n",
       "    </tr>\n",
       "    <tr>\n",
       "      <th>3</th>\n",
       "      <td>53</td>\n",
       "      <td>Private</td>\n",
       "      <td>234721</td>\n",
       "      <td>11th</td>\n",
       "      <td>7</td>\n",
       "      <td>Married-civ-spouse</td>\n",
       "      <td>Handlers-cleaners</td>\n",
       "      <td>Husband</td>\n",
       "      <td>Black</td>\n",
       "      <td>Male</td>\n",
       "      <td>0</td>\n",
       "      <td>0</td>\n",
       "      <td>40</td>\n",
       "      <td>United-States</td>\n",
       "      <td>&lt;=50K</td>\n",
       "    </tr>\n",
       "    <tr>\n",
       "      <th>4</th>\n",
       "      <td>28</td>\n",
       "      <td>Private</td>\n",
       "      <td>338409</td>\n",
       "      <td>Bachelors</td>\n",
       "      <td>13</td>\n",
       "      <td>Married-civ-spouse</td>\n",
       "      <td>Prof-specialty</td>\n",
       "      <td>Wife</td>\n",
       "      <td>Black</td>\n",
       "      <td>Female</td>\n",
       "      <td>0</td>\n",
       "      <td>0</td>\n",
       "      <td>40</td>\n",
       "      <td>Cuba</td>\n",
       "      <td>&lt;=50K</td>\n",
       "    </tr>\n",
       "  </tbody>\n",
       "</table>\n",
       "</div>"
      ],
      "text/plain": [
       "   age         workclass  fnlwgt  education  education-num  \\\n",
       "0   39         State-gov   77516  Bachelors             13   \n",
       "1   50  Self-emp-not-inc   83311  Bachelors             13   \n",
       "2   38           Private  215646    HS-grad              9   \n",
       "3   53           Private  234721       11th              7   \n",
       "4   28           Private  338409  Bachelors             13   \n",
       "\n",
       "       marital-status         occupation   relationship   race     sex  \\\n",
       "0       Never-married       Adm-clerical  Not-in-family  White    Male   \n",
       "1  Married-civ-spouse    Exec-managerial        Husband  White    Male   \n",
       "2            Divorced  Handlers-cleaners  Not-in-family  White    Male   \n",
       "3  Married-civ-spouse  Handlers-cleaners        Husband  Black    Male   \n",
       "4  Married-civ-spouse     Prof-specialty           Wife  Black  Female   \n",
       "\n",
       "   capital-gain  capital-loss  hours-per-week native-country salary  \n",
       "0          2174             0              40  United-States  <=50K  \n",
       "1             0             0              13  United-States  <=50K  \n",
       "2             0             0              40  United-States  <=50K  \n",
       "3             0             0              40  United-States  <=50K  \n",
       "4             0             0              40           Cuba  <=50K  "
      ]
     },
     "execution_count": 5,
     "metadata": {},
     "output_type": "execute_result"
    }
   ],
   "source": [
    "data = pd.read_csv('./adult.data.csv')\n",
    "data.head()"
   ]
  },
  {
   "cell_type": "markdown",
   "metadata": {},
   "source": [
    "**1. How many men and women (*sex* feature) are represented in this dataset?** "
   ]
  },
  {
   "cell_type": "code",
   "execution_count": null,
   "metadata": {
    "ExecuteTime": {
     "end_time": "2021-03-22T06:54:49.659438Z",
     "start_time": "2021-03-22T06:54:49.651566Z"
    }
   },
   "outputs": [
    {
     "name": "stdout",
     "output_type": "stream",
     "text": [
      "Males 21790\n",
      "Females 10771\n"
     ]
    }
   ],
   "source": [
    "print('Males', data[data['sex'] == 'Male']['sex'].count())\n",
    "print('Females', data[data['sex'] == 'Female']['sex'].count())"
   ]
  },
  {
   "cell_type": "markdown",
   "metadata": {},
   "source": [
    "**2. What is the average age (*age* feature) of women?**"
   ]
  },
  {
   "cell_type": "code",
   "execution_count": 15,
   "metadata": {
    "ExecuteTime": {
     "end_time": "2021-03-22T07:00:32.421622Z",
     "start_time": "2021-03-22T07:00:32.413727Z"
    }
   },
   "outputs": [
    {
     "name": "stdout",
     "output_type": "stream",
     "text": [
      "Females 36.85823043357163\n"
     ]
    }
   ],
   "source": [
    "print('Females', data[data['sex'] == 'Female']['age'].mean())"
   ]
  },
  {
   "cell_type": "markdown",
   "metadata": {},
   "source": [
    "**3. What is the percentage of German citizens (*native-country* feature)?**"
   ]
  },
  {
   "cell_type": "code",
   "execution_count": 16,
   "metadata": {
    "ExecuteTime": {
     "end_time": "2021-03-22T06:56:30.275992Z",
     "start_time": "2021-03-22T06:56:30.269791Z"
    }
   },
   "outputs": [
    {
     "name": "stdout",
     "output_type": "stream",
     "text": [
      "Percentage of german citizens 0.004207487485028101\n"
     ]
    }
   ],
   "source": [
    "print('Percentage of german citizens', data[data['native-country'] == 'Germany']['native-country'].count() / data['native-country'].count())"
   ]
  },
  {
   "cell_type": "markdown",
   "metadata": {},
   "source": [
    "4-5. __What are the mean and standard deviation of age for those who earn more than 50K per year (*salary* feature) and those who earn less than 50K per year?__"
   ]
  },
  {
   "cell_type": "code",
   "execution_count": 33,
   "metadata": {
    "ExecuteTime": {
     "end_time": "2021-03-22T07:03:57.013775Z",
     "start_time": "2021-03-22T07:03:56.992757Z"
    }
   },
   "outputs": [
    {
     "name": "stdout",
     "output_type": "stream",
     "text": [
      "Mean age of those who earn more than 50K 44.24984058155847\n"
     ]
    }
   ],
   "source": [
    "print('Mean age of those who earn more than 50K', data[data['salary'] == '>50K']['age'].mean())"
   ]
  },
  {
   "cell_type": "code",
   "execution_count": 32,
   "metadata": {
    "ExecuteTime": {
     "end_time": "2021-03-22T07:04:07.023850Z",
     "start_time": "2021-03-22T07:04:06.993847Z"
    }
   },
   "outputs": [
    {
     "name": "stdout",
     "output_type": "stream",
     "text": [
      "Mean age of those who earn less than 50K 36.78373786407767\n"
     ]
    }
   ],
   "source": [
    "print('Mean age of those who earn less than 50K', data[data['salary'] == '<=50K']['age'].mean())"
   ]
  },
  {
   "cell_type": "markdown",
   "metadata": {},
   "source": [
    "**6. Is it true that people who earn more than 50K have at least high school education? (*education – Bachelors, Prof-school, Assoc-acdm, Assoc-voc, Masters* or *Doctorate* feature)**"
   ]
  },
  {
   "cell_type": "code",
   "execution_count": 34,
   "metadata": {
    "ExecuteTime": {
     "end_time": "2021-03-22T07:06:41.473111Z",
     "start_time": "2021-03-22T07:06:41.462980Z"
    }
   },
   "outputs": [
    {
     "name": "stdout",
     "output_type": "stream",
     "text": [
      "education\n",
      "Bachelors       2221\n",
      "HS-grad         1675\n",
      "Some-college    1387\n",
      "Masters          959\n",
      "Prof-school      423\n",
      "Assoc-voc        361\n",
      "Doctorate        306\n",
      "Assoc-acdm       265\n",
      "10th              62\n",
      "11th              60\n",
      "7th-8th           40\n",
      "12th              33\n",
      "9th               27\n",
      "5th-6th           16\n",
      "1st-4th            6\n",
      "Name: count, dtype: int64\n",
      "FALSO\n"
     ]
    }
   ],
   "source": [
    "print(data[data['salary'] == '>50K']['education'].value_counts())\n",
    "print('FALSO')"
   ]
  },
  {
   "cell_type": "markdown",
   "metadata": {},
   "source": [
    "**7. Display age statistics for each race (*race* feature) and each gender (*sex* feature). Use *groupby()* and *describe()*. Find the maximum age of men of *Amer-Indian-Eskimo* race.**"
   ]
  },
  {
   "cell_type": "code",
   "execution_count": null,
   "metadata": {
    "ExecuteTime": {
     "end_time": "2021-03-22T07:05:38.736530Z",
     "start_time": "2021-03-22T07:05:38.613472Z"
    }
   },
   "outputs": [
    {
     "name": "stdout",
     "output_type": "stream",
     "text": [
      "                        age                                                \\\n",
      "                      count       mean        std   min   25%   50%   75%   \n",
      "race                                                                        \n",
      "Amer-Indian-Eskimo    311.0  37.173633  12.447130  17.0  28.0  35.0  45.5   \n",
      "Asian-Pac-Islander   1039.0  37.746872  12.825133  17.0  28.0  36.0  45.0   \n",
      "Black                3124.0  37.767926  12.759290  17.0  28.0  36.0  46.0   \n",
      "Other                 271.0  33.457565  11.538865  17.0  25.0  31.0  41.0   \n",
      "White               27816.0  38.769881  13.782306  17.0  28.0  37.0  48.0   \n",
      "\n",
      "                           fnlwgt                                         \\\n",
      "                     max    count           mean            std      min   \n",
      "race                                                                       \n",
      "Amer-Indian-Eskimo  82.0    311.0  120831.147910   88338.636336  12285.0   \n",
      "Asian-Pac-Islander  90.0   1039.0  159940.609240   85122.307505  14878.0   \n",
      "Black               90.0   3124.0  228013.124200  123600.677422  19752.0   \n",
      "Other               77.0    271.0  197124.191882   88856.775370  24562.0   \n",
      "White               90.0  27816.0  187298.064280  103124.944196  18827.0   \n",
      "\n",
      "                                                            education-num  \\\n",
      "                         25%       50%       75%        max         count   \n",
      "race                                                                        \n",
      "Amer-Indian-Eskimo   35036.5  102541.0  176142.0   445168.0         311.0   \n",
      "Asian-Pac-Islander   93321.0  143098.0  194456.0   506329.0        1039.0   \n",
      "Black               148212.0  205934.0  281693.0  1268339.0        3124.0   \n",
      "Other               138103.0  188793.0  240091.0   481175.0         271.0   \n",
      "White               116902.5  177627.0  233542.5  1484705.0       27816.0   \n",
      "\n",
      "                                                                     \\\n",
      "                         mean       std  min  25%   50%   75%   max   \n",
      "race                                                                  \n",
      "Amer-Indian-Eskimo   9.311897  2.310387  2.0  9.0   9.0  10.0  16.0   \n",
      "Asian-Pac-Islander  10.960539  2.811582  1.0  9.0  10.0  13.0  16.0   \n",
      "Black                9.486236  2.297893  1.0  9.0   9.0  10.0  16.0   \n",
      "Other                8.841328  3.226153  1.0  7.5   9.0  10.0  16.0   \n",
      "White               10.135246  2.570307  1.0  9.0  10.0  13.0  16.0   \n",
      "\n",
      "                   capital-gain                                                \\\n",
      "                          count         mean          std  min  25%  50%  75%   \n",
      "race                                                                            \n",
      "Amer-Indian-Eskimo        311.0   625.266881  2753.238961  0.0  0.0  0.0  0.0   \n",
      "Asian-Pac-Islander       1039.0  1478.358037  9986.156906  0.0  0.0  0.0  0.0   \n",
      "Black                    3124.0   609.940461  5139.653447  0.0  0.0  0.0  0.0   \n",
      "Other                     271.0   934.660517  8625.128995  0.0  0.0  0.0  0.0   \n",
      "White                   27816.0  1121.660375  7504.533302  0.0  0.0  0.0  0.0   \n",
      "\n",
      "                            capital-loss                                   \\\n",
      "                        max        count       mean         std  min  25%   \n",
      "race                                                                        \n",
      "Amer-Indian-Eskimo  27828.0        311.0  34.176849  245.583106  0.0  0.0   \n",
      "Asian-Pac-Islander  99999.0       1039.0  97.222329  423.556931  0.0  0.0   \n",
      "Black               99999.0       3124.0  60.385083  337.394121  0.0  0.0   \n",
      "Other               99999.0        271.0  61.070111  322.452705  0.0  0.0   \n",
      "White               99999.0      27816.0  90.806155  410.833347  0.0  0.0   \n",
      "\n",
      "                                     hours-per-week                        \\\n",
      "                    50%  75%     max          count       mean        std   \n",
      "race                                                                        \n",
      "Amer-Indian-Eskimo  0.0  0.0  1980.0          311.0  40.048232  11.695364   \n",
      "Asian-Pac-Islander  0.0  0.0  2457.0         1039.0  40.127045  12.556816   \n",
      "Black               0.0  0.0  4356.0         3124.0  38.422855  10.315646   \n",
      "Other               0.0  0.0  2179.0          271.0  39.468635  11.143755   \n",
      "White               0.0  0.0  4356.0        27816.0  40.689100  12.544796   \n",
      "\n",
      "                                                 \n",
      "                    min   25%   50%   75%   max  \n",
      "race                                             \n",
      "Amer-Indian-Eskimo  3.0  40.0  40.0  40.0  84.0  \n",
      "Asian-Pac-Islander  1.0  40.0  40.0  40.0  99.0  \n",
      "Black               1.0  37.0  40.0  40.0  99.0  \n",
      "Other               5.0  36.0  40.0  40.0  98.0  \n",
      "White               1.0  40.0  40.0  45.0  99.0  \n",
      "            age                                                       fnlwgt  \\\n",
      "          count       mean        std   min   25%   50%   75%   max    count   \n",
      "sex                                                                            \n",
      "Female  10771.0  36.858230  14.013697  17.0  25.0  35.0  46.0  90.0  10771.0   \n",
      "Male    21790.0  39.433547  13.370630  17.0  29.0  38.0  48.0  90.0  21790.0   \n",
      "\n",
      "                                                                               \\\n",
      "                 mean            std      min        25%       50%        75%   \n",
      "sex                                                                             \n",
      "Female  185746.311206  102986.078821  12285.0  117363.00  176077.0  228331.50   \n",
      "Male    191771.449013  106740.702676  13769.0  118200.75  180140.0  241146.25   \n",
      "\n",
      "                  education-num                                             \\\n",
      "              max         count       mean       std  min  25%   50%   75%   \n",
      "sex                                                                          \n",
      "Female  1484705.0       10771.0  10.035744  2.379954  1.0  9.0  10.0  12.0   \n",
      "Male    1455435.0       21790.0  10.102891  2.662630  1.0  9.0  10.0  13.0   \n",
      "\n",
      "             capital-gain                                                \\\n",
      "         max        count         mean          std  min  25%  50%  75%   \n",
      "sex                                                                       \n",
      "Female  16.0      10771.0   568.410547  4924.262944  0.0  0.0  0.0  0.0   \n",
      "Male    16.0      21790.0  1329.370078  8326.312095  0.0  0.0  0.0  0.0   \n",
      "\n",
      "                capital-loss                                              \\\n",
      "            max        count        mean         std  min  25%  50%  75%   \n",
      "sex                                                                        \n",
      "Female  99999.0      10771.0   61.187633  340.907518  0.0  0.0  0.0  0.0   \n",
      "Male    99999.0      21790.0  100.213309  429.763097  0.0  0.0  0.0  0.0   \n",
      "\n",
      "               hours-per-week                                               \\\n",
      "           max          count       mean        std  min   25%   50%   75%   \n",
      "sex                                                                          \n",
      "Female  4356.0        10771.0  36.410361  11.811300  1.0  30.0  40.0  40.0   \n",
      "Male    3770.0        21790.0  42.428086  12.119755  1.0  40.0  40.0  49.0   \n",
      "\n",
      "              \n",
      "         max  \n",
      "sex           \n",
      "Female  99.0  \n",
      "Male    99.0  \n"
     ]
    }
   ],
   "source": [
    "print(data.groupby('race').describe())\n",
    "print(data.groupby('sex').describe())\n",
    "print(82)"
   ]
  },
  {
   "cell_type": "markdown",
   "metadata": {},
   "source": [
    "**8. What is the maximum number of hours a person works per week (*hours-per-week* feature)? How many people work such a number of hours, and what is the percentage of those who earn a lot (>50K) among them?**"
   ]
  },
  {
   "cell_type": "code",
   "execution_count": 29,
   "metadata": {
    "ExecuteTime": {
     "end_time": "2021-03-22T07:17:08.379401Z",
     "start_time": "2021-03-22T07:17:08.372735Z"
    }
   },
   "outputs": [
    {
     "name": "stdout",
     "output_type": "stream",
     "text": [
      "99\n",
      "85\n",
      "0.29411764705882354\n"
     ]
    }
   ],
   "source": [
    "print(data['hours-per-week'].max())\n",
    "print(data[data['hours-per-week'] == 99]['hours-per-week'].count())\n",
    "\n",
    "print((data[(data['hours-per-week'] == 99) & (data['salary'] == '>50K')]['hours-per-week'].count()) / data[data['hours-per-week'] == 99]['hours-per-week'].count())"
   ]
  },
  {
   "cell_type": "markdown",
   "metadata": {},
   "source": [
    "**9. Find the average time of work (*hours-per-week*) for those who earn a little and a lot (*salary*) for each country (*native-country*). What will these be for Japan?**"
   ]
  },
  {
   "cell_type": "code",
   "execution_count": 31,
   "metadata": {
    "ExecuteTime": {
     "end_time": "2021-03-22T07:13:27.966924Z",
     "start_time": "2021-03-22T07:13:27.957408Z"
    }
   },
   "outputs": [
    {
     "name": "stdout",
     "output_type": "stream",
     "text": [
      "native-country  salary\n",
      "?               <=50K     40.164760\n",
      "                >50K      45.547945\n",
      "Cambodia        <=50K     41.416667\n",
      "                >50K      40.000000\n",
      "Canada          <=50K     37.914634\n",
      "                            ...    \n",
      "United-States   >50K      45.505369\n",
      "Vietnam         <=50K     37.193548\n",
      "                >50K      39.200000\n",
      "Yugoslavia      <=50K     41.600000\n",
      "                >50K      49.500000\n",
      "Name: hours-per-week, Length: 82, dtype: float64\n",
      "47.958333333333336\n",
      "41.0\n"
     ]
    }
   ],
   "source": [
    "# mean time of work per country per salary\n",
    "print(data.groupby(['native-country', 'salary'])['hours-per-week'].mean())\n",
    "# Japan\n",
    "print(data[(data['native-country'] == 'Japan') & (data['salary'] == '>50K')]['hours-per-week'].mean())\n",
    "print(data[(data['native-country'] == 'Japan') & (data['salary'] == '<=50K')]['hours-per-week'].mean())\n",
    "\n"
   ]
  },
  {
   "cell_type": "markdown",
   "metadata": {},
   "source": [
    "__10. Create 2 visualizations (what to plot is up to you) and write the conclusions generated with those plots from the dataset__ "
   ]
  },
  {
   "cell_type": "code",
   "execution_count": 35,
   "metadata": {},
   "outputs": [
    {
     "data": {
      "text/plain": [
       "Text(0.5, 1.0, 'Distribution of people with salary >50K')"
      ]
     },
     "execution_count": 35,
     "metadata": {},
     "output_type": "execute_result"
    },
    {
     "data": {
      "image/png": "[encoded data removed]",
      "text/plain": [
       "<Figure size 1000x600 with 1 Axes>"
      ]
     },
     "metadata": {},
     "output_type": "display_data"
    }
   ],
   "source": [
    "education = data[data['salary'] == '>50K']['education'].value_counts()\n",
    "# plot the data\n",
    "plt.figure(figsize=(10, 6))\n",
    "sns.barplot(x=education.index, y=education.values)\n",
    "plt.title('Distribution of people with salary >50K')\n"
   ]
  },
  {
   "cell_type": "code",
   "execution_count": null,
   "metadata": {},
   "outputs": [
    {
     "data": {
      "text/plain": [
       "Text(0.5, 1.0, 'Distribution of people who work 99 hours per week')"
      ]
     },
     "execution_count": 37,
     "metadata": {},
     "output_type": "execute_result"
    },
    {
     "data": {
      "image/png": "[encoded data removed]",
      "text/plain": [
       "<Figure size 1000x600 with 1 Axes>"
      ]
     },
     "metadata": {},
     "output_type": "display_data"
    }
   ],
   "source": [
    "#plot of salary of those who work the most hours\n",
    "hours = data[data['hours-per-week'] == 99]['salary'].value_counts()\n",
    "# plot the data\n",
    "plt.figure(figsize=(10, 6))\n",
    "sns.barplot(x=hours.index, y=hours.values)\n",
    "plt.title('Distribution of people who work 99 hours per week')\n",
    "\n",
    "\n"
   ]
  },
  {
   "cell_type": "code",
   "execution_count": 38,
   "metadata": {},
   "outputs": [
    {
     "name": "stdout",
     "output_type": "stream",
     "text": [
      "As we can see, the most of the people who earn more than 50K have a degree of Bachelors or higher. Theres no correlation\n",
      "between the hours worked and the salary, as the people who work the most hours are not the ones who earn more than 50K.f\n"
     ]
    }
   ],
   "source": [
    "conclusion = \"\"\"As we can see, the most of the people who earn more than 50K have a degree of Bachelors or higher. Theres no correlation\n",
    "between the hours worked and the salary, as the people who work the most hours are not the ones who earn more than 50K.f\"\"\"\n",
    "print(conclusion)"
   ]
  }
 ],
 "metadata": {
  "anaconda-cloud": {},
  "hide_input": false,
  "kernelspec": {
   "display_name": "TC2004B",
   "language": "python",
   "name": "python3"
  },
  "language_info": {
   "codemirror_mode": {
    "name": "ipython",
    "version": 3
   },
   "file_extension": ".py",
   "mimetype": "text/x-python",
   "name": "python",
   "nbconvert_exporter": "python",
   "pygments_lexer": "ipython3",
   "version": "3.12.9"
  },
  "varInspector": {
   "cols": {
    "lenName": 16,
    "lenType": 16,
    "lenVar": 40
   },
   "kernels_config": {
    "python": {
     "delete_cmd_postfix": "",
     "delete_cmd_prefix": "del ",
     "library": "var_list.py",
     "varRefreshCmd": "print(var_dic_list())"
    },
    "r": {
     "delete_cmd_postfix": ") ",
     "delete_cmd_prefix": "rm(",
     "library": "var_list.r",
     "varRefreshCmd": "cat(var_dic_list()) "
    }
   },
   "types_to_exclude": [
    "module",
    "function",
    "builtin_function_or_method",
    "instance",
    "_Feature"
   ],
   "window_display": false
  }
 },
 "nbformat": 4,
 "nbformat_minor": 1
}
